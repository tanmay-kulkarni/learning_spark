{
 "cells": [
  {
   "cell_type": "code",
   "execution_count": 0,
   "metadata": {
    "application/vnd.databricks.v1+cell": {
     "cellMetadata": {
      "byteLimit": 2048000,
      "rowLimit": 10000
     },
     "inputWidgets": {},
     "nuid": "5af0ee8a-4a02-438b-93b9-ec092ee2c9cd",
     "showTitle": false,
     "title": ""
    }
   },
   "outputs": [
    {
     "output_type": "display_data",
     "data": {
      "text/html": [
       "<style scoped>\n",
       "  .table-result-container {\n",
       "    max-height: 300px;\n",
       "    overflow: auto;\n",
       "  }\n",
       "  table, th, td {\n",
       "    border: 1px solid black;\n",
       "    border-collapse: collapse;\n",
       "  }\n",
       "  th, td {\n",
       "    padding: 5px;\n",
       "  }\n",
       "  th {\n",
       "    text-align: left;\n",
       "  }\n",
       "</style><div class='table-result-container'><table class='table-result'><thead style='background-color: white'><tr><th>path</th><th>name</th><th>size</th><th>modificationTime</th></tr></thead><tbody><tr><td>dbfs:/Volume/</td><td>Volume/</td><td>0</td><td>0</td></tr><tr><td>dbfs:/Volumes/</td><td>Volumes/</td><td>0</td><td>0</td></tr><tr><td>dbfs:/databricks-datasets/</td><td>databricks-datasets/</td><td>0</td><td>0</td></tr><tr><td>dbfs:/databricks-results/</td><td>databricks-results/</td><td>0</td><td>0</td></tr><tr><td>dbfs:/exam_prep/</td><td>exam_prep/</td><td>0</td><td>1720271830000</td></tr><tr><td>dbfs:/user/</td><td>user/</td><td>0</td><td>1720350559000</td></tr><tr><td>dbfs:/volume/</td><td>volume/</td><td>0</td><td>0</td></tr><tr><td>dbfs:/volumes/</td><td>volumes/</td><td>0</td><td>0</td></tr></tbody></table></div>"
      ]
     },
     "metadata": {
      "application/vnd.databricks.v1+output": {
       "addedWidgets": {},
       "aggData": [],
       "aggError": "",
       "aggOverflow": false,
       "aggSchema": [],
       "aggSeriesLimitReached": false,
       "aggType": "",
       "arguments": {},
       "columnCustomDisplayInfos": {},
       "data": [
        [
         "dbfs:/Volume/",
         "Volume/",
         0,
         0
        ],
        [
         "dbfs:/Volumes/",
         "Volumes/",
         0,
         0
        ],
        [
         "dbfs:/databricks-datasets/",
         "databricks-datasets/",
         0,
         0
        ],
        [
         "dbfs:/databricks-results/",
         "databricks-results/",
         0,
         0
        ],
        [
         "dbfs:/exam_prep/",
         "exam_prep/",
         0,
         1720271830000
        ],
        [
         "dbfs:/user/",
         "user/",
         0,
         1720350559000
        ],
        [
         "dbfs:/volume/",
         "volume/",
         0,
         0
        ],
        [
         "dbfs:/volumes/",
         "volumes/",
         0,
         0
        ]
       ],
       "datasetInfos": [],
       "dbfsResultPath": null,
       "isJsonSchema": true,
       "metadata": {
        "isDbfsCommandResult": false
       },
       "overflow": false,
       "plotOptions": {
        "customPlotOptions": {},
        "displayType": "table",
        "pivotAggregation": null,
        "pivotColumns": null,
        "xColumns": null,
        "yColumns": null
       },
       "removedWidgets": [],
       "schema": [
        {
         "metadata": "{}",
         "name": "path",
         "type": "\"string\""
        },
        {
         "metadata": "{}",
         "name": "name",
         "type": "\"string\""
        },
        {
         "metadata": "{}",
         "name": "size",
         "type": "\"long\""
        },
        {
         "metadata": "{}",
         "name": "modificationTime",
         "type": "\"long\""
        }
       ],
       "type": "table"
      }
     },
     "output_type": "display_data"
    }
   ],
   "source": [
    "%fs ls"
   ]
  },
  {
   "cell_type": "code",
   "execution_count": 0,
   "metadata": {
    "application/vnd.databricks.v1+cell": {
     "cellMetadata": {
      "byteLimit": 2048000,
      "rowLimit": 10000
     },
     "inputWidgets": {},
     "nuid": "e74f581a-c540-4af9-a470-4c1ef7638240",
     "showTitle": false,
     "title": ""
    }
   },
   "outputs": [],
   "source": [
    "from pyspark.sql import Row\n",
    "\n",
    "import datetime\n",
    "\n",
    "\n",
    "courses = [\n",
    "    {\n",
    "        'course_id': 1,\n",
    "        'course_title': 'Mastering Python',\n",
    "        'course_published_dt': datetime.date(2021, 1, 14),\n",
    "        'is_active': True,\n",
    "        'last_updated_ts': datetime.datetime(2021, 2, 18, 16, 57, 25)\n",
    "    },\n",
    "    {\n",
    "        'course_id': 2,\n",
    "        'course_title': 'Data Engineering Essentials',\n",
    "        'course_published_dt': datetime.date(2021, 2, 10),\n",
    "        'is_active': True,\n",
    "        'last_updated_ts': datetime.datetime(2021, 3, 5, 12, 7, 33)\n",
    "    },\n",
    "    {\n",
    "        'course_id': 3,\n",
    "        'course_title': 'Mastering Pyspark',\n",
    "        'course_published_dt': datetime.date(2021, 1, 7),\n",
    "        'is_active': True,\n",
    "        'last_updated_ts': datetime.datetime(2021, 4, 6, 10, 5, 42)\n",
    "    },\n",
    "    {\n",
    "        'course_id': 4,\n",
    "        'course_title': 'AWS Essentials',\n",
    "        'course_published_dt': datetime.date(2021, 3, 19),\n",
    "        'is_active': False,\n",
    "        'last_updated_ts': datetime.datetime(2021, 4, 10, 2, 25, 36)\n",
    "    },\n",
    "    {\n",
    "        'course_id': 5,\n",
    "        'course_title': 'Docker 101',\n",
    "        'course_published_dt': datetime.date(2021, 2, 28),\n",
    "        'is_active': True,\n",
    "        'last_updated_ts': datetime.datetime(2021, 3, 21, 7, 18, 52)\n",
    "    }\n",
    "]\n",
    "\n",
    "courses_df = spark.createDataFrame([Row(**course) for course in courses])"
   ]
  },
  {
   "cell_type": "code",
   "execution_count": 0,
   "metadata": {
    "application/vnd.databricks.v1+cell": {
     "cellMetadata": {
      "byteLimit": 2048000,
      "rowLimit": 10000
     },
     "inputWidgets": {},
     "nuid": "54bf4f9b-28c7-4c9a-a8d2-62d81237c7e7",
     "showTitle": false,
     "title": ""
    }
   },
   "outputs": [
    {
     "output_type": "stream",
     "name": "stdout",
     "output_type": "stream",
     "text": [
      "+---------+--------------------+-------------------+---------+-------------------+\n|course_id|        course_title|course_published_dt|is_active|    last_updated_ts|\n+---------+--------------------+-------------------+---------+-------------------+\n|        1|    Mastering Python|         2021-01-14|     true|2021-02-18 16:57:25|\n|        2|Data Engineering ...|         2021-02-10|     true|2021-03-05 12:07:33|\n|        3|   Mastering Pyspark|         2021-01-07|     true|2021-04-06 10:05:42|\n|        4|      AWS Essentials|         2021-03-19|    false|2021-04-10 02:25:36|\n|        5|          Docker 101|         2021-02-28|     true|2021-03-21 07:18:52|\n+---------+--------------------+-------------------+---------+-------------------+\n\n"
     ]
    }
   ],
   "source": [
    "courses_df.show(5)"
   ]
  },
  {
   "cell_type": "code",
   "execution_count": 0,
   "metadata": {
    "application/vnd.databricks.v1+cell": {
     "cellMetadata": {
      "byteLimit": 2048000,
      "rowLimit": 10000
     },
     "inputWidgets": {},
     "nuid": "8d1a39b6-74fd-429a-b66b-643a648aa1ab",
     "showTitle": false,
     "title": ""
    }
   },
   "outputs": [
    {
     "output_type": "execute_result",
     "data": {
      "text/plain": [
       "5"
      ]
     },
     "execution_count": 9,
     "metadata": {},
     "output_type": "execute_result"
    }
   ],
   "source": [
    "courses_df.count()"
   ]
  },
  {
   "cell_type": "code",
   "execution_count": 0,
   "metadata": {
    "application/vnd.databricks.v1+cell": {
     "cellMetadata": {
      "byteLimit": 2048000,
      "rowLimit": 10000
     },
     "inputWidgets": {},
     "nuid": "a7b7678d-a8f2-40c0-806f-a7964dc8e6ff",
     "showTitle": false,
     "title": ""
    }
   },
   "outputs": [
    {
     "output_type": "execute_result",
     "data": {
      "text/plain": [
       "[FileInfo(path='dbfs:/exam_prep/retail_db/', name='retail_db/', size=0, modificationTime=1720271878000),\n",
       " FileInfo(path='dbfs:/exam_prep/retail_db_json/', name='retail_db_json/', size=0, modificationTime=1720271858000)]"
      ]
     },
     "execution_count": 3,
     "metadata": {},
     "output_type": "execute_result"
    }
   ],
   "source": [
    "dbutils.fs.ls('/exam_prep')"
   ]
  },
  {
   "cell_type": "code",
   "execution_count": 0,
   "metadata": {
    "application/vnd.databricks.v1+cell": {
     "cellMetadata": {
      "byteLimit": 2048000,
      "rowLimit": 10000
     },
     "inputWidgets": {},
     "nuid": "c4d2c13c-b5a3-4392-908f-234eaa080112",
     "showTitle": false,
     "title": ""
    }
   },
   "outputs": [],
   "source": [
    "courses_df.write.csv('/exam_prep/courses_db')"
   ]
  },
  {
   "cell_type": "markdown",
   "metadata": {
    "application/vnd.databricks.v1+cell": {
     "cellMetadata": {},
     "inputWidgets": {},
     "nuid": "0be08060-d0ac-423b-a886-1048d6e9915c",
     "showTitle": false,
     "title": ""
    }
   },
   "source": [
    "### the csv files are written to the folder\n",
    "\n",
    "* By default > 1 files can be created"
   ]
  },
  {
   "cell_type": "code",
   "execution_count": 0,
   "metadata": {
    "application/vnd.databricks.v1+cell": {
     "cellMetadata": {
      "byteLimit": 2048000,
      "rowLimit": 10000
     },
     "inputWidgets": {},
     "nuid": "b83cd82a-0fdc-4634-af18-3301f68fcbaf",
     "showTitle": false,
     "title": ""
    }
   },
   "outputs": [
    {
     "output_type": "display_data",
     "data": {
      "text/html": [
       "<style scoped>\n",
       "  .table-result-container {\n",
       "    max-height: 300px;\n",
       "    overflow: auto;\n",
       "  }\n",
       "  table, th, td {\n",
       "    border: 1px solid black;\n",
       "    border-collapse: collapse;\n",
       "  }\n",
       "  th, td {\n",
       "    padding: 5px;\n",
       "  }\n",
       "  th {\n",
       "    text-align: left;\n",
       "  }\n",
       "</style><div class='table-result-container'><table class='table-result'><thead style='background-color: white'><tr><th>path</th><th>name</th><th>size</th><th>modificationTime</th></tr></thead><tbody><tr><td>dbfs:/exam_prep/courses_db/_SUCCESS</td><td>_SUCCESS</td><td>0</td><td>1720501734000</td></tr><tr><td>dbfs:/exam_prep/courses_db/_committed_473753379059822001</td><td>_committed_473753379059822001</td><td>368</td><td>1720501734000</td></tr><tr><td>dbfs:/exam_prep/courses_db/_started_473753379059822001</td><td>_started_473753379059822001</td><td>0</td><td>1720501733000</td></tr><tr><td>dbfs:/exam_prep/courses_db/part-00000-tid-473753379059822001-f924cb7b-cb03-465e-a790-9092b88a42d0-4-1-c000.csv</td><td>part-00000-tid-473753379059822001-f924cb7b-cb03-465e-a790-9092b88a42d0-4-1-c000.csv</td><td>60</td><td>1720501734000</td></tr><tr><td>dbfs:/exam_prep/courses_db/part-00001-tid-473753379059822001-f924cb7b-cb03-465e-a790-9092b88a42d0-5-1-c000.csv</td><td>part-00001-tid-473753379059822001-f924cb7b-cb03-465e-a790-9092b88a42d0-5-1-c000.csv</td><td>71</td><td>1720501734000</td></tr><tr><td>dbfs:/exam_prep/courses_db/part-00002-tid-473753379059822001-f924cb7b-cb03-465e-a790-9092b88a42d0-6-1-c000.csv</td><td>part-00002-tid-473753379059822001-f924cb7b-cb03-465e-a790-9092b88a42d0-6-1-c000.csv</td><td>61</td><td>1720501734000</td></tr><tr><td>dbfs:/exam_prep/courses_db/part-00003-tid-473753379059822001-f924cb7b-cb03-465e-a790-9092b88a42d0-7-1-c000.csv</td><td>part-00003-tid-473753379059822001-f924cb7b-cb03-465e-a790-9092b88a42d0-7-1-c000.csv</td><td>113</td><td>1720501734000</td></tr></tbody></table></div>"
      ]
     },
     "metadata": {
      "application/vnd.databricks.v1+output": {
       "addedWidgets": {},
       "aggData": [],
       "aggError": "",
       "aggOverflow": false,
       "aggSchema": [],
       "aggSeriesLimitReached": false,
       "aggType": "",
       "arguments": {},
       "columnCustomDisplayInfos": {},
       "data": [
        [
         "dbfs:/exam_prep/courses_db/_SUCCESS",
         "_SUCCESS",
         0,
         1720501734000
        ],
        [
         "dbfs:/exam_prep/courses_db/_committed_473753379059822001",
         "_committed_473753379059822001",
         368,
         1720501734000
        ],
        [
         "dbfs:/exam_prep/courses_db/_started_473753379059822001",
         "_started_473753379059822001",
         0,
         1720501733000
        ],
        [
         "dbfs:/exam_prep/courses_db/part-00000-tid-473753379059822001-f924cb7b-cb03-465e-a790-9092b88a42d0-4-1-c000.csv",
         "part-00000-tid-473753379059822001-f924cb7b-cb03-465e-a790-9092b88a42d0-4-1-c000.csv",
         60,
         1720501734000
        ],
        [
         "dbfs:/exam_prep/courses_db/part-00001-tid-473753379059822001-f924cb7b-cb03-465e-a790-9092b88a42d0-5-1-c000.csv",
         "part-00001-tid-473753379059822001-f924cb7b-cb03-465e-a790-9092b88a42d0-5-1-c000.csv",
         71,
         1720501734000
        ],
        [
         "dbfs:/exam_prep/courses_db/part-00002-tid-473753379059822001-f924cb7b-cb03-465e-a790-9092b88a42d0-6-1-c000.csv",
         "part-00002-tid-473753379059822001-f924cb7b-cb03-465e-a790-9092b88a42d0-6-1-c000.csv",
         61,
         1720501734000
        ],
        [
         "dbfs:/exam_prep/courses_db/part-00003-tid-473753379059822001-f924cb7b-cb03-465e-a790-9092b88a42d0-7-1-c000.csv",
         "part-00003-tid-473753379059822001-f924cb7b-cb03-465e-a790-9092b88a42d0-7-1-c000.csv",
         113,
         1720501734000
        ]
       ],
       "datasetInfos": [],
       "dbfsResultPath": null,
       "isJsonSchema": true,
       "metadata": {
        "isDbfsCommandResult": false
       },
       "overflow": false,
       "plotOptions": {
        "customPlotOptions": {},
        "displayType": "table",
        "pivotAggregation": null,
        "pivotColumns": null,
        "xColumns": null,
        "yColumns": null
       },
       "removedWidgets": [],
       "schema": [
        {
         "metadata": "{}",
         "name": "path",
         "type": "\"string\""
        },
        {
         "metadata": "{}",
         "name": "name",
         "type": "\"string\""
        },
        {
         "metadata": "{}",
         "name": "size",
         "type": "\"long\""
        },
        {
         "metadata": "{}",
         "name": "modificationTime",
         "type": "\"long\""
        }
       ],
       "type": "table"
      }
     },
     "output_type": "display_data"
    }
   ],
   "source": [
    "%fs ls '/exam_prep/courses_db'"
   ]
  },
  {
   "cell_type": "markdown",
   "metadata": {
    "application/vnd.databricks.v1+cell": {
     "cellMetadata": {},
     "inputWidgets": {},
     "nuid": "9f2bf5e5-53fe-41e5-b17b-978672880fbc",
     "showTitle": false,
     "title": ""
    }
   },
   "source": [
    "### When you load the folder Spark automatically loads the files"
   ]
  },
  {
   "cell_type": "code",
   "execution_count": 0,
   "metadata": {
    "application/vnd.databricks.v1+cell": {
     "cellMetadata": {
      "byteLimit": 2048000,
      "rowLimit": 10000
     },
     "inputWidgets": {},
     "nuid": "fd12cb24-8607-44ee-aa88-2f3a82c1853f",
     "showTitle": false,
     "title": ""
    }
   },
   "outputs": [
    {
     "output_type": "stream",
     "name": "stdout",
     "output_type": "stream",
     "text": [
      "+---+--------------------+----------+-----+--------------------+\n|_c0|                 _c1|       _c2|  _c3|                 _c4|\n+---+--------------------+----------+-----+--------------------+\n|  4|      AWS Essentials|2021-03-19|false|2021-04-10T02:25:...|\n|  5|          Docker 101|2021-02-28| true|2021-03-21T07:18:...|\n|  2|Data Engineering ...|2021-02-10| true|2021-03-05T12:07:...|\n|  3|   Mastering Pyspark|2021-01-07| true|2021-04-06T10:05:...|\n|  1|    Mastering Python|2021-01-14| true|2021-02-18T16:57:...|\n+---+--------------------+----------+-----+--------------------+\n\n"
     ]
    }
   ],
   "source": [
    "df = spark.read.csv('/exam_prep/courses_db', header=False)\n",
    "df.show(5)"
   ]
  },
  {
   "cell_type": "markdown",
   "metadata": {
    "application/vnd.databricks.v1+cell": {
     "cellMetadata": {},
     "inputWidgets": {},
     "nuid": "f27f6d3e-3d75-4342-b680-810464d56235",
     "showTitle": false,
     "title": ""
    }
   },
   "source": [
    "### Another way of writing files"
   ]
  },
  {
   "cell_type": "code",
   "execution_count": 0,
   "metadata": {
    "application/vnd.databricks.v1+cell": {
     "cellMetadata": {
      "byteLimit": 2048000,
      "rowLimit": 10000
     },
     "inputWidgets": {},
     "nuid": "ab207aac-16ef-44d1-9e01-7c8852c5c578",
     "showTitle": false,
     "title": ""
    }
   },
   "outputs": [],
   "source": [
    "courses_df.write.format('csv').save('/exam_prep/courses_db', mode='overwrite')"
   ]
  },
  {
   "cell_type": "code",
   "execution_count": 0,
   "metadata": {
    "application/vnd.databricks.v1+cell": {
     "cellMetadata": {
      "byteLimit": 2048000,
      "rowLimit": 10000
     },
     "inputWidgets": {},
     "nuid": "cc0c25b4-18a7-4e26-b6dc-a9104cb8d88d",
     "showTitle": false,
     "title": ""
    }
   },
   "outputs": [
    {
     "output_type": "display_data",
     "data": {
      "text/html": [
       "<style scoped>\n",
       "  .table-result-container {\n",
       "    max-height: 300px;\n",
       "    overflow: auto;\n",
       "  }\n",
       "  table, th, td {\n",
       "    border: 1px solid black;\n",
       "    border-collapse: collapse;\n",
       "  }\n",
       "  th, td {\n",
       "    padding: 5px;\n",
       "  }\n",
       "  th {\n",
       "    text-align: left;\n",
       "  }\n",
       "</style><div class='table-result-container'><table class='table-result'><thead style='background-color: white'><tr><th>path</th><th>name</th><th>size</th><th>modificationTime</th></tr></thead><tbody><tr><td>dbfs:/exam_prep/courses_db/_SUCCESS</td><td>_SUCCESS</td><td>0</td><td>1720503794000</td></tr><tr><td>dbfs:/exam_prep/courses_db/_committed_473753379059822001</td><td>_committed_473753379059822001</td><td>368</td><td>1720501734000</td></tr><tr><td>dbfs:/exam_prep/courses_db/_committed_6996352720318803789</td><td>_committed_6996352720318803789</td><td>730</td><td>1720503794000</td></tr><tr><td>dbfs:/exam_prep/courses_db/_committed_vacuum17659798105944892</td><td>_committed_vacuum17659798105944892</td><td>93</td><td>1720503795000</td></tr><tr><td>dbfs:/exam_prep/courses_db/_started_6996352720318803789</td><td>_started_6996352720318803789</td><td>0</td><td>1720503794000</td></tr><tr><td>dbfs:/exam_prep/courses_db/part-00000-tid-6996352720318803789-704b30b4-b042-44b6-bc8e-285f6c188b13-49-1-c000.csv</td><td>part-00000-tid-6996352720318803789-704b30b4-b042-44b6-bc8e-285f6c188b13-49-1-c000.csv</td><td>60</td><td>1720503794000</td></tr><tr><td>dbfs:/exam_prep/courses_db/part-00001-tid-6996352720318803789-704b30b4-b042-44b6-bc8e-285f6c188b13-50-1-c000.csv</td><td>part-00001-tid-6996352720318803789-704b30b4-b042-44b6-bc8e-285f6c188b13-50-1-c000.csv</td><td>71</td><td>1720503794000</td></tr><tr><td>dbfs:/exam_prep/courses_db/part-00002-tid-6996352720318803789-704b30b4-b042-44b6-bc8e-285f6c188b13-51-1-c000.csv</td><td>part-00002-tid-6996352720318803789-704b30b4-b042-44b6-bc8e-285f6c188b13-51-1-c000.csv</td><td>61</td><td>1720503794000</td></tr><tr><td>dbfs:/exam_prep/courses_db/part-00003-tid-6996352720318803789-704b30b4-b042-44b6-bc8e-285f6c188b13-52-1-c000.csv</td><td>part-00003-tid-6996352720318803789-704b30b4-b042-44b6-bc8e-285f6c188b13-52-1-c000.csv</td><td>113</td><td>1720503794000</td></tr></tbody></table></div>"
      ]
     },
     "metadata": {
      "application/vnd.databricks.v1+output": {
       "addedWidgets": {},
       "aggData": [],
       "aggError": "",
       "aggOverflow": false,
       "aggSchema": [],
       "aggSeriesLimitReached": false,
       "aggType": "",
       "arguments": {},
       "columnCustomDisplayInfos": {},
       "data": [
        [
         "dbfs:/exam_prep/courses_db/_SUCCESS",
         "_SUCCESS",
         0,
         1720503794000
        ],
        [
         "dbfs:/exam_prep/courses_db/_committed_473753379059822001",
         "_committed_473753379059822001",
         368,
         1720501734000
        ],
        [
         "dbfs:/exam_prep/courses_db/_committed_6996352720318803789",
         "_committed_6996352720318803789",
         730,
         1720503794000
        ],
        [
         "dbfs:/exam_prep/courses_db/_committed_vacuum17659798105944892",
         "_committed_vacuum17659798105944892",
         93,
         1720503795000
        ],
        [
         "dbfs:/exam_prep/courses_db/_started_6996352720318803789",
         "_started_6996352720318803789",
         0,
         1720503794000
        ],
        [
         "dbfs:/exam_prep/courses_db/part-00000-tid-6996352720318803789-704b30b4-b042-44b6-bc8e-285f6c188b13-49-1-c000.csv",
         "part-00000-tid-6996352720318803789-704b30b4-b042-44b6-bc8e-285f6c188b13-49-1-c000.csv",
         60,
         1720503794000
        ],
        [
         "dbfs:/exam_prep/courses_db/part-00001-tid-6996352720318803789-704b30b4-b042-44b6-bc8e-285f6c188b13-50-1-c000.csv",
         "part-00001-tid-6996352720318803789-704b30b4-b042-44b6-bc8e-285f6c188b13-50-1-c000.csv",
         71,
         1720503794000
        ],
        [
         "dbfs:/exam_prep/courses_db/part-00002-tid-6996352720318803789-704b30b4-b042-44b6-bc8e-285f6c188b13-51-1-c000.csv",
         "part-00002-tid-6996352720318803789-704b30b4-b042-44b6-bc8e-285f6c188b13-51-1-c000.csv",
         61,
         1720503794000
        ],
        [
         "dbfs:/exam_prep/courses_db/part-00003-tid-6996352720318803789-704b30b4-b042-44b6-bc8e-285f6c188b13-52-1-c000.csv",
         "part-00003-tid-6996352720318803789-704b30b4-b042-44b6-bc8e-285f6c188b13-52-1-c000.csv",
         113,
         1720503794000
        ]
       ],
       "datasetInfos": [],
       "dbfsResultPath": null,
       "isJsonSchema": true,
       "metadata": {
        "isDbfsCommandResult": false
       },
       "overflow": false,
       "plotOptions": {
        "customPlotOptions": {},
        "displayType": "table",
        "pivotAggregation": null,
        "pivotColumns": null,
        "xColumns": null,
        "yColumns": null
       },
       "removedWidgets": [],
       "schema": [
        {
         "metadata": "{}",
         "name": "path",
         "type": "\"string\""
        },
        {
         "metadata": "{}",
         "name": "name",
         "type": "\"string\""
        },
        {
         "metadata": "{}",
         "name": "size",
         "type": "\"long\""
        },
        {
         "metadata": "{}",
         "name": "modificationTime",
         "type": "\"long\""
        }
       ],
       "type": "table"
      }
     },
     "output_type": "display_data"
    }
   ],
   "source": [
    "%fs ls '/exam_prep/courses_db'"
   ]
  },
  {
   "cell_type": "markdown",
   "metadata": {
    "application/vnd.databricks.v1+cell": {
     "cellMetadata": {},
     "inputWidgets": {},
     "nuid": "47828baa-1a33-4443-a6b7-ea1c24588d9a",
     "showTitle": false,
     "title": ""
    }
   },
   "source": [
    "### Write as a single file (don't split the dataframe)"
   ]
  },
  {
   "cell_type": "code",
   "execution_count": 0,
   "metadata": {
    "application/vnd.databricks.v1+cell": {
     "cellMetadata": {
      "byteLimit": 2048000,
      "rowLimit": 10000
     },
     "inputWidgets": {},
     "nuid": "0b08e3d1-eb1e-4bf0-b2fe-fef738af4e37",
     "showTitle": false,
     "title": ""
    }
   },
   "outputs": [],
   "source": [
    "courses_df.coalesce(1).write.format('csv').save('/exam_prep/courses_db', mode='overwrite')"
   ]
  },
  {
   "cell_type": "code",
   "execution_count": 0,
   "metadata": {
    "application/vnd.databricks.v1+cell": {
     "cellMetadata": {
      "byteLimit": 2048000,
      "rowLimit": 10000
     },
     "inputWidgets": {},
     "nuid": "47f1c8cf-1db1-47d0-a6b9-1c27e5472d7a",
     "showTitle": false,
     "title": ""
    }
   },
   "outputs": [
    {
     "output_type": "display_data",
     "data": {
      "text/html": [
       "<style scoped>\n",
       "  .table-result-container {\n",
       "    max-height: 300px;\n",
       "    overflow: auto;\n",
       "  }\n",
       "  table, th, td {\n",
       "    border: 1px solid black;\n",
       "    border-collapse: collapse;\n",
       "  }\n",
       "  th, td {\n",
       "    padding: 5px;\n",
       "  }\n",
       "  th {\n",
       "    text-align: left;\n",
       "  }\n",
       "</style><div class='table-result-container'><table class='table-result'><thead style='background-color: white'><tr><th>path</th><th>name</th><th>size</th><th>modificationTime</th></tr></thead><tbody><tr><td>dbfs:/exam_prep/courses_db/_SUCCESS</td><td>_SUCCESS</td><td>0</td><td>1720503987000</td></tr><tr><td>dbfs:/exam_prep/courses_db/_committed_1293567585999376496</td><td>_committed_1293567585999376496</td><td>463</td><td>1720503987000</td></tr><tr><td>dbfs:/exam_prep/courses_db/_committed_473753379059822001</td><td>_committed_473753379059822001</td><td>368</td><td>1720501734000</td></tr><tr><td>dbfs:/exam_prep/courses_db/_committed_6996352720318803789</td><td>_committed_6996352720318803789</td><td>730</td><td>1720503794000</td></tr><tr><td>dbfs:/exam_prep/courses_db/_committed_vacuum17659798105944892</td><td>_committed_vacuum17659798105944892</td><td>93</td><td>1720503795000</td></tr><tr><td>dbfs:/exam_prep/courses_db/_started_1293567585999376496</td><td>_started_1293567585999376496</td><td>0</td><td>1720503987000</td></tr><tr><td>dbfs:/exam_prep/courses_db/_started_6996352720318803789</td><td>_started_6996352720318803789</td><td>0</td><td>1720503794000</td></tr><tr><td>dbfs:/exam_prep/courses_db/part-00000-tid-1293567585999376496-72f9d223-d405-4bd2-b49a-69a63432a4ac-53-1-c000.csv</td><td>part-00000-tid-1293567585999376496-72f9d223-d405-4bd2-b49a-69a63432a4ac-53-1-c000.csv</td><td>305</td><td>1720503987000</td></tr></tbody></table></div>"
      ]
     },
     "metadata": {
      "application/vnd.databricks.v1+output": {
       "addedWidgets": {},
       "aggData": [],
       "aggError": "",
       "aggOverflow": false,
       "aggSchema": [],
       "aggSeriesLimitReached": false,
       "aggType": "",
       "arguments": {},
       "columnCustomDisplayInfos": {},
       "data": [
        [
         "dbfs:/exam_prep/courses_db/_SUCCESS",
         "_SUCCESS",
         0,
         1720503987000
        ],
        [
         "dbfs:/exam_prep/courses_db/_committed_1293567585999376496",
         "_committed_1293567585999376496",
         463,
         1720503987000
        ],
        [
         "dbfs:/exam_prep/courses_db/_committed_473753379059822001",
         "_committed_473753379059822001",
         368,
         1720501734000
        ],
        [
         "dbfs:/exam_prep/courses_db/_committed_6996352720318803789",
         "_committed_6996352720318803789",
         730,
         1720503794000
        ],
        [
         "dbfs:/exam_prep/courses_db/_committed_vacuum17659798105944892",
         "_committed_vacuum17659798105944892",
         93,
         1720503795000
        ],
        [
         "dbfs:/exam_prep/courses_db/_started_1293567585999376496",
         "_started_1293567585999376496",
         0,
         1720503987000
        ],
        [
         "dbfs:/exam_prep/courses_db/_started_6996352720318803789",
         "_started_6996352720318803789",
         0,
         1720503794000
        ],
        [
         "dbfs:/exam_prep/courses_db/part-00000-tid-1293567585999376496-72f9d223-d405-4bd2-b49a-69a63432a4ac-53-1-c000.csv",
         "part-00000-tid-1293567585999376496-72f9d223-d405-4bd2-b49a-69a63432a4ac-53-1-c000.csv",
         305,
         1720503987000
        ]
       ],
       "datasetInfos": [],
       "dbfsResultPath": null,
       "isJsonSchema": true,
       "metadata": {
        "isDbfsCommandResult": false
       },
       "overflow": false,
       "plotOptions": {
        "customPlotOptions": {},
        "displayType": "table",
        "pivotAggregation": null,
        "pivotColumns": null,
        "xColumns": null,
        "yColumns": null
       },
       "removedWidgets": [],
       "schema": [
        {
         "metadata": "{}",
         "name": "path",
         "type": "\"string\""
        },
        {
         "metadata": "{}",
         "name": "name",
         "type": "\"string\""
        },
        {
         "metadata": "{}",
         "name": "size",
         "type": "\"long\""
        },
        {
         "metadata": "{}",
         "name": "modificationTime",
         "type": "\"long\""
        }
       ],
       "type": "table"
      }
     },
     "output_type": "display_data"
    }
   ],
   "source": [
    "%fs ls 'exam_prep/courses_db'"
   ]
  }
 ],
 "metadata": {
  "application/vnd.databricks.v1+notebook": {
   "dashboards": [],
   "environmentMetadata": null,
   "language": "python",
   "notebookMetadata": {
    "mostRecentlyExecutedCommandWithImplicitDF": {
     "commandId": 181200511960879,
     "dataframes": [
      "_sqldf"
     ]
    },
    "pythonIndentUnit": 4
   },
   "notebookName": "40_writing_data_to_files",
   "widgets": {}
  }
 },
 "nbformat": 4,
 "nbformat_minor": 0
}

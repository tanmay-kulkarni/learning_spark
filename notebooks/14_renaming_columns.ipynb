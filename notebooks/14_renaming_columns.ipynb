{
 "cells": [
  {
   "cell_type": "code",
   "execution_count": 0,
   "metadata": {
    "application/vnd.databricks.v1+cell": {
     "cellMetadata": {
      "byteLimit": 2048000,
      "rowLimit": 10000
     },
     "inputWidgets": {},
     "nuid": "e2ddcdef-8619-44af-9e7f-a2e3f6550cd7",
     "showTitle": false,
     "title": ""
    }
   },
   "outputs": [],
   "source": [
    "%run \"./07_create_a_df\""
   ]
  },
  {
   "cell_type": "markdown",
   "metadata": {
    "application/vnd.databricks.v1+cell": {
     "cellMetadata": {},
     "inputWidgets": {},
     "nuid": "7ecb21bc-5845-43c2-8cfb-42d7a78d3fc1",
     "showTitle": false,
     "title": ""
    }
   },
   "source": [
    "### To rename 1 column at a time, use withColumnRenamed"
   ]
  },
  {
   "cell_type": "code",
   "execution_count": 0,
   "metadata": {
    "application/vnd.databricks.v1+cell": {
     "cellMetadata": {
      "byteLimit": 2048000,
      "rowLimit": 10000
     },
     "inputWidgets": {},
     "nuid": "46f212c9-5a1e-4443-b347-4c7986907363",
     "showTitle": false,
     "title": ""
    }
   },
   "outputs": [
    {
     "output_type": "stream",
     "name": "stdout",
     "output_type": "stream",
     "text": [
      "+-------+---------------------------+\n|user_id|email_id                   |\n+-------+---------------------------+\n|1      |john.doe@example.com       |\n|2      |jane.smith@example.com     |\n|3      |alice.johnson@example.com  |\n|4      |robert.brown@example.com   |\n|5      |emily.lee@example.com      |\n|6      |michael.johnson@example.com|\n|7      |sarah.davis@example.com    |\n|8      |jessica.wilson@example.com |\n|9      |david.anderson@example.com |\n|10     |jennifer.taylor@example.com|\n+-------+---------------------------+\n\n"
     ]
    }
   ],
   "source": [
    "df.select(\"id\", \"email\").withColumnRenamed(\"id\", \"user_id\").withColumnRenamed(\n",
    "    \"email\", \"email_id\"\n",
    ").show(truncate=False)"
   ]
  },
  {
   "cell_type": "markdown",
   "metadata": {
    "application/vnd.databricks.v1+cell": {
     "cellMetadata": {},
     "inputWidgets": {},
     "nuid": "6f9a4cf2-96dc-4ace-bf67-5e84f63c37d9",
     "showTitle": false,
     "title": ""
    }
   },
   "source": [
    "### To rename more than 1 column, use withColumnsRenamed"
   ]
  },
  {
   "cell_type": "code",
   "execution_count": 0,
   "metadata": {
    "application/vnd.databricks.v1+cell": {
     "cellMetadata": {
      "byteLimit": 2048000,
      "rowLimit": 10000
     },
     "inputWidgets": {},
     "nuid": "4c736494-fdac-4ad9-83e6-a15dbbd87ae8",
     "showTitle": false,
     "title": ""
    }
   },
   "outputs": [
    {
     "output_type": "stream",
     "name": "stdout",
     "output_type": "stream",
     "text": [
      "+-------+---------------------------+\n|user_id|email_id                   |\n+-------+---------------------------+\n|1      |john.doe@example.com       |\n|2      |jane.smith@example.com     |\n|3      |alice.johnson@example.com  |\n|4      |robert.brown@example.com   |\n|5      |emily.lee@example.com      |\n|6      |michael.johnson@example.com|\n|7      |sarah.davis@example.com    |\n|8      |jessica.wilson@example.com |\n|9      |david.anderson@example.com |\n|10     |jennifer.taylor@example.com|\n+-------+---------------------------+\n\n"
     ]
    }
   ],
   "source": [
    "column_map = {\"id\": \"user_id\", \"email\": \"email_id\"}\n",
    "\n",
    "df.select(\"id\", \"email\").withColumnsRenamed(column_map).show(truncate=0)"
   ]
  }
 ],
 "metadata": {
  "application/vnd.databricks.v1+notebook": {
   "dashboards": [],
   "environmentMetadata": null,
   "language": "python",
   "notebookMetadata": {
    "pythonIndentUnit": 4
   },
   "notebookName": "14_renaming_columns",
   "widgets": {}
  }
 },
 "nbformat": 4,
 "nbformat_minor": 0
}

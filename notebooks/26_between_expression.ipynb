{
 "cells": [
  {
   "cell_type": "code",
   "execution_count": 0,
   "metadata": {
    "application/vnd.databricks.v1+cell": {
     "cellMetadata": {
      "byteLimit": 2048000,
      "rowLimit": 10000
     },
     "inputWidgets": {},
     "nuid": "70a3e568-1ce9-4503-8d2a-335648e635e9",
     "showTitle": false,
     "title": ""
    }
   },
   "outputs": [],
   "source": [
    "%run \"./07_create_a_df\""
   ]
  },
  {
   "cell_type": "code",
   "execution_count": 0,
   "metadata": {
    "application/vnd.databricks.v1+cell": {
     "cellMetadata": {
      "byteLimit": 2048000,
      "rowLimit": 10000
     },
     "inputWidgets": {},
     "nuid": "fee8d181-8cf7-4ddc-99f0-690463099430",
     "showTitle": false,
     "title": ""
    }
   },
   "outputs": [
    {
     "output_type": "stream",
     "name": "stdout",
     "output_type": "stream",
     "text": [
      "+---+----------+---------+--------------------+--------------------+--------------------+-----------+-----------+-------------+-------------------+\n| id|first_name|last_name|               email|       phone_numbers|             courses|is_customer|amount_paid|customer_from|    last_updated_ts|\n+---+----------+---------+--------------------+--------------------+--------------------+-----------+-----------+-------------+-------------------+\n|  1|      John|      Doe|john.doe@example.com|{1234567890, 9876...|[Math, Science, H...|       true|      100.5|   2022-05-15|2024-05-18 11:28:25|\n|  2|      Jane|    Smith|jane.smith@exampl...|{9876543210, 1234...|[English, Art, Mu...|      false|        0.0|   2023-02-10|2024-05-18 11:28:25|\n|  3|     Alice|  Johnson|alice.johnson@exa...|{5555555555, 4444...|[Physics, Chemist...|       true|       75.2|   2021-08-20|2024-05-18 11:28:25|\n|  4|    Robert|    Brown|robert.brown@exam...|{7777777777, 8888...|[Computer Science...|       true|       50.0|   2023-01-05|2024-05-18 11:28:25|\n|  5|     Emily|      Lee|emily.lee@example...|{9999999999, 1111...|[Literature, Writ...|       true|      30.75|   2023-04-12|2024-05-18 11:28:25|\n|  6|   Michael|  Johnson|michael.johnson@e...|{5555555555, 4444...|[Physics, Chemist...|       true|       75.2|   2021-08-20|2024-05-18 11:28:25|\n|  7|     Sarah|    Davis|sarah.davis@examp...|{7777777777, 8888...|[Computer Science...|       true|       50.0|   2023-01-05|2024-05-18 11:28:25|\n|  8|   Jessica|   Wilson|jessica.wilson@ex...|{9999999999, 1111...|[Literature, Writ...|       true|      30.75|   2023-04-12|2024-05-18 11:28:25|\n|  9|     David| Anderson|david.anderson@ex...|{5555555555, 4444...|[Physics, Chemist...|       true|       75.2|   2021-08-20|2024-05-18 11:28:25|\n| 10|  Jennifer|   Taylor|jennifer.taylor@e...|{7777777777, 8888...|[Computer Science...|       true|       50.0|   2023-01-05|2024-05-18 11:28:25|\n+---+----------+---------+--------------------+--------------------+--------------------+-----------+-----------+-------------+-------------------+\n\n"
     ]
    }
   ],
   "source": [
    "df.show()"
   ]
  },
  {
   "cell_type": "markdown",
   "metadata": {
    "application/vnd.databricks.v1+cell": {
     "cellMetadata": {},
     "inputWidgets": {},
     "nuid": "2da13a57-653f-40f7-b54a-e1239485f612",
     "showTitle": false,
     "title": ""
    }
   },
   "source": [
    "### filter using between"
   ]
  },
  {
   "cell_type": "code",
   "execution_count": 0,
   "metadata": {
    "application/vnd.databricks.v1+cell": {
     "cellMetadata": {
      "byteLimit": 2048000,
      "rowLimit": 10000
     },
     "inputWidgets": {},
     "nuid": "8b4ff6d1-b29e-4afe-95fd-9959b82de7e0",
     "showTitle": false,
     "title": ""
    }
   },
   "outputs": [
    {
     "output_type": "stream",
     "name": "stdout",
     "output_type": "stream",
     "text": [
      "+---+----------+---------+--------------------+--------------------+--------------------+-----------+-----------+-------------+-------------------+\n| id|first_name|last_name|               email|       phone_numbers|             courses|is_customer|amount_paid|customer_from|    last_updated_ts|\n+---+----------+---------+--------------------+--------------------+--------------------+-----------+-----------+-------------+-------------------+\n|  4|    Robert|    Brown|robert.brown@exam...|{7777777777, 8888...|[Computer Science...|       true|       50.0|   2023-01-05|2024-05-18 11:28:25|\n|  5|     Emily|      Lee|emily.lee@example...|{9999999999, 1111...|[Literature, Writ...|       true|      30.75|   2023-04-12|2024-05-18 11:28:25|\n|  7|     Sarah|    Davis|sarah.davis@examp...|{7777777777, 8888...|[Computer Science...|       true|       50.0|   2023-01-05|2024-05-18 11:28:25|\n|  8|   Jessica|   Wilson|jessica.wilson@ex...|{9999999999, 1111...|[Literature, Writ...|       true|      30.75|   2023-04-12|2024-05-18 11:28:25|\n| 10|  Jennifer|   Taylor|jennifer.taylor@e...|{7777777777, 8888...|[Computer Science...|       true|       50.0|   2023-01-05|2024-05-18 11:28:25|\n+---+----------+---------+--------------------+--------------------+--------------------+-----------+-----------+-------------+-------------------+\n\n"
     ]
    }
   ],
   "source": [
    "from pyspark.sql.functions import col\n",
    "\n",
    "c = col('amount_paid')\n",
    "\n",
    "df.filter(c.between(24, 68)).show()"
   ]
  },
  {
   "cell_type": "code",
   "execution_count": 0,
   "metadata": {
    "application/vnd.databricks.v1+cell": {
     "cellMetadata": {
      "byteLimit": 2048000,
      "rowLimit": 10000
     },
     "inputWidgets": {},
     "nuid": "4b64f266-7e17-405f-ba25-2c664cb53166",
     "showTitle": false,
     "title": ""
    }
   },
   "outputs": [
    {
     "output_type": "stream",
     "name": "stdout",
     "output_type": "stream",
     "text": [
      "+---+----------+---------+--------------------+--------------------+--------------------+-----------+-----------+-------------+-------------------+\n| id|first_name|last_name|               email|       phone_numbers|             courses|is_customer|amount_paid|customer_from|    last_updated_ts|\n+---+----------+---------+--------------------+--------------------+--------------------+-----------+-----------+-------------+-------------------+\n|  4|    Robert|    Brown|robert.brown@exam...|{7777777777, 8888...|[Computer Science...|       true|       50.0|   2023-01-05|2024-05-18 11:28:25|\n|  5|     Emily|      Lee|emily.lee@example...|{9999999999, 1111...|[Literature, Writ...|       true|      30.75|   2023-04-12|2024-05-18 11:28:25|\n|  7|     Sarah|    Davis|sarah.davis@examp...|{7777777777, 8888...|[Computer Science...|       true|       50.0|   2023-01-05|2024-05-18 11:28:25|\n|  8|   Jessica|   Wilson|jessica.wilson@ex...|{9999999999, 1111...|[Literature, Writ...|       true|      30.75|   2023-04-12|2024-05-18 11:28:25|\n| 10|  Jennifer|   Taylor|jennifer.taylor@e...|{7777777777, 8888...|[Computer Science...|       true|       50.0|   2023-01-05|2024-05-18 11:28:25|\n+---+----------+---------+--------------------+--------------------+--------------------+-----------+-----------+-------------+-------------------+\n\n"
     ]
    }
   ],
   "source": [
    "df.filter(\"amount_paid between 24 and 68\").show()"
   ]
  }
 ],
 "metadata": {
  "application/vnd.databricks.v1+notebook": {
   "dashboards": [],
   "environmentMetadata": null,
   "language": "python",
   "notebookMetadata": {
    "pythonIndentUnit": 4
   },
   "notebookName": "26_between_expression",
   "widgets": {}
  }
 },
 "nbformat": 4,
 "nbformat_minor": 0
}

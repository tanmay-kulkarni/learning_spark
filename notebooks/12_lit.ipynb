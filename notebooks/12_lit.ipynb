{
 "cells": [
  {
   "cell_type": "code",
   "execution_count": 0,
   "metadata": {
    "application/vnd.databricks.v1+cell": {
     "cellMetadata": {
      "byteLimit": 2048000,
      "rowLimit": 10000
     },
     "inputWidgets": {},
     "nuid": "5e6b9c82-ff47-49c7-8ea5-e9419e56a8c1",
     "showTitle": false,
     "title": ""
    }
   },
   "outputs": [],
   "source": [
    "%run \"./07_create_a_df\""
   ]
  },
  {
   "cell_type": "code",
   "execution_count": 0,
   "metadata": {
    "application/vnd.databricks.v1+cell": {
     "cellMetadata": {
      "byteLimit": 2048000,
      "rowLimit": 10000
     },
     "inputWidgets": {},
     "nuid": "3d8978f2-42b4-460c-bf1b-874361293933",
     "showTitle": false,
     "title": ""
    }
   },
   "outputs": [],
   "source": [
    "from pyspark.sql.functions import lit, col"
   ]
  },
  {
   "cell_type": "code",
   "execution_count": 0,
   "metadata": {
    "application/vnd.databricks.v1+cell": {
     "cellMetadata": {
      "byteLimit": 2048000,
      "rowLimit": 10000
     },
     "inputWidgets": {},
     "nuid": "39b17fdf-3c91-4270-81e5-044b8939fdff",
     "showTitle": false,
     "title": ""
    }
   },
   "outputs": [
    {
     "output_type": "stream",
     "name": "stdout",
     "output_type": "stream",
     "text": [
      "root\n |-- id: long (nullable = true)\n |-- first_name: string (nullable = true)\n |-- last_name: string (nullable = true)\n |-- email: string (nullable = true)\n |-- phone_numbers: struct (nullable = true)\n |    |-- mobile: long (nullable = true)\n |    |-- home: long (nullable = true)\n |-- courses: array (nullable = true)\n |    |-- element: string (containsNull = true)\n |-- is_customer: boolean (nullable = true)\n |-- amount_paid: double (nullable = true)\n |-- customer_from: date (nullable = true)\n |-- last_updated_ts: timestamp (nullable = true)\n\n"
     ]
    }
   ],
   "source": [
    "df.printSchema()"
   ]
  },
  {
   "cell_type": "code",
   "execution_count": 0,
   "metadata": {
    "application/vnd.databricks.v1+cell": {
     "cellMetadata": {
      "byteLimit": 2048000,
      "rowLimit": 10000
     },
     "inputWidgets": {},
     "nuid": "f3cabb1d-8290-4640-82d2-de4a94e585e1",
     "showTitle": false,
     "title": ""
    }
   },
   "outputs": [
    {
     "output_type": "stream",
     "name": "stdout",
     "output_type": "stream",
     "text": [
      "+---+-----------+------------------+\n| id|amount_paid|(amount_paid + 25)|\n+---+-----------+------------------+\n|  1|      100.5|             125.5|\n|  2|        0.0|              25.0|\n|  3|       75.2|             100.2|\n|  4|       50.0|              75.0|\n|  5|      30.75|             55.75|\n|  6|       75.2|             100.2|\n|  7|       50.0|              75.0|\n|  8|      30.75|             55.75|\n|  9|       75.2|             100.2|\n| 10|       50.0|              75.0|\n+---+-----------+------------------+\n\n"
     ]
    }
   ],
   "source": [
    "df.select('id', 'amount_paid', col('amount_paid') + 25).show()"
   ]
  },
  {
   "cell_type": "code",
   "execution_count": 0,
   "metadata": {
    "application/vnd.databricks.v1+cell": {
     "cellMetadata": {
      "byteLimit": 2048000,
      "rowLimit": 10000
     },
     "inputWidgets": {},
     "nuid": "ebeda9d7-9a00-41d8-8d0b-5848307a93d5",
     "showTitle": false,
     "title": ""
    }
   },
   "outputs": [
    {
     "output_type": "stream",
     "name": "stdout",
     "output_type": "stream",
     "text": [
      "+---+-----------+------------------+\n| id|amount_paid|(amount_paid + 25)|\n+---+-----------+------------------+\n|  1|      100.5|             125.5|\n|  2|        0.0|              25.0|\n|  3|       75.2|             100.2|\n|  4|       50.0|              75.0|\n|  5|      30.75|             55.75|\n|  6|       75.2|             100.2|\n|  7|       50.0|              75.0|\n|  8|      30.75|             55.75|\n|  9|       75.2|             100.2|\n| 10|       50.0|              75.0|\n+---+-----------+------------------+\n\n"
     ]
    }
   ],
   "source": [
    "df.selectExpr('id', 'amount_paid', 'amount_paid + 25').show()"
   ]
  },
  {
   "cell_type": "code",
   "execution_count": 0,
   "metadata": {
    "application/vnd.databricks.v1+cell": {
     "cellMetadata": {
      "byteLimit": 2048000,
      "rowLimit": 10000
     },
     "inputWidgets": {},
     "nuid": "debd361f-e9e0-476d-8b1e-7cda16577307",
     "showTitle": false,
     "title": ""
    }
   },
   "outputs": [
    {
     "output_type": "stream",
     "name": "stdout",
     "output_type": "stream",
     "text": [
      "+---+-----------+------------------+\n| id|amount_paid|(amount_paid + 25)|\n+---+-----------+------------------+\n|  1|      100.5|             125.5|\n|  2|        0.0|              25.0|\n|  3|       75.2|             100.2|\n|  4|       50.0|              75.0|\n|  5|      30.75|             55.75|\n|  6|       75.2|             100.2|\n|  7|       50.0|              75.0|\n|  8|      30.75|             55.75|\n|  9|       75.2|             100.2|\n| 10|       50.0|              75.0|\n+---+-----------+------------------+\n\n"
     ]
    }
   ],
   "source": [
    "df.createOrReplaceTempView(\"UsersTemp\")\n",
    "\n",
    "spark.sql(\n",
    "    \"\"\"\n",
    "          select id, amount_paid, amount_paid + 25\n",
    "          from UsersTemp\n",
    "          \"\"\"\n",
    ").show()"
   ]
  },
  {
   "cell_type": "markdown",
   "metadata": {
    "application/vnd.databricks.v1+cell": {
     "cellMetadata": {},
     "inputWidgets": {},
     "nuid": "e5d01499-fe0a-4d3e-9237-897c428ebc5f",
     "showTitle": false,
     "title": ""
    }
   },
   "source": [
    "### lit"
   ]
  },
  {
   "cell_type": "code",
   "execution_count": 0,
   "metadata": {
    "application/vnd.databricks.v1+cell": {
     "cellMetadata": {
      "byteLimit": 2048000,
      "rowLimit": 10000
     },
     "inputWidgets": {},
     "nuid": "b7f6c0e8-41e5-4dbf-b4fe-dc9dc0e5037d",
     "showTitle": false,
     "title": ""
    }
   },
   "outputs": [
    {
     "output_type": "stream",
     "name": "stdout",
     "output_type": "stream",
     "text": [
      "+---+-----------+------------------+\n| id|amount_paid|(amount_paid + 25)|\n+---+-----------+------------------+\n|  1|      100.5|             125.5|\n|  2|        0.0|              25.0|\n|  3|       75.2|             100.2|\n|  4|       50.0|              75.0|\n|  5|      30.75|             55.75|\n|  6|       75.2|             100.2|\n|  7|       50.0|              75.0|\n|  8|      30.75|             55.75|\n|  9|       75.2|             100.2|\n| 10|       50.0|              75.0|\n+---+-----------+------------------+\n\n"
     ]
    }
   ],
   "source": [
    "df.select(\"id\", \"amount_paid\", col(\"amount_paid\") + lit(25)).show()"
   ]
  }
 ],
 "metadata": {
  "application/vnd.databricks.v1+notebook": {
   "dashboards": [],
   "environmentMetadata": null,
   "language": "python",
   "notebookMetadata": {
    "pythonIndentUnit": 4
   },
   "notebookName": "12_lit",
   "widgets": {}
  }
 },
 "nbformat": 4,
 "nbformat_minor": 0
}

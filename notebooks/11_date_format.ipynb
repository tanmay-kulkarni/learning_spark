{
 "cells": [
  {
   "cell_type": "code",
   "execution_count": 0,
   "metadata": {
    "application/vnd.databricks.v1+cell": {
     "cellMetadata": {
      "byteLimit": 2048000,
      "rowLimit": 10000
     },
     "inputWidgets": {},
     "nuid": "65eff075-1a2d-4677-8650-7b0a8d7e4fd1",
     "showTitle": false,
     "title": ""
    }
   },
   "outputs": [],
   "source": [
    "%run \"./07_create_a_df\""
   ]
  },
  {
   "cell_type": "code",
   "execution_count": 0,
   "metadata": {
    "application/vnd.databricks.v1+cell": {
     "cellMetadata": {
      "byteLimit": 2048000,
      "rowLimit": 10000
     },
     "inputWidgets": {},
     "nuid": "5698ca6a-2776-43c3-8e12-7dbc93361fbf",
     "showTitle": false,
     "title": ""
    }
   },
   "outputs": [
    {
     "output_type": "stream",
     "name": "stdout",
     "output_type": "stream",
     "text": [
      "+---+-------------+----------+\n| id|customer_from|  new_date|\n+---+-------------+----------+\n|  1|   2022-05-15|2022/05/15|\n|  2|   2023-02-10|2023/02/10|\n|  3|   2021-08-20|2021/08/20|\n|  4|   2023-01-05|2023/01/05|\n|  5|   2023-04-12|2023/04/12|\n|  6|   2021-08-20|2021/08/20|\n|  7|   2023-01-05|2023/01/05|\n|  8|   2023-04-12|2023/04/12|\n|  9|   2021-08-20|2021/08/20|\n| 10|   2023-01-05|2023/01/05|\n+---+-------------+----------+\n\n"
     ]
    }
   ],
   "source": [
    "from pyspark.sql.functions import date_format, col\n",
    "\n",
    "df.select(\n",
    "    \"id\",\n",
    "    col(\"customer_from\"),\n",
    "    date_format(col(\"customer_from\"), \"yyyy/MM/dd\").alias(\"new_date\"),\n",
    ").show()"
   ]
  }
 ],
 "metadata": {
  "application/vnd.databricks.v1+notebook": {
   "dashboards": [],
   "environmentMetadata": null,
   "language": "python",
   "notebookMetadata": {
    "pythonIndentUnit": 4
   },
   "notebookName": "11_date_format",
   "widgets": {}
  }
 },
 "nbformat": 4,
 "nbformat_minor": 0
}

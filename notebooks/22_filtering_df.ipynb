{
 "cells": [
  {
   "cell_type": "code",
   "execution_count": 0,
   "metadata": {
    "application/vnd.databricks.v1+cell": {
     "cellMetadata": {
      "byteLimit": 2048000,
      "rowLimit": 10000
     },
     "inputWidgets": {},
     "nuid": "23bd5632-4ed0-4bb5-a824-7461c843d64c",
     "showTitle": false,
     "title": ""
    }
   },
   "outputs": [],
   "source": [
    "%run \"./07_create_a_df\""
   ]
  },
  {
   "cell_type": "code",
   "execution_count": 0,
   "metadata": {
    "application/vnd.databricks.v1+cell": {
     "cellMetadata": {
      "byteLimit": 2048000,
      "rowLimit": 10000
     },
     "inputWidgets": {},
     "nuid": "3e782573-b6f7-4178-bcac-0de31694cc4b",
     "showTitle": false,
     "title": ""
    }
   },
   "outputs": [
    {
     "output_type": "stream",
     "name": "stdout",
     "output_type": "stream",
     "text": [
      "+---+----------+-----------+-----------+\n|id |first_name|is_customer|amount_paid|\n+---+----------+-----------+-----------+\n|1  |John      |true       |100.5      |\n|2  |Jane      |false      |0.0        |\n|3  |Alice     |true       |75.2       |\n|4  |Robert    |true       |50.0       |\n|5  |Emily     |true       |30.75      |\n|6  |Michael   |true       |75.2       |\n|7  |Sarah     |true       |50.0       |\n|8  |Jessica   |true       |30.75      |\n|9  |David     |true       |75.2       |\n|10 |Jennifer  |true       |50.0       |\n+---+----------+-----------+-----------+\n\n"
     ]
    }
   ],
   "source": [
    "columns_to_select = ['id', 'first_name', 'is_customer', 'amount_paid']\n",
    "df.select(columns_to_select).show(truncate=False)"
   ]
  },
  {
   "cell_type": "code",
   "execution_count": 0,
   "metadata": {
    "application/vnd.databricks.v1+cell": {
     "cellMetadata": {
      "byteLimit": 2048000,
      "rowLimit": 10000
     },
     "inputWidgets": {},
     "nuid": "76a160e0-20d7-4914-9ec8-cbd2df25a0d8",
     "showTitle": false,
     "title": ""
    }
   },
   "outputs": [],
   "source": [
    "from pyspark.sql.functions import col"
   ]
  },
  {
   "cell_type": "markdown",
   "metadata": {
    "application/vnd.databricks.v1+cell": {
     "cellMetadata": {},
     "inputWidgets": {},
     "nuid": "ae9baa27-4fb8-4118-92ec-853392ce0bcd",
     "showTitle": false,
     "title": ""
    }
   },
   "source": [
    "### filtering using col"
   ]
  },
  {
   "cell_type": "code",
   "execution_count": 0,
   "metadata": {
    "application/vnd.databricks.v1+cell": {
     "cellMetadata": {
      "byteLimit": 2048000,
      "rowLimit": 10000
     },
     "inputWidgets": {},
     "nuid": "75aa5392-f291-493e-bd39-b5114cbd1f76",
     "showTitle": false,
     "title": ""
    }
   },
   "outputs": [
    {
     "output_type": "stream",
     "name": "stdout",
     "output_type": "stream",
     "text": [
      "+---+----------+-----------+-----------+\n| id|first_name|is_customer|amount_paid|\n+---+----------+-----------+-----------+\n|  1|      John|       true|      100.5|\n|  3|     Alice|       true|       75.2|\n|  6|   Michael|       true|       75.2|\n|  9|     David|       true|       75.2|\n+---+----------+-----------+-----------+\n\n"
     ]
    }
   ],
   "source": [
    "df.filter(col('amount_paid') > 50).select(columns_to_select).show()"
   ]
  },
  {
   "cell_type": "markdown",
   "metadata": {
    "application/vnd.databricks.v1+cell": {
     "cellMetadata": {},
     "inputWidgets": {},
     "nuid": "9f0694b7-51d7-4a51-9aaf-241e2e3e68fd",
     "showTitle": false,
     "title": ""
    }
   },
   "source": [
    "### can also use SQL style syntax"
   ]
  },
  {
   "cell_type": "code",
   "execution_count": 0,
   "metadata": {
    "application/vnd.databricks.v1+cell": {
     "cellMetadata": {
      "byteLimit": 2048000,
      "rowLimit": 10000
     },
     "inputWidgets": {},
     "nuid": "981b5f92-b4c0-4b49-bae3-b1ef914f6343",
     "showTitle": false,
     "title": ""
    }
   },
   "outputs": [
    {
     "output_type": "stream",
     "name": "stdout",
     "output_type": "stream",
     "text": [
      "+---+----------+-----------+-----------+\n| id|first_name|is_customer|amount_paid|\n+---+----------+-----------+-----------+\n|  3|     Alice|       true|       75.2|\n|  4|    Robert|       true|       50.0|\n|  6|   Michael|       true|       75.2|\n|  7|     Sarah|       true|       50.0|\n|  9|     David|       true|       75.2|\n| 10|  Jennifer|       true|       50.0|\n+---+----------+-----------+-----------+\n\n"
     ]
    }
   ],
   "source": [
    "df.where(\"amount_paid between 50 and 100\").select(columns_to_select).show()"
   ]
  },
  {
   "cell_type": "markdown",
   "metadata": {
    "application/vnd.databricks.v1+cell": {
     "cellMetadata": {},
     "inputWidgets": {},
     "nuid": "da160967-6343-483d-bfff-95138db3a02a",
     "showTitle": false,
     "title": ""
    }
   },
   "source": [
    "### where is an alias for filter"
   ]
  },
  {
   "cell_type": "code",
   "execution_count": 0,
   "metadata": {
    "application/vnd.databricks.v1+cell": {
     "cellMetadata": {
      "byteLimit": 2048000,
      "rowLimit": 10000
     },
     "inputWidgets": {},
     "nuid": "cf8bb347-8cca-4e79-a10e-ca3bfb29e049",
     "showTitle": false,
     "title": ""
    }
   },
   "outputs": [
    {
     "output_type": "stream",
     "name": "stdout",
     "output_type": "stream",
     "text": [
      "+---+----------+-----------+-----------+\n| id|first_name|is_customer|amount_paid|\n+---+----------+-----------+-----------+\n|  1|      John|       true|      100.5|\n|  3|     Alice|       true|       75.2|\n|  6|   Michael|       true|       75.2|\n|  9|     David|       true|       75.2|\n+---+----------+-----------+-----------+\n\n"
     ]
    }
   ],
   "source": [
    "df.where(\"amount_paid > 50\").select(columns_to_select).show()"
   ]
  }
 ],
 "metadata": {
  "application/vnd.databricks.v1+notebook": {
   "dashboards": [],
   "environmentMetadata": null,
   "language": "python",
   "notebookMetadata": {
    "pythonIndentUnit": 4
   },
   "notebookName": "22_filtering_df",
   "widgets": {}
  }
 },
 "nbformat": 4,
 "nbformat_minor": 0
}

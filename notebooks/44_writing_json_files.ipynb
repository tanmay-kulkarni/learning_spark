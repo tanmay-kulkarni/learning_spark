{
 "cells": [
  {
   "cell_type": "code",
   "execution_count": 0,
   "metadata": {
    "application/vnd.databricks.v1+cell": {
     "cellMetadata": {
      "byteLimit": 2048000,
      "rowLimit": 10000
     },
     "inputWidgets": {},
     "nuid": "fcb59431-6a09-4e4a-a7e7-42be2572c704",
     "showTitle": false,
     "title": ""
    }
   },
   "outputs": [],
   "source": [
    "from pyspark.sql import Row\n",
    "\n",
    "import datetime\n",
    "\n",
    "\n",
    "courses = [\n",
    "    {\n",
    "        'course_id': 1,\n",
    "        'course_title': 'Mastering Python',\n",
    "        'course_published_dt': datetime.date(2021, 1, 14),\n",
    "        'is_active': True,\n",
    "        'last_updated_ts': datetime.datetime(2021, 2, 18, 16, 57, 25)\n",
    "    },\n",
    "    {\n",
    "        'course_id': 2,\n",
    "        'course_title': 'Data Engineering Essentials',\n",
    "        'course_published_dt': datetime.date(2021, 2, 10),\n",
    "        'is_active': True,\n",
    "        'last_updated_ts': datetime.datetime(2021, 3, 5, 12, 7, 33)\n",
    "    },\n",
    "    {\n",
    "        'course_id': 3,\n",
    "        'course_title': 'Mastering Pyspark',\n",
    "        'course_published_dt': datetime.date(2021, 1, 7),\n",
    "        'is_active': True,\n",
    "        'last_updated_ts': datetime.datetime(2021, 4, 6, 10, 5, 42)\n",
    "    },\n",
    "    {\n",
    "        'course_id': 4,\n",
    "        'course_title': 'AWS Essentials',\n",
    "        'course_published_dt': datetime.date(2021, 3, 19),\n",
    "        'is_active': False,\n",
    "        'last_updated_ts': datetime.datetime(2021, 4, 10, 2, 25, 36)\n",
    "    },\n",
    "    {\n",
    "        'course_id': 5,\n",
    "        'course_title': 'Docker 101',\n",
    "        'course_published_dt': datetime.date(2021, 2, 28),\n",
    "        'is_active': True,\n",
    "        'last_updated_ts': datetime.datetime(2021, 3, 21, 7, 18, 52)\n",
    "    }\n",
    "]\n",
    "\n",
    "courses_df = spark.createDataFrame([Row(**course) for course in courses])"
   ]
  },
  {
   "cell_type": "code",
   "execution_count": 0,
   "metadata": {
    "application/vnd.databricks.v1+cell": {
     "cellMetadata": {
      "byteLimit": 2048000,
      "rowLimit": 10000
     },
     "inputWidgets": {},
     "nuid": "67a916f6-a4d3-4ab3-9ba8-f9678af5573c",
     "showTitle": false,
     "title": ""
    }
   },
   "outputs": [
    {
     "output_type": "display_data",
     "data": {
      "text/html": [
       "<style scoped>\n",
       "  .table-result-container {\n",
       "    max-height: 300px;\n",
       "    overflow: auto;\n",
       "  }\n",
       "  table, th, td {\n",
       "    border: 1px solid black;\n",
       "    border-collapse: collapse;\n",
       "  }\n",
       "  th, td {\n",
       "    padding: 5px;\n",
       "  }\n",
       "  th {\n",
       "    text-align: left;\n",
       "  }\n",
       "</style><div class='table-result-container'><table class='table-result'><thead style='background-color: white'><tr><th>path</th><th>name</th><th>size</th><th>modificationTime</th></tr></thead><tbody><tr><td>dbfs:/exam_prep/courses_db/_committed_1101258685780712540</td><td>_committed_1101258685780712540</td><td>747</td><td>1720509174000</td></tr><tr><td>dbfs:/exam_prep/courses_db/_committed_2268264955117639517</td><td>_committed_2268264955117639517</td><td>747</td><td>1720507319000</td></tr><tr><td>dbfs:/exam_prep/courses_db/_committed_290287202091883886</td><td>_committed_290287202091883886</td><td>755</td><td>1720509255000</td></tr><tr><td>dbfs:/exam_prep/courses_db/_committed_330306320903767112</td><td>_committed_330306320903767112</td><td>755</td><td>1720507664000</td></tr><tr><td>dbfs:/exam_prep/courses_db/_committed_3767401897592464076</td><td>_committed_3767401897592464076</td><td>756</td><td>1720506284000</td></tr><tr><td>dbfs:/exam_prep/courses_db/_committed_3949135881799892268</td><td>_committed_3949135881799892268</td><td>759</td><td>1720507628000</td></tr><tr><td>dbfs:/exam_prep/courses_db/_committed_4125539821250865405</td><td>_committed_4125539821250865405</td><td>755</td><td>1720507796000</td></tr><tr><td>dbfs:/exam_prep/courses_db/_committed_5215570314862080272</td><td>_committed_5215570314862080272</td><td>759</td><td>1720508962000</td></tr><tr><td>dbfs:/exam_prep/courses_db/_committed_5606019503495517568</td><td>_committed_5606019503495517568</td><td>747</td><td>1720509205000</td></tr><tr><td>dbfs:/exam_prep/courses_db/_committed_7490865060007883683</td><td>_committed_7490865060007883683</td><td>735</td><td>1720506291000</td></tr><tr><td>dbfs:/exam_prep/courses_db/_committed_825946026845942489</td><td>_committed_825946026845942489</td><td>751</td><td>1720507696000</td></tr><tr><td>dbfs:/exam_prep/courses_db/_started_1101258685780712540</td><td>_started_1101258685780712540</td><td>0</td><td>1720509173000</td></tr><tr><td>dbfs:/exam_prep/courses_db/_started_290287202091883886</td><td>_started_290287202091883886</td><td>0</td><td>1720509255000</td></tr><tr><td>dbfs:/exam_prep/courses_db/_started_330306320903767112</td><td>_started_330306320903767112</td><td>0</td><td>1720507664000</td></tr><tr><td>dbfs:/exam_prep/courses_db/_started_3949135881799892268</td><td>_started_3949135881799892268</td><td>0</td><td>1720507628000</td></tr><tr><td>dbfs:/exam_prep/courses_db/_started_4125539821250865405</td><td>_started_4125539821250865405</td><td>0</td><td>1720507796000</td></tr><tr><td>dbfs:/exam_prep/courses_db/_started_5215570314862080272</td><td>_started_5215570314862080272</td><td>0</td><td>1720508962000</td></tr><tr><td>dbfs:/exam_prep/courses_db/_started_5606019503495517568</td><td>_started_5606019503495517568</td><td>0</td><td>1720509205000</td></tr><tr><td>dbfs:/exam_prep/courses_db/_started_825946026845942489</td><td>_started_825946026845942489</td><td>0</td><td>1720507696000</td></tr><tr><td>dbfs:/exam_prep/courses_db/part-00000-tid-290287202091883886-c7c6cf84-e5f4-4da7-9f71-faf53f6a02e2-197-1-c000.csv.gz</td><td>part-00000-tid-290287202091883886-c7c6cf84-e5f4-4da7-9f71-faf53f6a02e2-197-1-c000.csv.gz</td><td>128</td><td>1720509255000</td></tr><tr><td>dbfs:/exam_prep/courses_db/part-00001-tid-290287202091883886-c7c6cf84-e5f4-4da7-9f71-faf53f6a02e2-198-1-c000.csv.gz</td><td>part-00001-tid-290287202091883886-c7c6cf84-e5f4-4da7-9f71-faf53f6a02e2-198-1-c000.csv.gz</td><td>133</td><td>1720509255000</td></tr><tr><td>dbfs:/exam_prep/courses_db/part-00002-tid-290287202091883886-c7c6cf84-e5f4-4da7-9f71-faf53f6a02e2-199-1-c000.csv.gz</td><td>part-00002-tid-290287202091883886-c7c6cf84-e5f4-4da7-9f71-faf53f6a02e2-199-1-c000.csv.gz</td><td>130</td><td>1720509255000</td></tr><tr><td>dbfs:/exam_prep/courses_db/part-00003-tid-290287202091883886-c7c6cf84-e5f4-4da7-9f71-faf53f6a02e2-200-1-c000.csv.gz</td><td>part-00003-tid-290287202091883886-c7c6cf84-e5f4-4da7-9f71-faf53f6a02e2-200-1-c000.csv.gz</td><td>157</td><td>1720509255000</td></tr></tbody></table></div>"
      ]
     },
     "metadata": {
      "application/vnd.databricks.v1+output": {
       "addedWidgets": {},
       "aggData": [],
       "aggError": "",
       "aggOverflow": false,
       "aggSchema": [],
       "aggSeriesLimitReached": false,
       "aggType": "",
       "arguments": {},
       "columnCustomDisplayInfos": {},
       "data": [
        [
         "dbfs:/exam_prep/courses_db/_committed_1101258685780712540",
         "_committed_1101258685780712540",
         747,
         1720509174000
        ],
        [
         "dbfs:/exam_prep/courses_db/_committed_2268264955117639517",
         "_committed_2268264955117639517",
         747,
         1720507319000
        ],
        [
         "dbfs:/exam_prep/courses_db/_committed_290287202091883886",
         "_committed_290287202091883886",
         755,
         1720509255000
        ],
        [
         "dbfs:/exam_prep/courses_db/_committed_330306320903767112",
         "_committed_330306320903767112",
         755,
         1720507664000
        ],
        [
         "dbfs:/exam_prep/courses_db/_committed_3767401897592464076",
         "_committed_3767401897592464076",
         756,
         1720506284000
        ],
        [
         "dbfs:/exam_prep/courses_db/_committed_3949135881799892268",
         "_committed_3949135881799892268",
         759,
         1720507628000
        ],
        [
         "dbfs:/exam_prep/courses_db/_committed_4125539821250865405",
         "_committed_4125539821250865405",
         755,
         1720507796000
        ],
        [
         "dbfs:/exam_prep/courses_db/_committed_5215570314862080272",
         "_committed_5215570314862080272",
         759,
         1720508962000
        ],
        [
         "dbfs:/exam_prep/courses_db/_committed_5606019503495517568",
         "_committed_5606019503495517568",
         747,
         1720509205000
        ],
        [
         "dbfs:/exam_prep/courses_db/_committed_7490865060007883683",
         "_committed_7490865060007883683",
         735,
         1720506291000
        ],
        [
         "dbfs:/exam_prep/courses_db/_committed_825946026845942489",
         "_committed_825946026845942489",
         751,
         1720507696000
        ],
        [
         "dbfs:/exam_prep/courses_db/_started_1101258685780712540",
         "_started_1101258685780712540",
         0,
         1720509173000
        ],
        [
         "dbfs:/exam_prep/courses_db/_started_290287202091883886",
         "_started_290287202091883886",
         0,
         1720509255000
        ],
        [
         "dbfs:/exam_prep/courses_db/_started_330306320903767112",
         "_started_330306320903767112",
         0,
         1720507664000
        ],
        [
         "dbfs:/exam_prep/courses_db/_started_3949135881799892268",
         "_started_3949135881799892268",
         0,
         1720507628000
        ],
        [
         "dbfs:/exam_prep/courses_db/_started_4125539821250865405",
         "_started_4125539821250865405",
         0,
         1720507796000
        ],
        [
         "dbfs:/exam_prep/courses_db/_started_5215570314862080272",
         "_started_5215570314862080272",
         0,
         1720508962000
        ],
        [
         "dbfs:/exam_prep/courses_db/_started_5606019503495517568",
         "_started_5606019503495517568",
         0,
         1720509205000
        ],
        [
         "dbfs:/exam_prep/courses_db/_started_825946026845942489",
         "_started_825946026845942489",
         0,
         1720507696000
        ],
        [
         "dbfs:/exam_prep/courses_db/part-00000-tid-290287202091883886-c7c6cf84-e5f4-4da7-9f71-faf53f6a02e2-197-1-c000.csv.gz",
         "part-00000-tid-290287202091883886-c7c6cf84-e5f4-4da7-9f71-faf53f6a02e2-197-1-c000.csv.gz",
         128,
         1720509255000
        ],
        [
         "dbfs:/exam_prep/courses_db/part-00001-tid-290287202091883886-c7c6cf84-e5f4-4da7-9f71-faf53f6a02e2-198-1-c000.csv.gz",
         "part-00001-tid-290287202091883886-c7c6cf84-e5f4-4da7-9f71-faf53f6a02e2-198-1-c000.csv.gz",
         133,
         1720509255000
        ],
        [
         "dbfs:/exam_prep/courses_db/part-00002-tid-290287202091883886-c7c6cf84-e5f4-4da7-9f71-faf53f6a02e2-199-1-c000.csv.gz",
         "part-00002-tid-290287202091883886-c7c6cf84-e5f4-4da7-9f71-faf53f6a02e2-199-1-c000.csv.gz",
         130,
         1720509255000
        ],
        [
         "dbfs:/exam_prep/courses_db/part-00003-tid-290287202091883886-c7c6cf84-e5f4-4da7-9f71-faf53f6a02e2-200-1-c000.csv.gz",
         "part-00003-tid-290287202091883886-c7c6cf84-e5f4-4da7-9f71-faf53f6a02e2-200-1-c000.csv.gz",
         157,
         1720509255000
        ]
       ],
       "datasetInfos": [],
       "dbfsResultPath": null,
       "isJsonSchema": true,
       "metadata": {
        "isDbfsCommandResult": false
       },
       "overflow": false,
       "plotOptions": {
        "customPlotOptions": {},
        "displayType": "table",
        "pivotAggregation": null,
        "pivotColumns": null,
        "xColumns": null,
        "yColumns": null
       },
       "removedWidgets": [],
       "schema": [
        {
         "metadata": "{}",
         "name": "path",
         "type": "\"string\""
        },
        {
         "metadata": "{}",
         "name": "name",
         "type": "\"string\""
        },
        {
         "metadata": "{}",
         "name": "size",
         "type": "\"long\""
        },
        {
         "metadata": "{}",
         "name": "modificationTime",
         "type": "\"long\""
        }
       ],
       "type": "table"
      }
     },
     "output_type": "display_data"
    }
   ],
   "source": [
    "%fs ls /exam_prep/courses_db"
   ]
  },
  {
   "cell_type": "code",
   "execution_count": 0,
   "metadata": {
    "application/vnd.databricks.v1+cell": {
     "cellMetadata": {
      "byteLimit": 2048000,
      "rowLimit": 10000
     },
     "inputWidgets": {},
     "nuid": "0f0b0756-f90f-49a7-99e6-5cfeae758fe0",
     "showTitle": false,
     "title": ""
    }
   },
   "outputs": [],
   "source": [
    "courses_df.write.format(\"json\").mode(\"overwrite\").option(\"compression\", \"gzip\").save(\n",
    "    \"/exam_prep/courses_db\"\n",
    ")"
   ]
  },
  {
   "cell_type": "code",
   "execution_count": 0,
   "metadata": {
    "application/vnd.databricks.v1+cell": {
     "cellMetadata": {
      "byteLimit": 2048000,
      "rowLimit": 10000
     },
     "inputWidgets": {},
     "nuid": "07436364-9135-4dd7-ad4b-c4473bf8e848",
     "showTitle": false,
     "title": ""
    }
   },
   "outputs": [
    {
     "output_type": "display_data",
     "data": {
      "text/html": [
       "<style scoped>\n",
       "  .table-result-container {\n",
       "    max-height: 300px;\n",
       "    overflow: auto;\n",
       "  }\n",
       "  table, th, td {\n",
       "    border: 1px solid black;\n",
       "    border-collapse: collapse;\n",
       "  }\n",
       "  th, td {\n",
       "    padding: 5px;\n",
       "  }\n",
       "  th {\n",
       "    text-align: left;\n",
       "  }\n",
       "</style><div class='table-result-container'><table class='table-result'><thead style='background-color: white'><tr><th>path</th><th>name</th><th>size</th><th>modificationTime</th></tr></thead><tbody><tr><td>dbfs:/exam_prep/courses_db/_committed_1101258685780712540</td><td>_committed_1101258685780712540</td><td>747</td><td>1720509174000</td></tr><tr><td>dbfs:/exam_prep/courses_db/_committed_2268264955117639517</td><td>_committed_2268264955117639517</td><td>747</td><td>1720507319000</td></tr><tr><td>dbfs:/exam_prep/courses_db/_committed_2608668814280912611</td><td>_committed_2608668814280912611</td><td>739</td><td>1720551765000</td></tr><tr><td>dbfs:/exam_prep/courses_db/_committed_290287202091883886</td><td>_committed_290287202091883886</td><td>755</td><td>1720509255000</td></tr><tr><td>dbfs:/exam_prep/courses_db/_committed_330306320903767112</td><td>_committed_330306320903767112</td><td>755</td><td>1720507664000</td></tr><tr><td>dbfs:/exam_prep/courses_db/_committed_3767401897592464076</td><td>_committed_3767401897592464076</td><td>756</td><td>1720506284000</td></tr><tr><td>dbfs:/exam_prep/courses_db/_committed_3949135881799892268</td><td>_committed_3949135881799892268</td><td>759</td><td>1720507628000</td></tr><tr><td>dbfs:/exam_prep/courses_db/_committed_4125539821250865405</td><td>_committed_4125539821250865405</td><td>755</td><td>1720507796000</td></tr><tr><td>dbfs:/exam_prep/courses_db/_committed_5215570314862080272</td><td>_committed_5215570314862080272</td><td>759</td><td>1720508962000</td></tr><tr><td>dbfs:/exam_prep/courses_db/_committed_5606019503495517568</td><td>_committed_5606019503495517568</td><td>747</td><td>1720509205000</td></tr><tr><td>dbfs:/exam_prep/courses_db/_committed_7490865060007883683</td><td>_committed_7490865060007883683</td><td>735</td><td>1720506291000</td></tr><tr><td>dbfs:/exam_prep/courses_db/_committed_825946026845942489</td><td>_committed_825946026845942489</td><td>751</td><td>1720507696000</td></tr><tr><td>dbfs:/exam_prep/courses_db/_committed_8459858440003677183</td><td>_committed_8459858440003677183</td><td>739</td><td>1720551632000</td></tr><tr><td>dbfs:/exam_prep/courses_db/_started_2608668814280912611</td><td>_started_2608668814280912611</td><td>0</td><td>1720551764000</td></tr><tr><td>dbfs:/exam_prep/courses_db/_started_8459858440003677183</td><td>_started_8459858440003677183</td><td>0</td><td>1720551632000</td></tr><tr><td>dbfs:/exam_prep/courses_db/part-00000-tid-2608668814280912611-72818549-1e05-42e5-95c4-6299b850c52b-4-1-c000.json.gz</td><td>part-00000-tid-2608668814280912611-72818549-1e05-42e5-95c4-6299b850c52b-4-1-c000.json.gz</td><td>138</td><td>1720551765000</td></tr><tr><td>dbfs:/exam_prep/courses_db/part-00001-tid-2608668814280912611-72818549-1e05-42e5-95c4-6299b850c52b-5-1-c000.json.gz</td><td>part-00001-tid-2608668814280912611-72818549-1e05-42e5-95c4-6299b850c52b-5-1-c000.json.gz</td><td>144</td><td>1720551765000</td></tr><tr><td>dbfs:/exam_prep/courses_db/part-00002-tid-2608668814280912611-72818549-1e05-42e5-95c4-6299b850c52b-6-1-c000.json.gz</td><td>part-00002-tid-2608668814280912611-72818549-1e05-42e5-95c4-6299b850c52b-6-1-c000.json.gz</td><td>139</td><td>1720551765000</td></tr><tr><td>dbfs:/exam_prep/courses_db/part-00003-tid-2608668814280912611-72818549-1e05-42e5-95c4-6299b850c52b-7-1-c000.json.gz</td><td>part-00003-tid-2608668814280912611-72818549-1e05-42e5-95c4-6299b850c52b-7-1-c000.json.gz</td><td>178</td><td>1720551765000</td></tr></tbody></table></div>"
      ]
     },
     "metadata": {
      "application/vnd.databricks.v1+output": {
       "addedWidgets": {},
       "aggData": [],
       "aggError": "",
       "aggOverflow": false,
       "aggSchema": [],
       "aggSeriesLimitReached": false,
       "aggType": "",
       "arguments": {},
       "columnCustomDisplayInfos": {},
       "data": [
        [
         "dbfs:/exam_prep/courses_db/_committed_1101258685780712540",
         "_committed_1101258685780712540",
         747,
         1720509174000
        ],
        [
         "dbfs:/exam_prep/courses_db/_committed_2268264955117639517",
         "_committed_2268264955117639517",
         747,
         1720507319000
        ],
        [
         "dbfs:/exam_prep/courses_db/_committed_2608668814280912611",
         "_committed_2608668814280912611",
         739,
         1720551765000
        ],
        [
         "dbfs:/exam_prep/courses_db/_committed_290287202091883886",
         "_committed_290287202091883886",
         755,
         1720509255000
        ],
        [
         "dbfs:/exam_prep/courses_db/_committed_330306320903767112",
         "_committed_330306320903767112",
         755,
         1720507664000
        ],
        [
         "dbfs:/exam_prep/courses_db/_committed_3767401897592464076",
         "_committed_3767401897592464076",
         756,
         1720506284000
        ],
        [
         "dbfs:/exam_prep/courses_db/_committed_3949135881799892268",
         "_committed_3949135881799892268",
         759,
         1720507628000
        ],
        [
         "dbfs:/exam_prep/courses_db/_committed_4125539821250865405",
         "_committed_4125539821250865405",
         755,
         1720507796000
        ],
        [
         "dbfs:/exam_prep/courses_db/_committed_5215570314862080272",
         "_committed_5215570314862080272",
         759,
         1720508962000
        ],
        [
         "dbfs:/exam_prep/courses_db/_committed_5606019503495517568",
         "_committed_5606019503495517568",
         747,
         1720509205000
        ],
        [
         "dbfs:/exam_prep/courses_db/_committed_7490865060007883683",
         "_committed_7490865060007883683",
         735,
         1720506291000
        ],
        [
         "dbfs:/exam_prep/courses_db/_committed_825946026845942489",
         "_committed_825946026845942489",
         751,
         1720507696000
        ],
        [
         "dbfs:/exam_prep/courses_db/_committed_8459858440003677183",
         "_committed_8459858440003677183",
         739,
         1720551632000
        ],
        [
         "dbfs:/exam_prep/courses_db/_started_2608668814280912611",
         "_started_2608668814280912611",
         0,
         1720551764000
        ],
        [
         "dbfs:/exam_prep/courses_db/_started_8459858440003677183",
         "_started_8459858440003677183",
         0,
         1720551632000
        ],
        [
         "dbfs:/exam_prep/courses_db/part-00000-tid-2608668814280912611-72818549-1e05-42e5-95c4-6299b850c52b-4-1-c000.json.gz",
         "part-00000-tid-2608668814280912611-72818549-1e05-42e5-95c4-6299b850c52b-4-1-c000.json.gz",
         138,
         1720551765000
        ],
        [
         "dbfs:/exam_prep/courses_db/part-00001-tid-2608668814280912611-72818549-1e05-42e5-95c4-6299b850c52b-5-1-c000.json.gz",
         "part-00001-tid-2608668814280912611-72818549-1e05-42e5-95c4-6299b850c52b-5-1-c000.json.gz",
         144,
         1720551765000
        ],
        [
         "dbfs:/exam_prep/courses_db/part-00002-tid-2608668814280912611-72818549-1e05-42e5-95c4-6299b850c52b-6-1-c000.json.gz",
         "part-00002-tid-2608668814280912611-72818549-1e05-42e5-95c4-6299b850c52b-6-1-c000.json.gz",
         139,
         1720551765000
        ],
        [
         "dbfs:/exam_prep/courses_db/part-00003-tid-2608668814280912611-72818549-1e05-42e5-95c4-6299b850c52b-7-1-c000.json.gz",
         "part-00003-tid-2608668814280912611-72818549-1e05-42e5-95c4-6299b850c52b-7-1-c000.json.gz",
         178,
         1720551765000
        ]
       ],
       "datasetInfos": [],
       "dbfsResultPath": null,
       "isJsonSchema": true,
       "metadata": {
        "isDbfsCommandResult": false
       },
       "overflow": false,
       "plotOptions": {
        "customPlotOptions": {},
        "displayType": "table",
        "pivotAggregation": null,
        "pivotColumns": null,
        "xColumns": null,
        "yColumns": null
       },
       "removedWidgets": [],
       "schema": [
        {
         "metadata": "{}",
         "name": "path",
         "type": "\"string\""
        },
        {
         "metadata": "{}",
         "name": "name",
         "type": "\"string\""
        },
        {
         "metadata": "{}",
         "name": "size",
         "type": "\"long\""
        },
        {
         "metadata": "{}",
         "name": "modificationTime",
         "type": "\"long\""
        }
       ],
       "type": "table"
      }
     },
     "output_type": "display_data"
    }
   ],
   "source": [
    "%fs ls /exam_prep/courses_db"
   ]
  },
  {
   "cell_type": "code",
   "execution_count": 0,
   "metadata": {
    "application/vnd.databricks.v1+cell": {
     "cellMetadata": {
      "byteLimit": 2048000,
      "rowLimit": 10000
     },
     "inputWidgets": {},
     "nuid": "a25d9f43-e745-4fab-b93f-669982b0534f",
     "showTitle": false,
     "title": ""
    }
   },
   "outputs": [
    {
     "output_type": "stream",
     "name": "stdout",
     "output_type": "stream",
     "text": [
      "+---------+-------------------+--------------------+---------+--------------------+\n|course_id|course_published_dt|        course_title|is_active|     last_updated_ts|\n+---------+-------------------+--------------------+---------+--------------------+\n|        4|         2021-03-19|      AWS Essentials|    false|2021-04-10T02:25:...|\n|        5|         2021-02-28|          Docker 101|     true|2021-03-21T07:18:...|\n|        2|         2021-02-10|Data Engineering ...|     true|2021-03-05T12:07:...|\n|        3|         2021-01-07|   Mastering Pyspark|     true|2021-04-06T10:05:...|\n|        1|         2021-01-14|    Mastering Python|     true|2021-02-18T16:57:...|\n+---------+-------------------+--------------------+---------+--------------------+\n\n"
     ]
    }
   ],
   "source": [
    "df = spark.read.format('json').load('/exam_prep/courses_db')\n",
    "df.show(5)"
   ]
  }
 ],
 "metadata": {
  "application/vnd.databricks.v1+notebook": {
   "dashboards": [],
   "environmentMetadata": null,
   "language": "python",
   "notebookMetadata": {
    "mostRecentlyExecutedCommandWithImplicitDF": {
     "commandId": 2337934561358884,
     "dataframes": [
      "_sqldf"
     ]
    },
    "pythonIndentUnit": 4
   },
   "notebookName": "44_writing_json_files",
   "widgets": {}
  }
 },
 "nbformat": 4,
 "nbformat_minor": 0
}

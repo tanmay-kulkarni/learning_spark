{
 "cells": [
  {
   "cell_type": "markdown",
   "metadata": {
    "application/vnd.databricks.v1+cell": {
     "cellMetadata": {},
     "inputWidgets": {},
     "nuid": "df48267c-00e3-4cdf-a225-d457ad4228d4",
     "showTitle": false,
     "title": ""
    }
   },
   "source": [
    "### list the files in dbfs"
   ]
  },
  {
   "cell_type": "code",
   "execution_count": 0,
   "metadata": {
    "application/vnd.databricks.v1+cell": {
     "cellMetadata": {
      "byteLimit": 2048000,
      "rowLimit": 10000
     },
     "inputWidgets": {},
     "nuid": "2b67d202-10d0-47d2-9571-a60c4a01713e",
     "showTitle": false,
     "title": ""
    }
   },
   "outputs": [
    {
     "output_type": "display_data",
     "data": {
      "text/html": [
       "<style scoped>\n",
       "  .table-result-container {\n",
       "    max-height: 300px;\n",
       "    overflow: auto;\n",
       "  }\n",
       "  table, th, td {\n",
       "    border: 1px solid black;\n",
       "    border-collapse: collapse;\n",
       "  }\n",
       "  th, td {\n",
       "    padding: 5px;\n",
       "  }\n",
       "  th {\n",
       "    text-align: left;\n",
       "  }\n",
       "</style><div class='table-result-container'><table class='table-result'><thead style='background-color: white'><tr><th>path</th><th>name</th><th>size</th><th>modificationTime</th></tr></thead><tbody><tr><td>dbfs:/exam_prep/retail_db_json/categories/</td><td>categories/</td><td>0</td><td>1720271868000</td></tr><tr><td>dbfs:/exam_prep/retail_db_json/create_db_tables_pg.sql</td><td>create_db_tables_pg.sql</td><td>1748</td><td>1720271860000</td></tr><tr><td>dbfs:/exam_prep/retail_db_json/customers/</td><td>customers/</td><td>0</td><td>1720271858000</td></tr><tr><td>dbfs:/exam_prep/retail_db_json/departments/</td><td>departments/</td><td>0</td><td>1720271860000</td></tr><tr><td>dbfs:/exam_prep/retail_db_json/order_items/</td><td>order_items/</td><td>0</td><td>1720271860000</td></tr><tr><td>dbfs:/exam_prep/retail_db_json/orders/</td><td>orders/</td><td>0</td><td>1720271866000</td></tr><tr><td>dbfs:/exam_prep/retail_db_json/products/</td><td>products/</td><td>0</td><td>1720271859000</td></tr></tbody></table></div>"
      ]
     },
     "metadata": {
      "application/vnd.databricks.v1+output": {
       "addedWidgets": {},
       "aggData": [],
       "aggError": "",
       "aggOverflow": false,
       "aggSchema": [],
       "aggSeriesLimitReached": false,
       "aggType": "",
       "arguments": {},
       "columnCustomDisplayInfos": {},
       "data": [
        [
         "dbfs:/exam_prep/retail_db_json/categories/",
         "categories/",
         0,
         1720271868000
        ],
        [
         "dbfs:/exam_prep/retail_db_json/create_db_tables_pg.sql",
         "create_db_tables_pg.sql",
         1748,
         1720271860000
        ],
        [
         "dbfs:/exam_prep/retail_db_json/customers/",
         "customers/",
         0,
         1720271858000
        ],
        [
         "dbfs:/exam_prep/retail_db_json/departments/",
         "departments/",
         0,
         1720271860000
        ],
        [
         "dbfs:/exam_prep/retail_db_json/order_items/",
         "order_items/",
         0,
         1720271860000
        ],
        [
         "dbfs:/exam_prep/retail_db_json/orders/",
         "orders/",
         0,
         1720271866000
        ],
        [
         "dbfs:/exam_prep/retail_db_json/products/",
         "products/",
         0,
         1720271859000
        ]
       ],
       "datasetInfos": [],
       "dbfsResultPath": null,
       "isJsonSchema": true,
       "metadata": {
        "isDbfsCommandResult": false
       },
       "overflow": false,
       "plotOptions": {
        "customPlotOptions": {},
        "displayType": "table",
        "pivotAggregation": null,
        "pivotColumns": null,
        "xColumns": null,
        "yColumns": null
       },
       "removedWidgets": [],
       "schema": [
        {
         "metadata": "{}",
         "name": "path",
         "type": "\"string\""
        },
        {
         "metadata": "{}",
         "name": "name",
         "type": "\"string\""
        },
        {
         "metadata": "{}",
         "name": "size",
         "type": "\"long\""
        },
        {
         "metadata": "{}",
         "name": "modificationTime",
         "type": "\"long\""
        }
       ],
       "type": "table"
      }
     },
     "output_type": "display_data"
    }
   ],
   "source": [
    "%fs ls /exam_prep/retail_db_json"
   ]
  },
  {
   "cell_type": "markdown",
   "metadata": {
    "application/vnd.databricks.v1+cell": {
     "cellMetadata": {},
     "inputWidgets": {},
     "nuid": "e4ab312b-5ab6-4991-bbc4-79c869e4275b",
     "showTitle": false,
     "title": ""
    }
   },
   "source": [
    "### load some files from dbfs as dataframes"
   ]
  },
  {
   "cell_type": "code",
   "execution_count": 0,
   "metadata": {
    "application/vnd.databricks.v1+cell": {
     "cellMetadata": {
      "byteLimit": 2048000,
      "rowLimit": 10000
     },
     "inputWidgets": {},
     "nuid": "78797434-78d3-4881-ac3a-69abe7b2814d",
     "showTitle": false,
     "title": ""
    }
   },
   "outputs": [
    {
     "output_type": "stream",
     "name": "stdout",
     "output_type": "stream",
     "text": [
      "+-------------+-------------------+---------------------+------------------------+-------------------+-------------------+\n|order_item_id|order_item_order_id|order_item_product_id|order_item_product_price|order_item_quantity|order_item_subtotal|\n+-------------+-------------------+---------------------+------------------------+-------------------+-------------------+\n|            1|                  1|                  957|                  299.98|                  1|             299.98|\n|            2|                  2|                 1073|                  199.99|                  1|             199.99|\n|            3|                  2|                  502|                    50.0|                  5|              250.0|\n|            4|                  2|                  403|                  129.99|                  1|             129.99|\n|            5|                  4|                  897|                   24.99|                  2|              49.98|\n+-------------+-------------------+---------------------+------------------------+-------------------+-------------------+\nonly showing top 5 rows\n\n"
     ]
    }
   ],
   "source": [
    "file_path_order_items = '/exam_prep/retail_db_json/order_items'\n",
    "order_items = spark.read.json(file_path_order_items)\n",
    "\n",
    "order_items.show(5)"
   ]
  },
  {
   "cell_type": "code",
   "execution_count": 0,
   "metadata": {
    "application/vnd.databricks.v1+cell": {
     "cellMetadata": {
      "byteLimit": 2048000,
      "rowLimit": 10000
     },
     "inputWidgets": {},
     "nuid": "075cbf54-402e-488b-aaac-bc3d47ec4484",
     "showTitle": false,
     "title": ""
    }
   },
   "outputs": [
    {
     "output_type": "stream",
     "name": "stdout",
     "output_type": "stream",
     "text": [
      "+-----------------+---------------------+--------+---------------+\n|order_customer_id|order_date           |order_id|order_status   |\n+-----------------+---------------------+--------+---------------+\n|11599            |2013-07-25 00:00:00.0|1       |CLOSED         |\n|256              |2013-07-25 00:00:00.0|2       |PENDING_PAYMENT|\n|12111            |2013-07-25 00:00:00.0|3       |COMPLETE       |\n|8827             |2013-07-25 00:00:00.0|4       |CLOSED         |\n|11318            |2013-07-25 00:00:00.0|5       |COMPLETE       |\n+-----------------+---------------------+--------+---------------+\nonly showing top 5 rows\n\n"
     ]
    }
   ],
   "source": [
    "file_path_orders = '/exam_prep/retail_db_json/orders'\n",
    "orders = spark.read.json(file_path_orders)\n",
    "\n",
    "orders.show(5, truncate=0)"
   ]
  },
  {
   "cell_type": "markdown",
   "metadata": {
    "application/vnd.databricks.v1+cell": {
     "cellMetadata": {},
     "inputWidgets": {},
     "nuid": "a26b0c74-eab1-4505-89e1-c09636257475",
     "showTitle": false,
     "title": ""
    }
   },
   "source": [
    "### import some aggregation functions"
   ]
  },
  {
   "cell_type": "code",
   "execution_count": 0,
   "metadata": {
    "application/vnd.databricks.v1+cell": {
     "cellMetadata": {
      "byteLimit": 2048000,
      "rowLimit": 10000
     },
     "inputWidgets": {},
     "nuid": "d8d14ab4-6a45-405a-b89f-9631ae84e6af",
     "showTitle": false,
     "title": ""
    }
   },
   "outputs": [],
   "source": [
    "from pyspark.sql.functions import count, sum, min, max, avg"
   ]
  },
  {
   "cell_type": "code",
   "execution_count": 0,
   "metadata": {
    "application/vnd.databricks.v1+cell": {
     "cellMetadata": {
      "byteLimit": 2048000,
      "rowLimit": 10000
     },
     "inputWidgets": {},
     "nuid": "cb23e59c-a5d0-4526-a52f-7e1ddc77b06c",
     "showTitle": false,
     "title": ""
    }
   },
   "outputs": [
    {
     "output_type": "stream",
     "name": "stdout",
     "output_type": "stream",
     "text": [
      "+---------------+---------+\n|   order_status|row_count|\n+---------------+---------+\n|PENDING_PAYMENT|    15030|\n|       COMPLETE|    22899|\n|        ON_HOLD|     3798|\n| PAYMENT_REVIEW|      729|\n|     PROCESSING|     8275|\n|         CLOSED|     7556|\n|SUSPECTED_FRAUD|     1558|\n|        PENDING|     7610|\n|       CANCELED|     1428|\n+---------------+---------+\n\n"
     ]
    }
   ],
   "source": [
    "orders.groupBy('order_status').agg(count('*').alias('row_count')).show()"
   ]
  },
  {
   "cell_type": "markdown",
   "metadata": {
    "application/vnd.databricks.v1+cell": {
     "cellMetadata": {},
     "inputWidgets": {},
     "nuid": "7ffc7140-550c-467b-a9e9-f26f5d2654a4",
     "showTitle": false,
     "title": ""
    }
   },
   "source": [
    "### Filter order_id = 4"
   ]
  },
  {
   "cell_type": "code",
   "execution_count": 0,
   "metadata": {
    "application/vnd.databricks.v1+cell": {
     "cellMetadata": {
      "byteLimit": 2048000,
      "rowLimit": 10000
     },
     "inputWidgets": {},
     "nuid": "4ce11898-c9f4-4cb1-94f2-a45722751504",
     "showTitle": false,
     "title": ""
    }
   },
   "outputs": [
    {
     "output_type": "stream",
     "name": "stdout",
     "output_type": "stream",
     "text": [
      "+-------------+-------------------+---------------------+------------------------+-------------------+-------------------+\n|order_item_id|order_item_order_id|order_item_product_id|order_item_product_price|order_item_quantity|order_item_subtotal|\n+-------------+-------------------+---------------------+------------------------+-------------------+-------------------+\n|            5|                  4|                  897|                   24.99|                  2|              49.98|\n|            6|                  4|                  365|                   59.99|                  5|             299.95|\n|            7|                  4|                  502|                    50.0|                  3|              150.0|\n|            8|                  4|                 1014|                   49.98|                  4|             199.92|\n+-------------+-------------------+---------------------+------------------------+-------------------+-------------------+\n\n"
     ]
    }
   ],
   "source": [
    "order_items.filter('order_item_order_id = 4').show()"
   ]
  },
  {
   "cell_type": "markdown",
   "metadata": {
    "application/vnd.databricks.v1+cell": {
     "cellMetadata": {},
     "inputWidgets": {},
     "nuid": "74b785e8-d080-4b9a-aa71-2a791d226cd7",
     "showTitle": false,
     "title": ""
    }
   },
   "source": [
    "### get total aggregates of the column w/o grouping"
   ]
  },
  {
   "cell_type": "code",
   "execution_count": 0,
   "metadata": {
    "application/vnd.databricks.v1+cell": {
     "cellMetadata": {
      "byteLimit": 2048000,
      "rowLimit": 10000
     },
     "inputWidgets": {},
     "nuid": "48961786-c03c-4662-86cf-46cfcaa096e7",
     "showTitle": false,
     "title": ""
    }
   },
   "outputs": [
    {
     "output_type": "stream",
     "name": "stdout",
     "output_type": "stream",
     "text": [
      "+---------+-----------+--------------+\n|sum_total|total_items|total_quantity|\n+---------+-----------+--------------+\n|   699.85|          4|            14|\n+---------+-----------+--------------+\n\n"
     ]
    }
   ],
   "source": [
    "order_items.filter(\"order_item_order_id = 4\").select(\n",
    "    sum(\"order_item_subtotal\").alias(\"sum_total\"),\n",
    "    count(\"order_item_id\").alias(\"total_items\"),\n",
    "    sum('order_item_quantity').alias('total_quantity')\n",
    ").show()"
   ]
  },
  {
   "cell_type": "markdown",
   "metadata": {
    "application/vnd.databricks.v1+cell": {
     "cellMetadata": {},
     "inputWidgets": {},
     "nuid": "99f65410-ea41-4c6a-8db1-77687fbca1cd",
     "showTitle": false,
     "title": ""
    }
   },
   "source": [
    "### getting count of rows in a dataframe"
   ]
  },
  {
   "cell_type": "code",
   "execution_count": 0,
   "metadata": {
    "application/vnd.databricks.v1+cell": {
     "cellMetadata": {
      "byteLimit": 2048000,
      "rowLimit": 10000
     },
     "inputWidgets": {},
     "nuid": "91700652-3565-440a-8949-bea359d062f2",
     "showTitle": false,
     "title": ""
    }
   },
   "outputs": [
    {
     "output_type": "execute_result",
     "data": {
      "text/plain": [
       "68883"
      ]
     },
     "execution_count": 22,
     "metadata": {},
     "output_type": "execute_result"
    }
   ],
   "source": [
    "orders.count()"
   ]
  },
  {
   "cell_type": "code",
   "execution_count": 0,
   "metadata": {
    "application/vnd.databricks.v1+cell": {
     "cellMetadata": {
      "byteLimit": 2048000,
      "rowLimit": 10000
     },
     "inputWidgets": {},
     "nuid": "110cb1b9-33d6-4e33-8596-ea13ea16f6ca",
     "showTitle": false,
     "title": ""
    }
   },
   "outputs": [
    {
     "output_type": "stream",
     "name": "stdout",
     "output_type": "stream",
     "text": [
      "+--------+\n|count(1)|\n+--------+\n|   68883|\n+--------+\n\n"
     ]
    }
   ],
   "source": [
    "orders.select(count('*')).show()"
   ]
  },
  {
   "cell_type": "code",
   "execution_count": 0,
   "metadata": {
    "application/vnd.databricks.v1+cell": {
     "cellMetadata": {
      "byteLimit": 2048000,
      "rowLimit": 10000
     },
     "inputWidgets": {},
     "nuid": "58bd7dcf-c632-49ec-a7c5-c8a7d148978f",
     "showTitle": false,
     "title": ""
    }
   },
   "outputs": [
    {
     "output_type": "stream",
     "name": "stdout",
     "output_type": "stream",
     "text": [
      "+-------------+-------------------+---------------------+------------------------+-------------------+-------------------+\n|order_item_id|order_item_order_id|order_item_product_id|order_item_product_price|order_item_quantity|order_item_subtotal|\n+-------------+-------------------+---------------------+------------------------+-------------------+-------------------+\n|            1|                  1|                  957|                  299.98|                  1|             299.98|\n|            2|                  2|                 1073|                  199.99|                  1|             199.99|\n|            3|                  2|                  502|                    50.0|                  5|              250.0|\n|            4|                  2|                  403|                  129.99|                  1|             129.99|\n|            5|                  4|                  897|                   24.99|                  2|              49.98|\n+-------------+-------------------+---------------------+------------------------+-------------------+-------------------+\nonly showing top 5 rows\n\n"
     ]
    }
   ],
   "source": [
    "order_items.show(5)"
   ]
  },
  {
   "cell_type": "code",
   "execution_count": 0,
   "metadata": {
    "application/vnd.databricks.v1+cell": {
     "cellMetadata": {
      "byteLimit": 2048000,
      "rowLimit": 10000
     },
     "inputWidgets": {},
     "nuid": "29a67f36-86b1-4617-a71e-795fa14e53cb",
     "showTitle": false,
     "title": ""
    }
   },
   "outputs": [],
   "source": [
    "from pyspark.sql.functions import round"
   ]
  },
  {
   "cell_type": "code",
   "execution_count": 0,
   "metadata": {
    "application/vnd.databricks.v1+cell": {
     "cellMetadata": {
      "byteLimit": 2048000,
      "rowLimit": 10000
     },
     "inputWidgets": {},
     "nuid": "41db6a5a-0e24-48b2-adf2-bca60c3c7c1b",
     "showTitle": false,
     "title": ""
    }
   },
   "outputs": [
    {
     "output_type": "stream",
     "name": "stdout",
     "output_type": "stream",
     "text": [
      "+-------------------+--------------+------------+---------+\n|order_item_order_id|total_quantity|avg_quantity|avg_price|\n+-------------------+--------------+------------+---------+\n|                 29|             9|         1.8|   181.99|\n|                474|            13|         2.6|    74.99|\n|                964|            11|        2.75|   124.99|\n|               1677|            14|         2.8|    55.59|\n|               1806|             8|        2.67|   169.99|\n+-------------------+--------------+------------+---------+\nonly showing top 5 rows\n\n"
     ]
    }
   ],
   "source": [
    "order_items.groupBy(\"order_item_order_id\").agg(\n",
    "    sum(\"order_item_quantity\").alias(\"total_quantity\"),\n",
    "    round(avg(\"order_item_quantity\"),2).alias(\"avg_quantity\"),\n",
    "    round(avg(order_items['order_item_product_price']), 2).alias(\"avg_price\")\n",
    ").show(5)"
   ]
  },
  {
   "cell_type": "code",
   "execution_count": 0,
   "metadata": {
    "application/vnd.databricks.v1+cell": {
     "cellMetadata": {
      "byteLimit": 2048000,
      "rowLimit": 10000
     },
     "inputWidgets": {},
     "nuid": "0ecdffd9-30cb-4489-87f6-ff0885beb15b",
     "showTitle": false,
     "title": ""
    }
   },
   "outputs": [
    {
     "output_type": "stream",
     "name": "stdout",
     "output_type": "stream",
     "text": [
      "+--------+-----------------+--------------+\n|order_id|avg_product_price|total_quantity|\n+--------+-----------------+--------------+\n|      29|           181.99|             9|\n|     474|            74.99|            13|\n|     964|           124.99|            11|\n|    1677|            55.59|            14|\n|    1806|           169.99|             8|\n+--------+-----------------+--------------+\nonly showing top 5 rows\n\n"
     ]
    }
   ],
   "source": [
    "order_items.groupby(\"order_item_order_id\").agg(\n",
    "    {\"order_item_quantity\": \"sum\", \n",
    "     \"order_item_product_price\": \"avg\"}\n",
    ").toDF('order_id', 'avg_product_price', 'total_quantity').withColumn('avg_product_price', round('avg_product_price', 2)).show(5)"
   ]
  }
 ],
 "metadata": {
  "application/vnd.databricks.v1+notebook": {
   "dashboards": [],
   "environmentMetadata": null,
   "language": "python",
   "notebookMetadata": {
    "mostRecentlyExecutedCommandWithImplicitDF": {
     "commandId": 1282618804288056,
     "dataframes": [
      "_sqldf"
     ]
    },
    "pythonIndentUnit": 4
   },
   "notebookName": "32_groupBy",
   "widgets": {}
  }
 },
 "nbformat": 4,
 "nbformat_minor": 0
}

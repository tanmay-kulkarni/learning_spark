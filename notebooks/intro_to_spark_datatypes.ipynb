{
 "cells": [
  {
   "cell_type": "code",
   "execution_count": 0,
   "metadata": {
    "application/vnd.databricks.v1+cell": {
     "cellMetadata": {},
     "inputWidgets": {},
     "nuid": "99f6d5b9-b1f9-4d8d-b0e6-c16b32bc60eb",
     "showTitle": false,
     "title": ""
    }
   },
   "outputs": [],
   "source": []
  }
 ],
 "metadata": {
  "application/vnd.databricks.v1+notebook": {
   "dashboards": [],
   "language": "python",
   "notebookMetadata": {
    "pythonIndentUnit": 4
   },
   "notebookName": "intro_to_spark_datatypes",
   "widgets": {}
  }
 },
 "nbformat": 4,
 "nbformat_minor": 0
}

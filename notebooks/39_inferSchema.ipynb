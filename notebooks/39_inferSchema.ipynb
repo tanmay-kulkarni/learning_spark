{
 "cells": [
  {
   "cell_type": "code",
   "execution_count": 0,
   "metadata": {
    "application/vnd.databricks.v1+cell": {
     "cellMetadata": {
      "byteLimit": 2048000,
      "rowLimit": 10000
     },
     "inputWidgets": {},
     "nuid": "f7c8e6a0-4eeb-4be6-afb4-4dfd717127bc",
     "showTitle": false,
     "title": ""
    }
   },
   "outputs": [
    {
     "output_type": "display_data",
     "data": {
      "text/html": [
       "<style scoped>\n",
       "  .table-result-container {\n",
       "    max-height: 300px;\n",
       "    overflow: auto;\n",
       "  }\n",
       "  table, th, td {\n",
       "    border: 1px solid black;\n",
       "    border-collapse: collapse;\n",
       "  }\n",
       "  th, td {\n",
       "    padding: 5px;\n",
       "  }\n",
       "  th {\n",
       "    text-align: left;\n",
       "  }\n",
       "</style><div class='table-result-container'><table class='table-result'><thead style='background-color: white'><tr><th>path</th><th>name</th><th>size</th><th>modificationTime</th></tr></thead><tbody><tr><td>dbfs:/exam_prep/retail_db/orders/part-00000</td><td>part-00000</td><td>2999944</td><td>1720271883000</td></tr></tbody></table></div>"
      ]
     },
     "metadata": {
      "application/vnd.databricks.v1+output": {
       "addedWidgets": {},
       "aggData": [],
       "aggError": "",
       "aggOverflow": false,
       "aggSchema": [],
       "aggSeriesLimitReached": false,
       "aggType": "",
       "arguments": {},
       "columnCustomDisplayInfos": {},
       "data": [
        [
         "dbfs:/exam_prep/retail_db/orders/part-00000",
         "part-00000",
         2999944,
         1720271883000
        ]
       ],
       "datasetInfos": [],
       "dbfsResultPath": null,
       "isJsonSchema": true,
       "metadata": {
        "isDbfsCommandResult": false
       },
       "overflow": false,
       "plotOptions": {
        "customPlotOptions": {},
        "displayType": "table",
        "pivotAggregation": null,
        "pivotColumns": null,
        "xColumns": null,
        "yColumns": null
       },
       "removedWidgets": [],
       "schema": [
        {
         "metadata": "{}",
         "name": "path",
         "type": "\"string\""
        },
        {
         "metadata": "{}",
         "name": "name",
         "type": "\"string\""
        },
        {
         "metadata": "{}",
         "name": "size",
         "type": "\"long\""
        },
        {
         "metadata": "{}",
         "name": "modificationTime",
         "type": "\"long\""
        }
       ],
       "type": "table"
      }
     },
     "output_type": "display_data"
    }
   ],
   "source": [
    "%fs ls '/exam_prep/retail_db/orders'"
   ]
  },
  {
   "cell_type": "code",
   "execution_count": 0,
   "metadata": {
    "application/vnd.databricks.v1+cell": {
     "cellMetadata": {
      "byteLimit": 2048000,
      "rowLimit": 10000
     },
     "inputWidgets": {},
     "nuid": "01e9a71c-ede3-4bdf-92f9-65a39302bfcd",
     "showTitle": false,
     "title": ""
    }
   },
   "outputs": [
    {
     "output_type": "stream",
     "name": "stdout",
     "output_type": "stream",
     "text": [
      "+---+-------------------+-----+---------------+\n|_c0|                _c1|  _c2|            _c3|\n+---+-------------------+-----+---------------+\n|  1|2013-07-25 00:00:00|11599|         CLOSED|\n|  2|2013-07-25 00:00:00|  256|PENDING_PAYMENT|\n|  3|2013-07-25 00:00:00|12111|       COMPLETE|\n|  4|2013-07-25 00:00:00| 8827|         CLOSED|\n|  5|2013-07-25 00:00:00|11318|       COMPLETE|\n+---+-------------------+-----+---------------+\nonly showing top 5 rows\n\n"
     ]
    }
   ],
   "source": [
    "fpath = 'dbfs:/exam_prep/retail_db/orders/part-00000'\n",
    "orders = spark.read.options(inferSchema=\"true\", header=False).csv(fpath)\n",
    "\n",
    "orders.show(5)"
   ]
  },
  {
   "cell_type": "code",
   "execution_count": 0,
   "metadata": {
    "application/vnd.databricks.v1+cell": {
     "cellMetadata": {
      "byteLimit": 2048000,
      "rowLimit": 10000
     },
     "inputWidgets": {},
     "nuid": "6d254fbd-42fb-4ebf-814f-bf77ea0a64d7",
     "showTitle": false,
     "title": ""
    }
   },
   "outputs": [
    {
     "output_type": "stream",
     "name": "stdout",
     "output_type": "stream",
     "text": [
      "root\n |-- _c0: integer (nullable = true)\n |-- _c1: timestamp (nullable = true)\n |-- _c2: integer (nullable = true)\n |-- _c3: string (nullable = true)\n\n"
     ]
    }
   ],
   "source": [
    "orders.printSchema()"
   ]
  },
  {
   "cell_type": "markdown",
   "metadata": {
    "application/vnd.databricks.v1+cell": {
     "cellMetadata": {},
     "inputWidgets": {},
     "nuid": "eeffb789-cb27-4a84-8db2-9a536be03319",
     "showTitle": false,
     "title": ""
    }
   },
   "source": [
    "### to set the column names, use toDF()"
   ]
  },
  {
   "cell_type": "code",
   "execution_count": 0,
   "metadata": {
    "application/vnd.databricks.v1+cell": {
     "cellMetadata": {
      "byteLimit": 2048000,
      "rowLimit": 10000
     },
     "inputWidgets": {},
     "nuid": "2ebc1bc3-bb6b-4d54-96db-1f76bca42a6b",
     "showTitle": false,
     "title": ""
    }
   },
   "outputs": [
    {
     "output_type": "stream",
     "name": "stdout",
     "output_type": "stream",
     "text": [
      "+--------+-------------------+-----------+---------------+\n|order_id|         order_date|customer_id|   order_status|\n+--------+-------------------+-----------+---------------+\n|       1|2013-07-25 00:00:00|      11599|         CLOSED|\n|       2|2013-07-25 00:00:00|        256|PENDING_PAYMENT|\n|       3|2013-07-25 00:00:00|      12111|       COMPLETE|\n|       4|2013-07-25 00:00:00|       8827|         CLOSED|\n|       5|2013-07-25 00:00:00|      11318|       COMPLETE|\n+--------+-------------------+-----------+---------------+\nonly showing top 5 rows\n\n+--------+-------------------+-----------+---------------+\n|order_id|         order_date|customer_id|   order_status|\n+--------+-------------------+-----------+---------------+\n|       1|2013-07-25 00:00:00|      11599|         CLOSED|\n|       2|2013-07-25 00:00:00|        256|PENDING_PAYMENT|\n|       3|2013-07-25 00:00:00|      12111|       COMPLETE|\n|       4|2013-07-25 00:00:00|       8827|         CLOSED|\n|       5|2013-07-25 00:00:00|      11318|       COMPLETE|\n+--------+-------------------+-----------+---------------+\nonly showing top 5 rows\n\n"
     ]
    }
   ],
   "source": [
    "orders.toDF('order_id', 'order_date', 'customer_id', 'order_status').show(5)\n",
    "\n",
    "# can also pass the column names as a list\n",
    "\n",
    "column_names = ['order_id', 'order_date', 'customer_id', 'order_status']\n",
    "\n",
    "orders.toDF(*column_names).show(5)"
   ]
  }
 ],
 "metadata": {
  "application/vnd.databricks.v1+notebook": {
   "dashboards": [],
   "environmentMetadata": null,
   "language": "python",
   "notebookMetadata": {
    "mostRecentlyExecutedCommandWithImplicitDF": {
     "commandId": 1884548280521367,
     "dataframes": [
      "_sqldf"
     ]
    },
    "pythonIndentUnit": 4
   },
   "notebookName": "39_inferSchema",
   "widgets": {}
  }
 },
 "nbformat": 4,
 "nbformat_minor": 0
}

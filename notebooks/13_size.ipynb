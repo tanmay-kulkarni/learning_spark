{
 "cells": [
  {
   "cell_type": "code",
   "execution_count": 0,
   "metadata": {
    "application/vnd.databricks.v1+cell": {
     "cellMetadata": {
      "byteLimit": 2048000,
      "rowLimit": 10000
     },
     "inputWidgets": {},
     "nuid": "5e6b9c82-ff47-49c7-8ea5-e9419e56a8c1",
     "showTitle": false,
     "title": ""
    }
   },
   "outputs": [],
   "source": [
    "%run \"./07_create_a_df\""
   ]
  },
  {
   "cell_type": "code",
   "execution_count": 0,
   "metadata": {
    "application/vnd.databricks.v1+cell": {
     "cellMetadata": {
      "byteLimit": 2048000,
      "rowLimit": 10000
     },
     "inputWidgets": {},
     "nuid": "3d8978f2-42b4-460c-bf1b-874361293933",
     "showTitle": false,
     "title": ""
    }
   },
   "outputs": [],
   "source": [
    "from pyspark.sql.functions import size, col"
   ]
  },
  {
   "cell_type": "code",
   "execution_count": 0,
   "metadata": {
    "application/vnd.databricks.v1+cell": {
     "cellMetadata": {
      "byteLimit": 2048000,
      "rowLimit": 10000
     },
     "inputWidgets": {},
     "nuid": "39b17fdf-3c91-4270-81e5-044b8939fdff",
     "showTitle": false,
     "title": ""
    }
   },
   "outputs": [
    {
     "output_type": "stream",
     "name": "stdout",
     "output_type": "stream",
     "text": [
      "root\n |-- id: long (nullable = true)\n |-- first_name: string (nullable = true)\n |-- last_name: string (nullable = true)\n |-- email: string (nullable = true)\n |-- phone_numbers: struct (nullable = true)\n |    |-- mobile: long (nullable = true)\n |    |-- home: long (nullable = true)\n |-- courses: array (nullable = true)\n |    |-- element: string (containsNull = true)\n |-- is_customer: boolean (nullable = true)\n |-- amount_paid: double (nullable = true)\n |-- customer_from: date (nullable = true)\n |-- last_updated_ts: timestamp (nullable = true)\n\n"
     ]
    }
   ],
   "source": [
    "df.printSchema()"
   ]
  },
  {
   "cell_type": "code",
   "execution_count": 0,
   "metadata": {
    "application/vnd.databricks.v1+cell": {
     "cellMetadata": {
      "byteLimit": 2048000,
      "rowLimit": 10000
     },
     "inputWidgets": {},
     "nuid": "c85b89a1-9444-4070-a2c8-6d07efe58c1a",
     "showTitle": false,
     "title": ""
    }
   },
   "outputs": [
    {
     "output_type": "stream",
     "name": "stdout",
     "output_type": "stream",
     "text": [
      "+---+----------+------------------------------------------------+-------------+\n|id |first_name|courses                                         |size(courses)|\n+---+----------+------------------------------------------------+-------------+\n|1  |John      |[Math, Science, History]                        |3            |\n|2  |Jane      |[English, Art, Music]                           |3            |\n|3  |Alice     |[Physics, Chemistry, Biology]                   |3            |\n|4  |Robert    |[Computer Science, Programming, Data Structures]|3            |\n|5  |Emily     |[Literature, Writing, Poetry]                   |3            |\n|6  |Michael   |[Physics, Chemistry, Biology]                   |3            |\n|7  |Sarah     |[Computer Science, Programming, Data Structures]|3            |\n|8  |Jessica   |[Literature, Writing, Poetry]                   |3            |\n|9  |David     |[Physics, Chemistry, Biology]                   |3            |\n|10 |Jennifer  |[Computer Science, Programming, Data Structures]|3            |\n+---+----------+------------------------------------------------+-------------+\n\n"
     ]
    }
   ],
   "source": [
    "df.select(\"id\", \"first_name\", \"courses\", size(col(\"courses\"))).show(truncate=False)"
   ]
  }
 ],
 "metadata": {
  "application/vnd.databricks.v1+notebook": {
   "dashboards": [],
   "environmentMetadata": null,
   "language": "python",
   "notebookMetadata": {
    "pythonIndentUnit": 4
   },
   "notebookName": "13_size",
   "widgets": {}
  }
 },
 "nbformat": 4,
 "nbformat_minor": 0
}

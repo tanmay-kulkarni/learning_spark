{
 "cells": [
  {
   "cell_type": "code",
   "execution_count": 0,
   "metadata": {
    "application/vnd.databricks.v1+cell": {
     "cellMetadata": {
      "byteLimit": 2048000,
      "rowLimit": 10000
     },
     "inputWidgets": {},
     "nuid": "ae8637e4-ba17-47e7-9a0f-d5af5d45f8c1",
     "showTitle": false,
     "title": ""
    }
   },
   "outputs": [],
   "source": [
    "%run \"./07_create_a_df\""
   ]
  },
  {
   "cell_type": "code",
   "execution_count": 0,
   "metadata": {
    "application/vnd.databricks.v1+cell": {
     "cellMetadata": {
      "byteLimit": 2048000,
      "rowLimit": 10000
     },
     "inputWidgets": {},
     "nuid": "a1328dfc-2671-4dc5-9325-91472683d2fa",
     "showTitle": false,
     "title": ""
    }
   },
   "outputs": [],
   "source": [
    "from pyspark.sql.functions import substring"
   ]
  },
  {
   "cell_type": "code",
   "execution_count": 0,
   "metadata": {
    "application/vnd.databricks.v1+cell": {
     "cellMetadata": {
      "byteLimit": 2048000,
      "rowLimit": 10000
     },
     "inputWidgets": {},
     "nuid": "cc06b76c-097f-46c1-9bf1-918017f46b7a",
     "showTitle": false,
     "title": ""
    }
   },
   "outputs": [
    {
     "output_type": "stream",
     "name": "stdout",
     "output_type": "stream",
     "text": [
      "+-------------+----+\n|customer_from|year|\n+-------------+----+\n|   2022-05-15|2022|\n|   2023-02-10|2023|\n|   2021-08-20|2021|\n|   2023-01-05|2023|\n|   2023-04-12|2023|\n|   2021-08-20|2021|\n|   2023-01-05|2023|\n|   2023-04-12|2023|\n|   2021-08-20|2021|\n|   2023-01-05|2023|\n+-------------+----+\n\n"
     ]
    }
   ],
   "source": [
    "df.select(\n",
    "    \"customer_from\", substring(\"customer_from\", 1, 4).cast(\"int\").alias(\"year\")\n",
    ").show()"
   ]
  }
 ],
 "metadata": {
  "application/vnd.databricks.v1+notebook": {
   "dashboards": [],
   "environmentMetadata": null,
   "language": "python",
   "notebookMetadata": {
    "pythonIndentUnit": 4
   },
   "notebookName": "16_substring",
   "widgets": {}
  }
 },
 "nbformat": 4,
 "nbformat_minor": 0
}

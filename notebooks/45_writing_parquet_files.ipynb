{
 "cells": [
  {
   "cell_type": "code",
   "execution_count": 0,
   "metadata": {
    "application/vnd.databricks.v1+cell": {
     "cellMetadata": {
      "byteLimit": 2048000,
      "rowLimit": 10000
     },
     "inputWidgets": {},
     "nuid": "f450da7a-34ba-4e40-996c-6dcf0e3151bc",
     "showTitle": false,
     "title": ""
    }
   },
   "outputs": [],
   "source": [
    "from pyspark.sql import Row\n",
    "\n",
    "import datetime\n",
    "\n",
    "\n",
    "courses = [\n",
    "    {\n",
    "        'course_id': 1,\n",
    "        'course_title': 'Mastering Python',\n",
    "        'course_published_dt': datetime.date(2021, 1, 14),\n",
    "        'is_active': True,\n",
    "        'last_updated_ts': datetime.datetime(2021, 2, 18, 16, 57, 25)\n",
    "    },\n",
    "    {\n",
    "        'course_id': 2,\n",
    "        'course_title': 'Data Engineering Essentials',\n",
    "        'course_published_dt': datetime.date(2021, 2, 10),\n",
    "        'is_active': True,\n",
    "        'last_updated_ts': datetime.datetime(2021, 3, 5, 12, 7, 33)\n",
    "    },\n",
    "    {\n",
    "        'course_id': 3,\n",
    "        'course_title': 'Mastering Pyspark',\n",
    "        'course_published_dt': datetime.date(2021, 1, 7),\n",
    "        'is_active': True,\n",
    "        'last_updated_ts': datetime.datetime(2021, 4, 6, 10, 5, 42)\n",
    "    },\n",
    "    {\n",
    "        'course_id': 4,\n",
    "        'course_title': 'AWS Essentials',\n",
    "        'course_published_dt': datetime.date(2021, 3, 19),\n",
    "        'is_active': False,\n",
    "        'last_updated_ts': datetime.datetime(2021, 4, 10, 2, 25, 36)\n",
    "    },\n",
    "    {\n",
    "        'course_id': 5,\n",
    "        'course_title': 'Docker 101',\n",
    "        'course_published_dt': datetime.date(2021, 2, 28),\n",
    "        'is_active': True,\n",
    "        'last_updated_ts': datetime.datetime(2021, 3, 21, 7, 18, 52)\n",
    "    }\n",
    "]\n",
    "\n",
    "courses_df = spark.createDataFrame([Row(**course) for course in courses])"
   ]
  },
  {
   "cell_type": "code",
   "execution_count": 0,
   "metadata": {
    "application/vnd.databricks.v1+cell": {
     "cellMetadata": {
      "byteLimit": 2048000,
      "rowLimit": 10000
     },
     "inputWidgets": {},
     "nuid": "8a32c8a2-dd42-41da-8f13-205e512ab297",
     "showTitle": false,
     "title": ""
    }
   },
   "outputs": [
    {
     "output_type": "display_data",
     "data": {
      "text/html": [
       "<style scoped>\n",
       "  .table-result-container {\n",
       "    max-height: 300px;\n",
       "    overflow: auto;\n",
       "  }\n",
       "  table, th, td {\n",
       "    border: 1px solid black;\n",
       "    border-collapse: collapse;\n",
       "  }\n",
       "  th, td {\n",
       "    padding: 5px;\n",
       "  }\n",
       "  th {\n",
       "    text-align: left;\n",
       "  }\n",
       "</style><div class='table-result-container'><table class='table-result'><thead style='background-color: white'><tr><th>path</th><th>name</th><th>size</th><th>modificationTime</th></tr></thead><tbody><tr><td>dbfs:/exam_prep/courses_db/_committed_1101258685780712540</td><td>_committed_1101258685780712540</td><td>747</td><td>1720509174000</td></tr><tr><td>dbfs:/exam_prep/courses_db/_committed_2268264955117639517</td><td>_committed_2268264955117639517</td><td>747</td><td>1720507319000</td></tr><tr><td>dbfs:/exam_prep/courses_db/_committed_2608668814280912611</td><td>_committed_2608668814280912611</td><td>739</td><td>1720551765000</td></tr><tr><td>dbfs:/exam_prep/courses_db/_committed_290287202091883886</td><td>_committed_290287202091883886</td><td>755</td><td>1720509255000</td></tr><tr><td>dbfs:/exam_prep/courses_db/_committed_330306320903767112</td><td>_committed_330306320903767112</td><td>755</td><td>1720507664000</td></tr><tr><td>dbfs:/exam_prep/courses_db/_committed_3767401897592464076</td><td>_committed_3767401897592464076</td><td>756</td><td>1720506284000</td></tr><tr><td>dbfs:/exam_prep/courses_db/_committed_3949135881799892268</td><td>_committed_3949135881799892268</td><td>759</td><td>1720507628000</td></tr><tr><td>dbfs:/exam_prep/courses_db/_committed_4125539821250865405</td><td>_committed_4125539821250865405</td><td>755</td><td>1720507796000</td></tr><tr><td>dbfs:/exam_prep/courses_db/_committed_5215570314862080272</td><td>_committed_5215570314862080272</td><td>759</td><td>1720508962000</td></tr><tr><td>dbfs:/exam_prep/courses_db/_committed_5606019503495517568</td><td>_committed_5606019503495517568</td><td>747</td><td>1720509205000</td></tr><tr><td>dbfs:/exam_prep/courses_db/_committed_7490865060007883683</td><td>_committed_7490865060007883683</td><td>735</td><td>1720506291000</td></tr><tr><td>dbfs:/exam_prep/courses_db/_committed_825946026845942489</td><td>_committed_825946026845942489</td><td>751</td><td>1720507696000</td></tr><tr><td>dbfs:/exam_prep/courses_db/_committed_8459858440003677183</td><td>_committed_8459858440003677183</td><td>739</td><td>1720551632000</td></tr><tr><td>dbfs:/exam_prep/courses_db/_started_2608668814280912611</td><td>_started_2608668814280912611</td><td>0</td><td>1720551764000</td></tr><tr><td>dbfs:/exam_prep/courses_db/_started_8459858440003677183</td><td>_started_8459858440003677183</td><td>0</td><td>1720551632000</td></tr><tr><td>dbfs:/exam_prep/courses_db/part-00000-tid-2608668814280912611-72818549-1e05-42e5-95c4-6299b850c52b-4-1-c000.json.gz</td><td>part-00000-tid-2608668814280912611-72818549-1e05-42e5-95c4-6299b850c52b-4-1-c000.json.gz</td><td>138</td><td>1720551765000</td></tr><tr><td>dbfs:/exam_prep/courses_db/part-00001-tid-2608668814280912611-72818549-1e05-42e5-95c4-6299b850c52b-5-1-c000.json.gz</td><td>part-00001-tid-2608668814280912611-72818549-1e05-42e5-95c4-6299b850c52b-5-1-c000.json.gz</td><td>144</td><td>1720551765000</td></tr><tr><td>dbfs:/exam_prep/courses_db/part-00002-tid-2608668814280912611-72818549-1e05-42e5-95c4-6299b850c52b-6-1-c000.json.gz</td><td>part-00002-tid-2608668814280912611-72818549-1e05-42e5-95c4-6299b850c52b-6-1-c000.json.gz</td><td>139</td><td>1720551765000</td></tr><tr><td>dbfs:/exam_prep/courses_db/part-00003-tid-2608668814280912611-72818549-1e05-42e5-95c4-6299b850c52b-7-1-c000.json.gz</td><td>part-00003-tid-2608668814280912611-72818549-1e05-42e5-95c4-6299b850c52b-7-1-c000.json.gz</td><td>178</td><td>1720551765000</td></tr></tbody></table></div>"
      ]
     },
     "metadata": {
      "application/vnd.databricks.v1+output": {
       "addedWidgets": {},
       "aggData": [],
       "aggError": "",
       "aggOverflow": false,
       "aggSchema": [],
       "aggSeriesLimitReached": false,
       "aggType": "",
       "arguments": {},
       "columnCustomDisplayInfos": {},
       "data": [
        [
         "dbfs:/exam_prep/courses_db/_committed_1101258685780712540",
         "_committed_1101258685780712540",
         747,
         1720509174000
        ],
        [
         "dbfs:/exam_prep/courses_db/_committed_2268264955117639517",
         "_committed_2268264955117639517",
         747,
         1720507319000
        ],
        [
         "dbfs:/exam_prep/courses_db/_committed_2608668814280912611",
         "_committed_2608668814280912611",
         739,
         1720551765000
        ],
        [
         "dbfs:/exam_prep/courses_db/_committed_290287202091883886",
         "_committed_290287202091883886",
         755,
         1720509255000
        ],
        [
         "dbfs:/exam_prep/courses_db/_committed_330306320903767112",
         "_committed_330306320903767112",
         755,
         1720507664000
        ],
        [
         "dbfs:/exam_prep/courses_db/_committed_3767401897592464076",
         "_committed_3767401897592464076",
         756,
         1720506284000
        ],
        [
         "dbfs:/exam_prep/courses_db/_committed_3949135881799892268",
         "_committed_3949135881799892268",
         759,
         1720507628000
        ],
        [
         "dbfs:/exam_prep/courses_db/_committed_4125539821250865405",
         "_committed_4125539821250865405",
         755,
         1720507796000
        ],
        [
         "dbfs:/exam_prep/courses_db/_committed_5215570314862080272",
         "_committed_5215570314862080272",
         759,
         1720508962000
        ],
        [
         "dbfs:/exam_prep/courses_db/_committed_5606019503495517568",
         "_committed_5606019503495517568",
         747,
         1720509205000
        ],
        [
         "dbfs:/exam_prep/courses_db/_committed_7490865060007883683",
         "_committed_7490865060007883683",
         735,
         1720506291000
        ],
        [
         "dbfs:/exam_prep/courses_db/_committed_825946026845942489",
         "_committed_825946026845942489",
         751,
         1720507696000
        ],
        [
         "dbfs:/exam_prep/courses_db/_committed_8459858440003677183",
         "_committed_8459858440003677183",
         739,
         1720551632000
        ],
        [
         "dbfs:/exam_prep/courses_db/_started_2608668814280912611",
         "_started_2608668814280912611",
         0,
         1720551764000
        ],
        [
         "dbfs:/exam_prep/courses_db/_started_8459858440003677183",
         "_started_8459858440003677183",
         0,
         1720551632000
        ],
        [
         "dbfs:/exam_prep/courses_db/part-00000-tid-2608668814280912611-72818549-1e05-42e5-95c4-6299b850c52b-4-1-c000.json.gz",
         "part-00000-tid-2608668814280912611-72818549-1e05-42e5-95c4-6299b850c52b-4-1-c000.json.gz",
         138,
         1720551765000
        ],
        [
         "dbfs:/exam_prep/courses_db/part-00001-tid-2608668814280912611-72818549-1e05-42e5-95c4-6299b850c52b-5-1-c000.json.gz",
         "part-00001-tid-2608668814280912611-72818549-1e05-42e5-95c4-6299b850c52b-5-1-c000.json.gz",
         144,
         1720551765000
        ],
        [
         "dbfs:/exam_prep/courses_db/part-00002-tid-2608668814280912611-72818549-1e05-42e5-95c4-6299b850c52b-6-1-c000.json.gz",
         "part-00002-tid-2608668814280912611-72818549-1e05-42e5-95c4-6299b850c52b-6-1-c000.json.gz",
         139,
         1720551765000
        ],
        [
         "dbfs:/exam_prep/courses_db/part-00003-tid-2608668814280912611-72818549-1e05-42e5-95c4-6299b850c52b-7-1-c000.json.gz",
         "part-00003-tid-2608668814280912611-72818549-1e05-42e5-95c4-6299b850c52b-7-1-c000.json.gz",
         178,
         1720551765000
        ]
       ],
       "datasetInfos": [],
       "dbfsResultPath": null,
       "isJsonSchema": true,
       "metadata": {
        "isDbfsCommandResult": false
       },
       "overflow": false,
       "plotOptions": {
        "customPlotOptions": {},
        "displayType": "table",
        "pivotAggregation": null,
        "pivotColumns": null,
        "xColumns": null,
        "yColumns": null
       },
       "removedWidgets": [],
       "schema": [
        {
         "metadata": "{}",
         "name": "path",
         "type": "\"string\""
        },
        {
         "metadata": "{}",
         "name": "name",
         "type": "\"string\""
        },
        {
         "metadata": "{}",
         "name": "size",
         "type": "\"long\""
        },
        {
         "metadata": "{}",
         "name": "modificationTime",
         "type": "\"long\""
        }
       ],
       "type": "table"
      }
     },
     "output_type": "display_data"
    }
   ],
   "source": [
    "%fs ls /exam_prep/courses_db"
   ]
  },
  {
   "cell_type": "code",
   "execution_count": 0,
   "metadata": {
    "application/vnd.databricks.v1+cell": {
     "cellMetadata": {
      "byteLimit": 2048000,
      "rowLimit": 10000
     },
     "inputWidgets": {},
     "nuid": "4270ada0-baa8-4fed-a065-06fe783d3d42",
     "showTitle": false,
     "title": ""
    }
   },
   "outputs": [
    {
     "output_type": "execute_result",
     "data": {
      "text/plain": [
       "'snappy'"
      ]
     },
     "execution_count": 2,
     "metadata": {},
     "output_type": "execute_result"
    }
   ],
   "source": [
    "spark.conf.get('spark.sql.parquet.compression.codec')"
   ]
  },
  {
   "cell_type": "code",
   "execution_count": 0,
   "metadata": {
    "application/vnd.databricks.v1+cell": {
     "cellMetadata": {
      "byteLimit": 2048000,
      "rowLimit": 10000
     },
     "inputWidgets": {},
     "nuid": "274b2076-9b8c-4f9a-abfd-a2bfaa6b57b3",
     "showTitle": false,
     "title": ""
    }
   },
   "outputs": [],
   "source": [
    "spark.conf.set('spark.sql.parquet.compression.codec', 'gzip')"
   ]
  },
  {
   "cell_type": "code",
   "execution_count": 0,
   "metadata": {
    "application/vnd.databricks.v1+cell": {
     "cellMetadata": {
      "byteLimit": 2048000,
      "rowLimit": 10000
     },
     "inputWidgets": {},
     "nuid": "5985bbad-6709-4f59-8a7c-23baae8629e4",
     "showTitle": false,
     "title": ""
    }
   },
   "outputs": [
    {
     "output_type": "execute_result",
     "data": {
      "text/plain": [
       "'gzip'"
      ]
     },
     "execution_count": 4,
     "metadata": {},
     "output_type": "execute_result"
    }
   ],
   "source": [
    "spark.conf.get('spark.sql.parquet.compression.codec')"
   ]
  },
  {
   "cell_type": "code",
   "execution_count": 0,
   "metadata": {
    "application/vnd.databricks.v1+cell": {
     "cellMetadata": {
      "byteLimit": 2048000,
      "rowLimit": 10000
     },
     "inputWidgets": {},
     "nuid": "159439e7-4063-4df7-8dc5-3ea6f8f5e10f",
     "showTitle": false,
     "title": ""
    }
   },
   "outputs": [
    {
     "output_type": "execute_result",
     "data": {
      "text/plain": [
       "True"
      ]
     },
     "execution_count": 5,
     "metadata": {},
     "output_type": "execute_result"
    }
   ],
   "source": [
    "dbutils.fs.rm('/exam_prep/courses_db', recurse=True)"
   ]
  },
  {
   "cell_type": "code",
   "execution_count": 0,
   "metadata": {
    "application/vnd.databricks.v1+cell": {
     "cellMetadata": {
      "byteLimit": 2048000,
      "rowLimit": 10000
     },
     "inputWidgets": {},
     "nuid": "8bb0b828-9d85-40be-b51a-11135709bd4f",
     "showTitle": false,
     "title": ""
    }
   },
   "outputs": [
    {
     "output_type": "display_data",
     "data": {
      "text/html": [
       "<style scoped>\n",
       "  .table-result-container {\n",
       "    max-height: 300px;\n",
       "    overflow: auto;\n",
       "  }\n",
       "  table, th, td {\n",
       "    border: 1px solid black;\n",
       "    border-collapse: collapse;\n",
       "  }\n",
       "  th, td {\n",
       "    padding: 5px;\n",
       "  }\n",
       "  th {\n",
       "    text-align: left;\n",
       "  }\n",
       "</style><div class='table-result-container'><table class='table-result'><thead style='background-color: white'><tr><th>path</th><th>name</th><th>size</th><th>modificationTime</th></tr></thead><tbody><tr><td>dbfs:/exam_prep/courses_csv/</td><td>courses_csv/</td><td>0</td><td>1720503757000</td></tr><tr><td>dbfs:/exam_prep/retail_db/</td><td>retail_db/</td><td>0</td><td>1720271878000</td></tr><tr><td>dbfs:/exam_prep/retail_db_json/</td><td>retail_db_json/</td><td>0</td><td>1720271858000</td></tr></tbody></table></div>"
      ]
     },
     "metadata": {
      "application/vnd.databricks.v1+output": {
       "addedWidgets": {},
       "aggData": [],
       "aggError": "",
       "aggOverflow": false,
       "aggSchema": [],
       "aggSeriesLimitReached": false,
       "aggType": "",
       "arguments": {},
       "columnCustomDisplayInfos": {},
       "data": [
        [
         "dbfs:/exam_prep/courses_csv/",
         "courses_csv/",
         0,
         1720503757000
        ],
        [
         "dbfs:/exam_prep/retail_db/",
         "retail_db/",
         0,
         1720271878000
        ],
        [
         "dbfs:/exam_prep/retail_db_json/",
         "retail_db_json/",
         0,
         1720271858000
        ]
       ],
       "datasetInfos": [],
       "dbfsResultPath": null,
       "isJsonSchema": true,
       "metadata": {
        "isDbfsCommandResult": false
       },
       "overflow": false,
       "plotOptions": {
        "customPlotOptions": {},
        "displayType": "table",
        "pivotAggregation": null,
        "pivotColumns": null,
        "xColumns": null,
        "yColumns": null
       },
       "removedWidgets": [],
       "schema": [
        {
         "metadata": "{}",
         "name": "path",
         "type": "\"string\""
        },
        {
         "metadata": "{}",
         "name": "name",
         "type": "\"string\""
        },
        {
         "metadata": "{}",
         "name": "size",
         "type": "\"long\""
        },
        {
         "metadata": "{}",
         "name": "modificationTime",
         "type": "\"long\""
        }
       ],
       "type": "table"
      }
     },
     "output_type": "display_data"
    }
   ],
   "source": [
    "%fs ls /exam_prep/"
   ]
  },
  {
   "cell_type": "code",
   "execution_count": 0,
   "metadata": {
    "application/vnd.databricks.v1+cell": {
     "cellMetadata": {
      "byteLimit": 2048000,
      "rowLimit": 10000
     },
     "inputWidgets": {},
     "nuid": "89f020e2-3b78-4731-b70d-4b81d892177b",
     "showTitle": false,
     "title": ""
    }
   },
   "outputs": [],
   "source": [
    "courses_df.write.format('parquet').save('/exam_prep/courses_db', mode='overwrite')"
   ]
  },
  {
   "cell_type": "code",
   "execution_count": 0,
   "metadata": {
    "application/vnd.databricks.v1+cell": {
     "cellMetadata": {
      "byteLimit": 2048000,
      "rowLimit": 10000
     },
     "inputWidgets": {},
     "nuid": "16ef5264-1ce7-4df9-91b3-9703dc1b37fc",
     "showTitle": false,
     "title": ""
    }
   },
   "outputs": [
    {
     "output_type": "display_data",
     "data": {
      "text/html": [
       "<style scoped>\n",
       "  .table-result-container {\n",
       "    max-height: 300px;\n",
       "    overflow: auto;\n",
       "  }\n",
       "  table, th, td {\n",
       "    border: 1px solid black;\n",
       "    border-collapse: collapse;\n",
       "  }\n",
       "  th, td {\n",
       "    padding: 5px;\n",
       "  }\n",
       "  th {\n",
       "    text-align: left;\n",
       "  }\n",
       "</style><div class='table-result-container'><table class='table-result'><thead style='background-color: white'><tr><th>path</th><th>name</th><th>size</th><th>modificationTime</th></tr></thead><tbody><tr><td>dbfs:/exam_prep/courses_db/_SUCCESS</td><td>_SUCCESS</td><td>0</td><td>1720674735000</td></tr><tr><td>dbfs:/exam_prep/courses_db/_committed_29435125948800518</td><td>_committed_29435125948800518</td><td>392</td><td>1720674735000</td></tr><tr><td>dbfs:/exam_prep/courses_db/_started_29435125948800518</td><td>_started_29435125948800518</td><td>0</td><td>1720674733000</td></tr><tr><td>dbfs:/exam_prep/courses_db/part-00000-tid-29435125948800518-888875b3-0eaf-4edc-8c71-1062b4d9e2b0-0-1-c000.gz.parquet</td><td>part-00000-tid-29435125948800518-888875b3-0eaf-4edc-8c71-1062b4d9e2b0-0-1-c000.gz.parquet</td><td>1755</td><td>1720674735000</td></tr><tr><td>dbfs:/exam_prep/courses_db/part-00001-tid-29435125948800518-888875b3-0eaf-4edc-8c71-1062b4d9e2b0-1-1-c000.gz.parquet</td><td>part-00001-tid-29435125948800518-888875b3-0eaf-4edc-8c71-1062b4d9e2b0-1-1-c000.gz.parquet</td><td>1832</td><td>1720674735000</td></tr><tr><td>dbfs:/exam_prep/courses_db/part-00002-tid-29435125948800518-888875b3-0eaf-4edc-8c71-1062b4d9e2b0-2-1-c000.gz.parquet</td><td>part-00002-tid-29435125948800518-888875b3-0eaf-4edc-8c71-1062b4d9e2b0-2-1-c000.gz.parquet</td><td>1761</td><td>1720674735000</td></tr><tr><td>dbfs:/exam_prep/courses_db/part-00003-tid-29435125948800518-888875b3-0eaf-4edc-8c71-1062b4d9e2b0-3-1-c000.gz.parquet</td><td>part-00003-tid-29435125948800518-888875b3-0eaf-4edc-8c71-1062b4d9e2b0-3-1-c000.gz.parquet</td><td>1678</td><td>1720674735000</td></tr></tbody></table></div>"
      ]
     },
     "metadata": {
      "application/vnd.databricks.v1+output": {
       "addedWidgets": {},
       "aggData": [],
       "aggError": "",
       "aggOverflow": false,
       "aggSchema": [],
       "aggSeriesLimitReached": false,
       "aggType": "",
       "arguments": {},
       "columnCustomDisplayInfos": {},
       "data": [
        [
         "dbfs:/exam_prep/courses_db/_SUCCESS",
         "_SUCCESS",
         0,
         1720674735000
        ],
        [
         "dbfs:/exam_prep/courses_db/_committed_29435125948800518",
         "_committed_29435125948800518",
         392,
         1720674735000
        ],
        [
         "dbfs:/exam_prep/courses_db/_started_29435125948800518",
         "_started_29435125948800518",
         0,
         1720674733000
        ],
        [
         "dbfs:/exam_prep/courses_db/part-00000-tid-29435125948800518-888875b3-0eaf-4edc-8c71-1062b4d9e2b0-0-1-c000.gz.parquet",
         "part-00000-tid-29435125948800518-888875b3-0eaf-4edc-8c71-1062b4d9e2b0-0-1-c000.gz.parquet",
         1755,
         1720674735000
        ],
        [
         "dbfs:/exam_prep/courses_db/part-00001-tid-29435125948800518-888875b3-0eaf-4edc-8c71-1062b4d9e2b0-1-1-c000.gz.parquet",
         "part-00001-tid-29435125948800518-888875b3-0eaf-4edc-8c71-1062b4d9e2b0-1-1-c000.gz.parquet",
         1832,
         1720674735000
        ],
        [
         "dbfs:/exam_prep/courses_db/part-00002-tid-29435125948800518-888875b3-0eaf-4edc-8c71-1062b4d9e2b0-2-1-c000.gz.parquet",
         "part-00002-tid-29435125948800518-888875b3-0eaf-4edc-8c71-1062b4d9e2b0-2-1-c000.gz.parquet",
         1761,
         1720674735000
        ],
        [
         "dbfs:/exam_prep/courses_db/part-00003-tid-29435125948800518-888875b3-0eaf-4edc-8c71-1062b4d9e2b0-3-1-c000.gz.parquet",
         "part-00003-tid-29435125948800518-888875b3-0eaf-4edc-8c71-1062b4d9e2b0-3-1-c000.gz.parquet",
         1678,
         1720674735000
        ]
       ],
       "datasetInfos": [],
       "dbfsResultPath": null,
       "isJsonSchema": true,
       "metadata": {
        "isDbfsCommandResult": false
       },
       "overflow": false,
       "plotOptions": {
        "customPlotOptions": {},
        "displayType": "table",
        "pivotAggregation": null,
        "pivotColumns": null,
        "xColumns": null,
        "yColumns": null
       },
       "removedWidgets": [],
       "schema": [
        {
         "metadata": "{}",
         "name": "path",
         "type": "\"string\""
        },
        {
         "metadata": "{}",
         "name": "name",
         "type": "\"string\""
        },
        {
         "metadata": "{}",
         "name": "size",
         "type": "\"long\""
        },
        {
         "metadata": "{}",
         "name": "modificationTime",
         "type": "\"long\""
        }
       ],
       "type": "table"
      }
     },
     "output_type": "display_data"
    }
   ],
   "source": [
    "%fs ls /exam_prep/courses_db"
   ]
  }
 ],
 "metadata": {
  "application/vnd.databricks.v1+notebook": {
   "dashboards": [],
   "environmentMetadata": null,
   "language": "python",
   "notebookMetadata": {
    "mostRecentlyExecutedCommandWithImplicitDF": {
     "commandId": 3512772653005224,
     "dataframes": [
      "_sqldf"
     ]
    },
    "pythonIndentUnit": 4
   },
   "notebookName": "45_writing_parquet_files",
   "widgets": {}
  }
 },
 "nbformat": 4,
 "nbformat_minor": 0
}

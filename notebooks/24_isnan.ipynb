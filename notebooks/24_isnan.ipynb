{
 "cells": [
  {
   "cell_type": "code",
   "execution_count": 0,
   "metadata": {
    "application/vnd.databricks.v1+cell": {
     "cellMetadata": {
      "byteLimit": 2048000,
      "rowLimit": 10000
     },
     "inputWidgets": {},
     "nuid": "d8677dee-24ac-49a4-862f-ce7540ea1515",
     "showTitle": false,
     "title": ""
    }
   },
   "outputs": [
    {
     "output_type": "stream",
     "name": "stdout",
     "output_type": "stream",
     "text": [
      "+----+----+-----+\n|col1|col2| col3|\n+----+----+-----+\n| NaN|NULL|  NaN|\n|NULL| NaN|  NaN|\n| NaN| NaN| NULL|\n| 1.0| 2.0|value|\n+----+----+-----+\n\n"
     ]
    }
   ],
   "source": [
    "data = [\n",
    "    {\"col1\": float('nan'), \"col2\": None, \"col3\": \"NaN\"},\n",
    "    {\"col1\": None, \"col2\": float('nan'), \"col3\": \"NaN\"},\n",
    "    {\"col1\": float('nan'), \"col2\": float('nan'), \"col3\": None},\n",
    "    {\"col1\": 1.0, \"col2\": 2.0, \"col3\": \"value\"}\n",
    "]\n",
    "\n",
    "# Create a Spark DataFrame from the list of dictionaries\n",
    "df = spark.createDataFrame(data)\n",
    "\n",
    "# Show the DataFrame\n",
    "df.show()"
   ]
  },
  {
   "cell_type": "code",
   "execution_count": 0,
   "metadata": {
    "application/vnd.databricks.v1+cell": {
     "cellMetadata": {
      "byteLimit": 2048000,
      "rowLimit": 10000
     },
     "inputWidgets": {},
     "nuid": "dbf97bb2-1d28-4f9e-a2d2-8dc30ee99329",
     "showTitle": false,
     "title": ""
    }
   },
   "outputs": [],
   "source": [
    "from pyspark.sql.functions import isnan"
   ]
  },
  {
   "cell_type": "code",
   "execution_count": 0,
   "metadata": {
    "application/vnd.databricks.v1+cell": {
     "cellMetadata": {
      "byteLimit": 2048000,
      "rowLimit": 10000
     },
     "inputWidgets": {},
     "nuid": "9f4d3e51-4b07-42bc-bd48-1ac78efc061b",
     "showTitle": false,
     "title": ""
    }
   },
   "outputs": [
    {
     "output_type": "stream",
     "name": "stdout",
     "output_type": "stream",
     "text": [
      "+----+----+----+\n|col1|col2|col3|\n+----+----+----+\n|NULL| NaN| NaN|\n| NaN| NaN|NULL|\n+----+----+----+\n\n"
     ]
    }
   ],
   "source": [
    "df.filter(isnan('col2') == True).show()"
   ]
  },
  {
   "cell_type": "code",
   "execution_count": 0,
   "metadata": {
    "application/vnd.databricks.v1+cell": {
     "cellMetadata": {
      "byteLimit": 2048000,
      "rowLimit": 10000
     },
     "inputWidgets": {},
     "nuid": "ed6505f6-ef9a-4eae-a657-1c8e0fbf7368",
     "showTitle": false,
     "title": ""
    }
   },
   "outputs": [
    {
     "output_type": "stream",
     "name": "stdout",
     "output_type": "stream",
     "text": [
      "+----+----+----+\n|col1|col2|col3|\n+----+----+----+\n|NULL| NaN| NaN|\n| NaN| NaN|NULL|\n+----+----+----+\n\n"
     ]
    }
   ],
   "source": [
    "# with sql style syntax, no need to import isnan\n",
    "df.filter(\"isnan(col2) = True\").show()"
   ]
  }
 ],
 "metadata": {
  "application/vnd.databricks.v1+notebook": {
   "dashboards": [],
   "environmentMetadata": null,
   "language": "python",
   "notebookMetadata": {
    "pythonIndentUnit": 4
   },
   "notebookName": "24_isnan",
   "widgets": {}
  }
 },
 "nbformat": 4,
 "nbformat_minor": 0
}

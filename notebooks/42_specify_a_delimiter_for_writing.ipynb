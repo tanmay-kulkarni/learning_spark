{
 "cells": [
  {
   "cell_type": "code",
   "execution_count": 0,
   "metadata": {
    "application/vnd.databricks.v1+cell": {
     "cellMetadata": {
      "byteLimit": 2048000,
      "rowLimit": 10000
     },
     "inputWidgets": {},
     "nuid": "88a2f3d6-90e1-48ea-9188-eb5889360bc6",
     "showTitle": false,
     "title": ""
    }
   },
   "outputs": [],
   "source": [
    "from pyspark.sql import Row\n",
    "\n",
    "import datetime\n",
    "\n",
    "\n",
    "courses = [\n",
    "    {\n",
    "        'course_id': 1,\n",
    "        'course_title': 'Mastering Python',\n",
    "        'course_published_dt': datetime.date(2021, 1, 14),\n",
    "        'is_active': True,\n",
    "        'last_updated_ts': datetime.datetime(2021, 2, 18, 16, 57, 25)\n",
    "    },\n",
    "    {\n",
    "        'course_id': 2,\n",
    "        'course_title': 'Data Engineering Essentials',\n",
    "        'course_published_dt': datetime.date(2021, 2, 10),\n",
    "        'is_active': True,\n",
    "        'last_updated_ts': datetime.datetime(2021, 3, 5, 12, 7, 33)\n",
    "    },\n",
    "    {\n",
    "        'course_id': 3,\n",
    "        'course_title': 'Mastering Pyspark',\n",
    "        'course_published_dt': datetime.date(2021, 1, 7),\n",
    "        'is_active': True,\n",
    "        'last_updated_ts': datetime.datetime(2021, 4, 6, 10, 5, 42)\n",
    "    },\n",
    "    {\n",
    "        'course_id': 4,\n",
    "        'course_title': 'AWS Essentials',\n",
    "        'course_published_dt': datetime.date(2021, 3, 19),\n",
    "        'is_active': False,\n",
    "        'last_updated_ts': datetime.datetime(2021, 4, 10, 2, 25, 36)\n",
    "    },\n",
    "    {\n",
    "        'course_id': 5,\n",
    "        'course_title': 'Docker 101',\n",
    "        'course_published_dt': datetime.date(2021, 2, 28),\n",
    "        'is_active': True,\n",
    "        'last_updated_ts': datetime.datetime(2021, 3, 21, 7, 18, 52)\n",
    "    }\n",
    "]\n",
    "\n",
    "courses_df = spark.createDataFrame([Row(**course) for course in courses])"
   ]
  },
  {
   "cell_type": "code",
   "execution_count": 0,
   "metadata": {
    "application/vnd.databricks.v1+cell": {
     "cellMetadata": {
      "byteLimit": 2048000,
      "rowLimit": 10000
     },
     "inputWidgets": {},
     "nuid": "d29e95f2-4fa6-4fc5-909e-2875f20f83e3",
     "showTitle": false,
     "title": ""
    }
   },
   "outputs": [
    {
     "output_type": "display_data",
     "data": {
      "text/html": [
       "<style scoped>\n",
       "  .table-result-container {\n",
       "    max-height: 300px;\n",
       "    overflow: auto;\n",
       "  }\n",
       "  table, th, td {\n",
       "    border: 1px solid black;\n",
       "    border-collapse: collapse;\n",
       "  }\n",
       "  th, td {\n",
       "    padding: 5px;\n",
       "  }\n",
       "  th {\n",
       "    text-align: left;\n",
       "  }\n",
       "</style><div class='table-result-container'><table class='table-result'><thead style='background-color: white'><tr><th>path</th><th>name</th><th>size</th><th>modificationTime</th></tr></thead><tbody><tr><td>dbfs:/exam_prep/courses_db/_SUCCESS</td><td>_SUCCESS</td><td>0</td><td>1720504977000</td></tr><tr><td>dbfs:/exam_prep/courses_db/_committed_5620968563558300741</td><td>_committed_5620968563558300741</td><td>390</td><td>1720504977000</td></tr><tr><td>dbfs:/exam_prep/courses_db/_started_5620968563558300741</td><td>_started_5620968563558300741</td><td>0</td><td>1720504977000</td></tr><tr><td>dbfs:/exam_prep/courses_db/part-00000-tid-5620968563558300741-30569954-ecc3-49ea-917c-aeef21916a53-98-1-c000.csv.gz</td><td>part-00000-tid-5620968563558300741-30569954-ecc3-49ea-917c-aeef21916a53-98-1-c000.csv.gz</td><td>127</td><td>1720504977000</td></tr><tr><td>dbfs:/exam_prep/courses_db/part-00001-tid-5620968563558300741-30569954-ecc3-49ea-917c-aeef21916a53-99-1-c000.csv.gz</td><td>part-00001-tid-5620968563558300741-30569954-ecc3-49ea-917c-aeef21916a53-99-1-c000.csv.gz</td><td>132</td><td>1720504977000</td></tr><tr><td>dbfs:/exam_prep/courses_db/part-00002-tid-5620968563558300741-30569954-ecc3-49ea-917c-aeef21916a53-100-1-c000.csv.gz</td><td>part-00002-tid-5620968563558300741-30569954-ecc3-49ea-917c-aeef21916a53-100-1-c000.csv.gz</td><td>130</td><td>1720504977000</td></tr><tr><td>dbfs:/exam_prep/courses_db/part-00003-tid-5620968563558300741-30569954-ecc3-49ea-917c-aeef21916a53-101-1-c000.csv.gz</td><td>part-00003-tid-5620968563558300741-30569954-ecc3-49ea-917c-aeef21916a53-101-1-c000.csv.gz</td><td>156</td><td>1720504977000</td></tr></tbody></table></div>"
      ]
     },
     "metadata": {
      "application/vnd.databricks.v1+output": {
       "addedWidgets": {},
       "aggData": [],
       "aggError": "",
       "aggOverflow": false,
       "aggSchema": [],
       "aggSeriesLimitReached": false,
       "aggType": "",
       "arguments": {},
       "columnCustomDisplayInfos": {},
       "data": [
        [
         "dbfs:/exam_prep/courses_db/_SUCCESS",
         "_SUCCESS",
         0,
         1720504977000
        ],
        [
         "dbfs:/exam_prep/courses_db/_committed_5620968563558300741",
         "_committed_5620968563558300741",
         390,
         1720504977000
        ],
        [
         "dbfs:/exam_prep/courses_db/_started_5620968563558300741",
         "_started_5620968563558300741",
         0,
         1720504977000
        ],
        [
         "dbfs:/exam_prep/courses_db/part-00000-tid-5620968563558300741-30569954-ecc3-49ea-917c-aeef21916a53-98-1-c000.csv.gz",
         "part-00000-tid-5620968563558300741-30569954-ecc3-49ea-917c-aeef21916a53-98-1-c000.csv.gz",
         127,
         1720504977000
        ],
        [
         "dbfs:/exam_prep/courses_db/part-00001-tid-5620968563558300741-30569954-ecc3-49ea-917c-aeef21916a53-99-1-c000.csv.gz",
         "part-00001-tid-5620968563558300741-30569954-ecc3-49ea-917c-aeef21916a53-99-1-c000.csv.gz",
         132,
         1720504977000
        ],
        [
         "dbfs:/exam_prep/courses_db/part-00002-tid-5620968563558300741-30569954-ecc3-49ea-917c-aeef21916a53-100-1-c000.csv.gz",
         "part-00002-tid-5620968563558300741-30569954-ecc3-49ea-917c-aeef21916a53-100-1-c000.csv.gz",
         130,
         1720504977000
        ],
        [
         "dbfs:/exam_prep/courses_db/part-00003-tid-5620968563558300741-30569954-ecc3-49ea-917c-aeef21916a53-101-1-c000.csv.gz",
         "part-00003-tid-5620968563558300741-30569954-ecc3-49ea-917c-aeef21916a53-101-1-c000.csv.gz",
         156,
         1720504977000
        ]
       ],
       "datasetInfos": [],
       "dbfsResultPath": null,
       "isJsonSchema": true,
       "metadata": {
        "isDbfsCommandResult": false
       },
       "overflow": false,
       "plotOptions": {
        "customPlotOptions": {},
        "displayType": "table",
        "pivotAggregation": null,
        "pivotColumns": null,
        "xColumns": null,
        "yColumns": null
       },
       "removedWidgets": [],
       "schema": [
        {
         "metadata": "{}",
         "name": "path",
         "type": "\"string\""
        },
        {
         "metadata": "{}",
         "name": "name",
         "type": "\"string\""
        },
        {
         "metadata": "{}",
         "name": "size",
         "type": "\"long\""
        },
        {
         "metadata": "{}",
         "name": "modificationTime",
         "type": "\"long\""
        }
       ],
       "type": "table"
      }
     },
     "output_type": "display_data"
    }
   ],
   "source": [
    "%fs ls '/exam_prep/courses_db'"
   ]
  },
  {
   "cell_type": "code",
   "execution_count": 0,
   "metadata": {
    "application/vnd.databricks.v1+cell": {
     "cellMetadata": {
      "byteLimit": 2048000,
      "rowLimit": 10000
     },
     "inputWidgets": {},
     "nuid": "c649d89b-aafc-49db-bf97-fe05a5ae5a0c",
     "showTitle": false,
     "title": ""
    }
   },
   "outputs": [],
   "source": [
    "courses_df.write.csv('/exam_prep/courses_db', mode='overwrite', sep='|', header=True)"
   ]
  },
  {
   "cell_type": "code",
   "execution_count": 0,
   "metadata": {
    "application/vnd.databricks.v1+cell": {
     "cellMetadata": {
      "byteLimit": 2048000,
      "rowLimit": 10000
     },
     "inputWidgets": {},
     "nuid": "1aa28fc1-7a9f-41d8-bed6-d6164bd83282",
     "showTitle": false,
     "title": ""
    }
   },
   "outputs": [
    {
     "output_type": "display_data",
     "data": {
      "text/html": [
       "<style scoped>\n",
       "  .table-result-container {\n",
       "    max-height: 300px;\n",
       "    overflow: auto;\n",
       "  }\n",
       "  table, th, td {\n",
       "    border: 1px solid black;\n",
       "    border-collapse: collapse;\n",
       "  }\n",
       "  th, td {\n",
       "    padding: 5px;\n",
       "  }\n",
       "  th {\n",
       "    text-align: left;\n",
       "  }\n",
       "</style><div class='table-result-container'><table class='table-result'><thead style='background-color: white'><tr><th>path</th><th>name</th><th>size</th><th>modificationTime</th></tr></thead><tbody><tr><td>dbfs:/exam_prep/courses_db/_SUCCESS</td><td>_SUCCESS</td><td>0</td><td>1720506291000</td></tr><tr><td>dbfs:/exam_prep/courses_db/_committed_3767401897592464076</td><td>_committed_3767401897592464076</td><td>756</td><td>1720506284000</td></tr><tr><td>dbfs:/exam_prep/courses_db/_committed_5620968563558300741</td><td>_committed_5620968563558300741</td><td>390</td><td>1720504977000</td></tr><tr><td>dbfs:/exam_prep/courses_db/_committed_7490865060007883683</td><td>_committed_7490865060007883683</td><td>735</td><td>1720506291000</td></tr><tr><td>dbfs:/exam_prep/courses_db/_started_3767401897592464076</td><td>_started_3767401897592464076</td><td>0</td><td>1720506284000</td></tr><tr><td>dbfs:/exam_prep/courses_db/_started_5620968563558300741</td><td>_started_5620968563558300741</td><td>0</td><td>1720504977000</td></tr><tr><td>dbfs:/exam_prep/courses_db/_started_7490865060007883683</td><td>_started_7490865060007883683</td><td>0</td><td>1720506291000</td></tr><tr><td>dbfs:/exam_prep/courses_db/part-00000-tid-7490865060007883683-95ea3204-1623-4868-a979-8c9ae93f5565-114-1-c000.csv</td><td>part-00000-tid-7490865060007883683-95ea3204-1623-4868-a979-8c9ae93f5565-114-1-c000.csv</td><td>129</td><td>1720506291000</td></tr><tr><td>dbfs:/exam_prep/courses_db/part-00001-tid-7490865060007883683-95ea3204-1623-4868-a979-8c9ae93f5565-115-1-c000.csv</td><td>part-00001-tid-7490865060007883683-95ea3204-1623-4868-a979-8c9ae93f5565-115-1-c000.csv</td><td>140</td><td>1720506291000</td></tr><tr><td>dbfs:/exam_prep/courses_db/part-00002-tid-7490865060007883683-95ea3204-1623-4868-a979-8c9ae93f5565-116-1-c000.csv</td><td>part-00002-tid-7490865060007883683-95ea3204-1623-4868-a979-8c9ae93f5565-116-1-c000.csv</td><td>130</td><td>1720506291000</td></tr><tr><td>dbfs:/exam_prep/courses_db/part-00003-tid-7490865060007883683-95ea3204-1623-4868-a979-8c9ae93f5565-117-1-c000.csv</td><td>part-00003-tid-7490865060007883683-95ea3204-1623-4868-a979-8c9ae93f5565-117-1-c000.csv</td><td>182</td><td>1720506291000</td></tr></tbody></table></div>"
      ]
     },
     "metadata": {
      "application/vnd.databricks.v1+output": {
       "addedWidgets": {},
       "aggData": [],
       "aggError": "",
       "aggOverflow": false,
       "aggSchema": [],
       "aggSeriesLimitReached": false,
       "aggType": "",
       "arguments": {},
       "columnCustomDisplayInfos": {},
       "data": [
        [
         "dbfs:/exam_prep/courses_db/_SUCCESS",
         "_SUCCESS",
         0,
         1720506291000
        ],
        [
         "dbfs:/exam_prep/courses_db/_committed_3767401897592464076",
         "_committed_3767401897592464076",
         756,
         1720506284000
        ],
        [
         "dbfs:/exam_prep/courses_db/_committed_5620968563558300741",
         "_committed_5620968563558300741",
         390,
         1720504977000
        ],
        [
         "dbfs:/exam_prep/courses_db/_committed_7490865060007883683",
         "_committed_7490865060007883683",
         735,
         1720506291000
        ],
        [
         "dbfs:/exam_prep/courses_db/_started_3767401897592464076",
         "_started_3767401897592464076",
         0,
         1720506284000
        ],
        [
         "dbfs:/exam_prep/courses_db/_started_5620968563558300741",
         "_started_5620968563558300741",
         0,
         1720504977000
        ],
        [
         "dbfs:/exam_prep/courses_db/_started_7490865060007883683",
         "_started_7490865060007883683",
         0,
         1720506291000
        ],
        [
         "dbfs:/exam_prep/courses_db/part-00000-tid-7490865060007883683-95ea3204-1623-4868-a979-8c9ae93f5565-114-1-c000.csv",
         "part-00000-tid-7490865060007883683-95ea3204-1623-4868-a979-8c9ae93f5565-114-1-c000.csv",
         129,
         1720506291000
        ],
        [
         "dbfs:/exam_prep/courses_db/part-00001-tid-7490865060007883683-95ea3204-1623-4868-a979-8c9ae93f5565-115-1-c000.csv",
         "part-00001-tid-7490865060007883683-95ea3204-1623-4868-a979-8c9ae93f5565-115-1-c000.csv",
         140,
         1720506291000
        ],
        [
         "dbfs:/exam_prep/courses_db/part-00002-tid-7490865060007883683-95ea3204-1623-4868-a979-8c9ae93f5565-116-1-c000.csv",
         "part-00002-tid-7490865060007883683-95ea3204-1623-4868-a979-8c9ae93f5565-116-1-c000.csv",
         130,
         1720506291000
        ],
        [
         "dbfs:/exam_prep/courses_db/part-00003-tid-7490865060007883683-95ea3204-1623-4868-a979-8c9ae93f5565-117-1-c000.csv",
         "part-00003-tid-7490865060007883683-95ea3204-1623-4868-a979-8c9ae93f5565-117-1-c000.csv",
         182,
         1720506291000
        ]
       ],
       "datasetInfos": [],
       "dbfsResultPath": null,
       "isJsonSchema": true,
       "metadata": {
        "isDbfsCommandResult": false
       },
       "overflow": false,
       "plotOptions": {
        "customPlotOptions": {},
        "displayType": "table",
        "pivotAggregation": null,
        "pivotColumns": null,
        "xColumns": null,
        "yColumns": null
       },
       "removedWidgets": [],
       "schema": [
        {
         "metadata": "{}",
         "name": "path",
         "type": "\"string\""
        },
        {
         "metadata": "{}",
         "name": "name",
         "type": "\"string\""
        },
        {
         "metadata": "{}",
         "name": "size",
         "type": "\"long\""
        },
        {
         "metadata": "{}",
         "name": "modificationTime",
         "type": "\"long\""
        }
       ],
       "type": "table"
      }
     },
     "output_type": "display_data"
    }
   ],
   "source": [
    "%fs ls /exam_prep/courses_db"
   ]
  },
  {
   "cell_type": "code",
   "execution_count": 0,
   "metadata": {
    "application/vnd.databricks.v1+cell": {
     "cellMetadata": {
      "byteLimit": 2048000,
      "rowLimit": 10000
     },
     "inputWidgets": {},
     "nuid": "aeac1a31-3f7f-4f98-b21d-79d6efed8850",
     "showTitle": false,
     "title": ""
    }
   },
   "outputs": [
    {
     "output_type": "stream",
     "name": "stdout",
     "output_type": "stream",
     "text": [
      "+----------------------------------------------------------------------+\n|value                                                                 |\n+----------------------------------------------------------------------+\n|course_id|course_title|course_published_dt|is_active|last_updated_ts  |\n|4|AWS Essentials|2021-03-19|false|2021-04-10T02:25:36.000Z            |\n|5|Docker 101|2021-02-28|true|2021-03-21T07:18:52.000Z                 |\n|course_id|course_title|course_published_dt|is_active|last_updated_ts  |\n|2|Data Engineering Essentials|2021-02-10|true|2021-03-05T12:07:33.000Z|\n|course_id|course_title|course_published_dt|is_active|last_updated_ts  |\n|3|Mastering Pyspark|2021-01-07|true|2021-04-06T10:05:42.000Z          |\n|course_id|course_title|course_published_dt|is_active|last_updated_ts  |\n|1|Mastering Python|2021-01-14|true|2021-02-18T16:57:25.000Z           |\n+----------------------------------------------------------------------+\n\n"
     ]
    }
   ],
   "source": [
    "spark.read.text('/exam_prep/courses_db').show(truncate=False)"
   ]
  },
  {
   "cell_type": "code",
   "execution_count": 0,
   "metadata": {
    "application/vnd.databricks.v1+cell": {
     "cellMetadata": {
      "byteLimit": 2048000,
      "rowLimit": 10000
     },
     "inputWidgets": {},
     "nuid": "d4e8a7ee-cdaa-4edc-8d4f-2a5876b5d9dc",
     "showTitle": false,
     "title": ""
    }
   },
   "outputs": [
    {
     "output_type": "stream",
     "name": "stdout",
     "output_type": "stream",
     "text": [
      "+---------+--------------------+-------------------+---------+--------------------+\n|course_id|        course_title|course_published_dt|is_active|     last_updated_ts|\n+---------+--------------------+-------------------+---------+--------------------+\n|        4|      AWS Essentials|         2021-03-19|    false|2021-04-10T02:25:...|\n|        5|          Docker 101|         2021-02-28|     true|2021-03-21T07:18:...|\n|        2|Data Engineering ...|         2021-02-10|     true|2021-03-05T12:07:...|\n|        3|   Mastering Pyspark|         2021-01-07|     true|2021-04-06T10:05:...|\n|        1|    Mastering Python|         2021-01-14|     true|2021-02-18T16:57:...|\n+---------+--------------------+-------------------+---------+--------------------+\n\n"
     ]
    }
   ],
   "source": [
    "df = spark.read.csv('/exam_prep/courses_db', sep='|', header=True)\n",
    "df.show(5)"
   ]
  }
 ],
 "metadata": {
  "application/vnd.databricks.v1+notebook": {
   "dashboards": [],
   "environmentMetadata": null,
   "language": "python",
   "notebookMetadata": {
    "mostRecentlyExecutedCommandWithImplicitDF": {
     "commandId": 3620305815169977,
     "dataframes": [
      "_sqldf"
     ]
    },
    "pythonIndentUnit": 4
   },
   "notebookName": "42_specify_a_delimiter_for_writing",
   "widgets": {}
  }
 },
 "nbformat": 4,
 "nbformat_minor": 0
}

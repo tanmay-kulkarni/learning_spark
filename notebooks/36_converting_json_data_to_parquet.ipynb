{
 "cells": [
  {
   "cell_type": "code",
   "execution_count": 0,
   "metadata": {
    "application/vnd.databricks.v1+cell": {
     "cellMetadata": {
      "byteLimit": 2048000,
      "rowLimit": 10000
     },
     "inputWidgets": {},
     "nuid": "c46318de-0ddd-4203-a7c0-94fcb82e0abb",
     "showTitle": false,
     "title": ""
    }
   },
   "outputs": [],
   "source": [
    "import getpass\n",
    "\n",
    "user = getpass.getuser()"
   ]
  },
  {
   "cell_type": "code",
   "execution_count": 0,
   "metadata": {
    "application/vnd.databricks.v1+cell": {
     "cellMetadata": {
      "byteLimit": 2048000,
      "rowLimit": 10000
     },
     "inputWidgets": {},
     "nuid": "803ff504-62b7-40a3-b3ef-0b77dec2edee",
     "showTitle": false,
     "title": ""
    }
   },
   "outputs": [],
   "source": [
    "input_dir = '/exam_prep/retail_db_json'\n",
    "output_dir = f'/user/{user}/retail_db_parquet'"
   ]
  },
  {
   "cell_type": "code",
   "execution_count": 0,
   "metadata": {
    "application/vnd.databricks.v1+cell": {
     "cellMetadata": {
      "byteLimit": 2048000,
      "rowLimit": 10000
     },
     "inputWidgets": {},
     "nuid": "55c69585-2e8d-4a2d-9c78-d055b96258a9",
     "showTitle": false,
     "title": ""
    }
   },
   "outputs": [
    {
     "output_type": "execute_result",
     "data": {
      "text/plain": [
       "[FileInfo(path='dbfs:/exam_prep/retail_db_json/categories/', name='categories/', size=0, modificationTime=1720271868000),\n",
       " FileInfo(path='dbfs:/exam_prep/retail_db_json/create_db_tables_pg.sql', name='create_db_tables_pg.sql', size=1748, modificationTime=1720271860000),\n",
       " FileInfo(path='dbfs:/exam_prep/retail_db_json/customers/', name='customers/', size=0, modificationTime=1720271858000),\n",
       " FileInfo(path='dbfs:/exam_prep/retail_db_json/departments/', name='departments/', size=0, modificationTime=1720271860000),\n",
       " FileInfo(path='dbfs:/exam_prep/retail_db_json/order_items/', name='order_items/', size=0, modificationTime=1720271860000),\n",
       " FileInfo(path='dbfs:/exam_prep/retail_db_json/orders/', name='orders/', size=0, modificationTime=1720271866000),\n",
       " FileInfo(path='dbfs:/exam_prep/retail_db_json/products/', name='products/', size=0, modificationTime=1720271859000)]"
      ]
     },
     "execution_count": 7,
     "metadata": {},
     "output_type": "execute_result"
    }
   ],
   "source": [
    "dbutils.fs.ls(input_dir)"
   ]
  },
  {
   "cell_type": "code",
   "execution_count": 0,
   "metadata": {
    "application/vnd.databricks.v1+cell": {
     "cellMetadata": {
      "byteLimit": 2048000,
      "rowLimit": 10000
     },
     "inputWidgets": {},
     "nuid": "6b1ddf10-a770-41b7-aa6c-1f2ade45fd7d",
     "showTitle": false,
     "title": ""
    }
   },
   "outputs": [
    {
     "output_type": "stream",
     "name": "stdout",
     "output_type": "stream",
     "text": [
      "Converting data in file dbfs:/exam_prep/retail_db_json/categories/ from Json to Parquet\nConverting data in file dbfs:/exam_prep/retail_db_json/customers/ from Json to Parquet\nConverting data in file dbfs:/exam_prep/retail_db_json/departments/ from Json to Parquet\nConverting data in file dbfs:/exam_prep/retail_db_json/order_items/ from Json to Parquet\nConverting data in file dbfs:/exam_prep/retail_db_json/orders/ from Json to Parquet\nConverting data in file dbfs:/exam_prep/retail_db_json/products/ from Json to Parquet\n"
     ]
    }
   ],
   "source": [
    "for file_info_object in dbutils.fs.ls(input_dir):\n",
    "    if not ('.git' in file_info_object.path or file_info_object.path.endswith('.sql')):\n",
    "        print(f'Converting data in file {file_info_object.path} from Json to Parquet')\n",
    "        df = spark.read.json(file_info_object.path)\n",
    "        dataset_dir = file_info_object.path.split('/')[-2]\n",
    "        df.coalesce(1).write.parquet(f'{output_dir}/{dataset_dir}', mode='overwrite')"
   ]
  },
  {
   "cell_type": "code",
   "execution_count": 0,
   "metadata": {
    "application/vnd.databricks.v1+cell": {
     "cellMetadata": {
      "byteLimit": 2048000,
      "rowLimit": 10000
     },
     "inputWidgets": {},
     "nuid": "bf4d278d-c87c-4f60-b9a2-9dd96d348d74",
     "showTitle": false,
     "title": ""
    }
   },
   "outputs": [
    {
     "output_type": "execute_result",
     "data": {
      "text/plain": [
       "[FileInfo(path='dbfs:/user/root/retail_db_parquet/orders/_SUCCESS', name='_SUCCESS', size=0, modificationTime=1720350564000),\n",
       " FileInfo(path='dbfs:/user/root/retail_db_parquet/orders/_committed_1444203001635186969', name='_committed_1444203001635186969', size=123, modificationTime=1720350564000),\n",
       " FileInfo(path='dbfs:/user/root/retail_db_parquet/orders/_started_1444203001635186969', name='_started_1444203001635186969', size=0, modificationTime=1720350564000),\n",
       " FileInfo(path='dbfs:/user/root/retail_db_parquet/orders/part-00000-tid-1444203001635186969-16806e27-9e56-4816-81ab-813af9f21585-20-1.c000.snappy.parquet', name='part-00000-tid-1444203001635186969-16806e27-9e56-4816-81ab-813af9f21585-20-1.c000.snappy.parquet', size=488884, modificationTime=1720350564000)]"
      ]
     },
     "execution_count": 14,
     "metadata": {},
     "output_type": "execute_result"
    }
   ],
   "source": [
    "dbutils.fs.ls(f'{output_dir}/orders')"
   ]
  },
  {
   "cell_type": "markdown",
   "metadata": {
    "application/vnd.databricks.v1+cell": {
     "cellMetadata": {},
     "inputWidgets": {},
     "nuid": "3581cab8-391c-4a47-b968-a0c55175f2c9",
     "showTitle": false,
     "title": ""
    }
   },
   "source": [
    "### try reading the converted parquet file"
   ]
  },
  {
   "cell_type": "code",
   "execution_count": 0,
   "metadata": {
    "application/vnd.databricks.v1+cell": {
     "cellMetadata": {
      "byteLimit": 2048000,
      "rowLimit": 10000
     },
     "inputWidgets": {},
     "nuid": "fd38360c-9b1a-486d-91e7-73beb21867ff",
     "showTitle": false,
     "title": ""
    }
   },
   "outputs": [
    {
     "output_type": "stream",
     "name": "stdout",
     "output_type": "stream",
     "text": [
      "+-----------------+--------------------+--------+---------------+\n|order_customer_id|          order_date|order_id|   order_status|\n+-----------------+--------------------+--------+---------------+\n|            11599|2013-07-25 00:00:...|       1|         CLOSED|\n|              256|2013-07-25 00:00:...|       2|PENDING_PAYMENT|\n|            12111|2013-07-25 00:00:...|       3|       COMPLETE|\n|             8827|2013-07-25 00:00:...|       4|         CLOSED|\n|            11318|2013-07-25 00:00:...|       5|       COMPLETE|\n+-----------------+--------------------+--------+---------------+\nonly showing top 5 rows\n\n"
     ]
    }
   ],
   "source": [
    "orders_parquet = spark.read.parquet(f'{output_dir}/orders')\n",
    "orders_parquet.show(5)"
   ]
  }
 ],
 "metadata": {
  "application/vnd.databricks.v1+notebook": {
   "dashboards": [],
   "environmentMetadata": null,
   "language": "python",
   "notebookMetadata": {
    "pythonIndentUnit": 4
   },
   "notebookName": "36_converting_json_data_to_parquet",
   "widgets": {}
  }
 },
 "nbformat": 4,
 "nbformat_minor": 0
}

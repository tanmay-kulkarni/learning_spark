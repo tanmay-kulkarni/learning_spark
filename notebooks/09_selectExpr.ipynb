{
 "cells": [
  {
   "cell_type": "code",
   "execution_count": 0,
   "metadata": {
    "application/vnd.databricks.v1+cell": {
     "cellMetadata": {
      "byteLimit": 2048000,
      "rowLimit": 10000
     },
     "inputWidgets": {},
     "nuid": "1a7dfd7c-0331-4fd4-bb2b-babcc09d50de",
     "showTitle": false,
     "title": ""
    }
   },
   "outputs": [],
   "source": [
    "%run \"./07_create_a_df\""
   ]
  },
  {
   "cell_type": "code",
   "execution_count": 0,
   "metadata": {
    "application/vnd.databricks.v1+cell": {
     "cellMetadata": {
      "byteLimit": 2048000,
      "rowLimit": 10000
     },
     "inputWidgets": {},
     "nuid": "97a2ffde-2912-4467-b2a3-af4907d539b7",
     "showTitle": false,
     "title": ""
    }
   },
   "outputs": [
    {
     "output_type": "stream",
     "name": "stdout",
     "output_type": "stream",
     "text": [
      "+---+----------+---------+--------------------+--------------------+--------------------+-----------+-----------+-------------+-------------------+\n| id|first_name|last_name|               email|       phone_numbers|             courses|is_customer|amount_paid|customer_from|    last_updated_ts|\n+---+----------+---------+--------------------+--------------------+--------------------+-----------+-----------+-------------+-------------------+\n|  1|      John|      Doe|john.doe@example.com|{1234567890, 9876...|[Math, Science, H...|       true|      100.5|   2022-05-15|2024-05-18 11:28:25|\n|  2|      Jane|    Smith|jane.smith@exampl...|{9876543210, 1234...|[English, Art, Mu...|      false|        0.0|   2023-02-10|2024-05-18 11:28:25|\n|  3|     Alice|  Johnson|alice.johnson@exa...|{5555555555, 4444...|[Physics, Chemist...|       true|       75.2|   2021-08-20|2024-05-18 11:28:25|\n|  4|    Robert|    Brown|robert.brown@exam...|{7777777777, 8888...|[Computer Science...|       true|       50.0|   2023-01-05|2024-05-18 11:28:25|\n|  5|     Emily|      Lee|emily.lee@example...|{9999999999, 1111...|[Literature, Writ...|       true|      30.75|   2023-04-12|2024-05-18 11:28:25|\n|  6|   Michael|  Johnson|michael.johnson@e...|{5555555555, 4444...|[Physics, Chemist...|       true|       75.2|   2021-08-20|2024-05-18 11:28:25|\n|  7|     Sarah|    Davis|sarah.davis@examp...|{7777777777, 8888...|[Computer Science...|       true|       50.0|   2023-01-05|2024-05-18 11:28:25|\n|  8|   Jessica|   Wilson|jessica.wilson@ex...|{9999999999, 1111...|[Literature, Writ...|       true|      30.75|   2023-04-12|2024-05-18 11:28:25|\n|  9|     David| Anderson|david.anderson@ex...|{5555555555, 4444...|[Physics, Chemist...|       true|       75.2|   2021-08-20|2024-05-18 11:28:25|\n| 10|  Jennifer|   Taylor|jennifer.taylor@e...|{7777777777, 8888...|[Computer Science...|       true|       50.0|   2023-01-05|2024-05-18 11:28:25|\n+---+----------+---------+--------------------+--------------------+--------------------+-----------+-----------+-------------+-------------------+\n\n"
     ]
    }
   ],
   "source": [
    "df.selectExpr('*').show()"
   ]
  },
  {
   "cell_type": "code",
   "execution_count": 0,
   "metadata": {
    "application/vnd.databricks.v1+cell": {
     "cellMetadata": {
      "byteLimit": 2048000,
      "rowLimit": 10000
     },
     "inputWidgets": {},
     "nuid": "5405a876-ade4-4579-93c1-7c49b084015a",
     "showTitle": false,
     "title": ""
    }
   },
   "outputs": [
    {
     "output_type": "stream",
     "name": "stdout",
     "output_type": "stream",
     "text": [
      "Help on method selectExpr in module pyspark.sql.dataframe:\n\nselectExpr(*expr: Union[str, List[str]]) -> 'DataFrame' method of pyspark.sql.dataframe.DataFrame instance\n    Projects a set of SQL expressions and returns a new :class:`DataFrame`.\n    \n    This is a variant of :func:`select` that accepts SQL expressions.\n    \n    .. versionadded:: 1.3.0\n    \n    .. versionchanged:: 3.4.0\n        Supports Spark Connect.\n    \n    Returns\n    -------\n    :class:`DataFrame`\n        A DataFrame with new/old columns transformed by expressions.\n    \n    Examples\n    --------\n    >>> df = spark.createDataFrame([\n    ...     (2, \"Alice\"), (5, \"Bob\")], schema=[\"age\", \"name\"])\n    >>> df.selectExpr(\"age * 2\", \"abs(age)\").show()\n    +---------+--------+\n    |(age * 2)|abs(age)|\n    +---------+--------+\n    |        4|       2|\n    |       10|       5|\n    +---------+--------+\n\n"
     ]
    }
   ],
   "source": [
    "help(df.selectExpr)"
   ]
  },
  {
   "cell_type": "code",
   "execution_count": 0,
   "metadata": {
    "application/vnd.databricks.v1+cell": {
     "cellMetadata": {
      "byteLimit": 2048000,
      "rowLimit": 10000
     },
     "inputWidgets": {},
     "nuid": "9c462691-d285-4cfa-9394-7fa3651cc1dc",
     "showTitle": false,
     "title": ""
    }
   },
   "outputs": [
    {
     "output_type": "stream",
     "name": "stdout",
     "output_type": "stream",
     "text": [
      "+---+----------+---------+---------------+\n| id|first_name|last_name|      full_name|\n+---+----------+---------+---------------+\n|  1|      John|      Doe|       Doe,John|\n|  2|      Jane|    Smith|     Smith,Jane|\n|  3|     Alice|  Johnson|  Johnson,Alice|\n|  4|    Robert|    Brown|   Brown,Robert|\n|  5|     Emily|      Lee|      Lee,Emily|\n|  6|   Michael|  Johnson|Johnson,Michael|\n|  7|     Sarah|    Davis|    Davis,Sarah|\n|  8|   Jessica|   Wilson| Wilson,Jessica|\n|  9|     David| Anderson| Anderson,David|\n| 10|  Jennifer|   Taylor|Taylor,Jennifer|\n+---+----------+---------+---------------+\n\n"
     ]
    }
   ],
   "source": [
    "df.selectExpr(\n",
    "    \"id\", \"first_name\", \"last_name\", \"concat(last_name, ',',first_name) AS full_name\"\n",
    ").show()"
   ]
  }
 ],
 "metadata": {
  "application/vnd.databricks.v1+notebook": {
   "dashboards": [],
   "environmentMetadata": null,
   "language": "python",
   "notebookMetadata": {
    "pythonIndentUnit": 4
   },
   "notebookName": "09_selectExpr",
   "widgets": {}
  }
 },
 "nbformat": 4,
 "nbformat_minor": 0
}

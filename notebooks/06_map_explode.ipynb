{
 "cells": [
  {
   "cell_type": "code",
   "execution_count": 0,
   "metadata": {
    "application/vnd.databricks.v1+cell": {
     "cellMetadata": {
      "byteLimit": 2048000,
      "rowLimit": 10000
     },
     "inputWidgets": {},
     "nuid": "b75d896c-a74b-4cec-94cf-403c0f2b8e16",
     "showTitle": false,
     "title": ""
    }
   },
   "outputs": [
    {
     "output_type": "stream",
     "name": "stdout",
     "output_type": "stream",
     "text": [
      "+-------------+---+--------------------------------------+\n|name         |age|telephone                             |\n+-------------+---+--------------------------------------+\n|John Doe     |35 |{office -> 555-5678, home -> 555-1234}|\n|Jane Smith   |28 |{office -> 555-3456, home -> 555-9012}|\n|Bob Johnson  |42 |{office -> 555-2109, home -> 555-7890}|\n|David Brenson|23 |{office -> NULL, home -> NULL}        |\n|George Sacks |36 |{home -> NULL}                        |\n+-------------+---+--------------------------------------+\n\n"
     ]
    }
   ],
   "source": [
    "people = [\n",
    "    {\n",
    "        \"name\": \"John Doe\",\n",
    "        \"age\": 35,\n",
    "        \"telephone\": {\"home\": \"555-1234\", \"office\": \"555-5678\"},\n",
    "    },\n",
    "    {\n",
    "        \"name\": \"Jane Smith\",\n",
    "        \"age\": 28,\n",
    "        \"telephone\": {\"home\": \"555-9012\", \"office\": \"555-3456\"},\n",
    "    },\n",
    "    {\n",
    "        \"name\": \"Bob Johnson\",\n",
    "        \"age\": 42,\n",
    "        \"telephone\": {\"home\": \"555-7890\", \"office\": \"555-2109\"},\n",
    "    },\n",
    "    {\"name\": \"David Brenson\", \"age\": 23, \"telephone\": {\"home\": None, \"office\": None}},\n",
    "    {\"name\": \"George Sacks\", \"age\": 36, \"telephone\": {\"home\": None}},\n",
    "]\n",
    "\n",
    "from pyspark.sql import Row\n",
    "\n",
    "people_as_rows = [Row(**person) for person in people]\n",
    "\n",
    "df = spark.createDataFrame(people_as_rows)\n",
    "\n",
    "df.show(truncate=False)"
   ]
  },
  {
   "cell_type": "markdown",
   "metadata": {
    "application/vnd.databricks.v1+cell": {
     "cellMetadata": {
      "batchId": -1422254768153961,
      "byteLimit": 2048000,
      "rowLimit": 10000
     },
     "inputWidgets": {},
     "nuid": "fe9580c1-70b4-4553-ab72-17bc19e41982",
     "showTitle": false,
     "title": ""
    }
   },
   "source": [
    "### Type map"
   ]
  },
  {
   "cell_type": "code",
   "execution_count": 0,
   "metadata": {
    "application/vnd.databricks.v1+cell": {
     "cellMetadata": {
      "byteLimit": 2048000,
      "rowLimit": 10000
     },
     "inputWidgets": {},
     "nuid": "22c5ab85-8724-4d19-9a89-dcfd5929877a",
     "showTitle": false,
     "title": ""
    }
   },
   "outputs": [
    {
     "output_type": "stream",
     "name": "stdout",
     "output_type": "stream",
     "text": [
      "root\n |-- name: string (nullable = true)\n |-- age: long (nullable = true)\n |-- telephone: map (nullable = true)\n |    |-- key: string\n |    |-- value: string (valueContainsNull = true)\n\n"
     ]
    }
   ],
   "source": [
    "df.printSchema()"
   ]
  },
  {
   "cell_type": "markdown",
   "metadata": {
    "application/vnd.databricks.v1+cell": {
     "cellMetadata": {
      "batchId": -1422254768153961,
      "byteLimit": 2048000,
      "rowLimit": 10000
     },
     "inputWidgets": {},
     "nuid": "e5a4ee33-1f4f-4880-8154-c5b5a087bb1e",
     "showTitle": false,
     "title": ""
    }
   },
   "source": [
    "### Getting value from a map"
   ]
  },
  {
   "cell_type": "code",
   "execution_count": 0,
   "metadata": {
    "application/vnd.databricks.v1+cell": {
     "cellMetadata": {
      "byteLimit": 2048000,
      "rowLimit": 10000
     },
     "inputWidgets": {},
     "nuid": "e3fc4cbd-f979-4325-bcfd-aeed18d7aeca",
     "showTitle": false,
     "title": ""
    }
   },
   "outputs": [
    {
     "output_type": "stream",
     "name": "stdout",
     "output_type": "stream",
     "text": [
      "+-------------+----------+------------+\n|         name|home_phone|office_phone|\n+-------------+----------+------------+\n|     John Doe|  555-1234|    555-5678|\n|   Jane Smith|  555-9012|    555-3456|\n|  Bob Johnson|  555-7890|    555-2109|\n|David Brenson|      NULL|        NULL|\n| George Sacks|      NULL|        NULL|\n+-------------+----------+------------+\n\n"
     ]
    }
   ],
   "source": [
    "from pyspark.sql.functions import col\n",
    "\n",
    "df.select(\n",
    "    \"name\",\n",
    "    col(\"telephone\")[\"home\"].alias(\"home_phone\"),\n",
    "    col(\"telephone\")[\"office\"].alias(\"office_phone\"),\n",
    ").show()"
   ]
  },
  {
   "cell_type": "markdown",
   "metadata": {
    "application/vnd.databricks.v1+cell": {
     "cellMetadata": {},
     "inputWidgets": {},
     "nuid": "328e5b37-6944-4094-a132-0d1c46ff9580",
     "showTitle": false,
     "title": ""
    }
   },
   "source": [
    "### explode"
   ]
  },
  {
   "cell_type": "code",
   "execution_count": 0,
   "metadata": {
    "application/vnd.databricks.v1+cell": {
     "cellMetadata": {
      "byteLimit": 2048000,
      "rowLimit": 10000
     },
     "inputWidgets": {},
     "nuid": "cf2d4b56-794e-48c8-b706-60441a1321cd",
     "showTitle": false,
     "title": ""
    }
   },
   "outputs": [
    {
     "output_type": "stream",
     "name": "stdout",
     "output_type": "stream",
     "text": [
      "+-------------+------+--------+\n|         name|   key|   value|\n+-------------+------+--------+\n|     John Doe|office|555-5678|\n|     John Doe|  home|555-1234|\n|   Jane Smith|office|555-3456|\n|   Jane Smith|  home|555-9012|\n|  Bob Johnson|office|555-2109|\n|  Bob Johnson|  home|555-7890|\n|David Brenson|office|    NULL|\n|David Brenson|  home|    NULL|\n| George Sacks|  home|    NULL|\n+-------------+------+--------+\n\n"
     ]
    }
   ],
   "source": [
    "from pyspark.sql.functions import explode, explode_outer\n",
    "\n",
    "df.select('name', explode('telephone')).show()"
   ]
  },
  {
   "cell_type": "markdown",
   "metadata": {
    "application/vnd.databricks.v1+cell": {
     "cellMetadata": {},
     "inputWidgets": {},
     "nuid": "a502d805-c781-4f9d-9588-5b056870de40",
     "showTitle": false,
     "title": ""
    }
   },
   "source": [
    "### explode_outer"
   ]
  },
  {
   "cell_type": "code",
   "execution_count": 0,
   "metadata": {
    "application/vnd.databricks.v1+cell": {
     "cellMetadata": {
      "byteLimit": 2048000,
      "rowLimit": 10000
     },
     "inputWidgets": {},
     "nuid": "7b47d016-10f8-46ef-8c49-5492cb807144",
     "showTitle": false,
     "title": ""
    }
   },
   "outputs": [
    {
     "output_type": "stream",
     "name": "stdout",
     "output_type": "stream",
     "text": [
      "+-------------+------+--------+\n|         name|   key|   value|\n+-------------+------+--------+\n|     John Doe|office|555-5678|\n|     John Doe|  home|555-1234|\n|   Jane Smith|office|555-3456|\n|   Jane Smith|  home|555-9012|\n|  Bob Johnson|office|555-2109|\n|  Bob Johnson|  home|555-7890|\n|David Brenson|office|    NULL|\n|David Brenson|  home|    NULL|\n| George Sacks|  home|    NULL|\n+-------------+------+--------+\n\n"
     ]
    }
   ],
   "source": [
    "df.select('name', explode_outer('telephone')).show()"
   ]
  },
  {
   "cell_type": "markdown",
   "metadata": {
    "application/vnd.databricks.v1+cell": {
     "cellMetadata": {},
     "inputWidgets": {},
     "nuid": "22073085-7a2a-4c3a-bd33-f4668c85baa4",
     "showTitle": false,
     "title": ""
    }
   },
   "source": [
    "### Rename the explode key and values"
   ]
  },
  {
   "cell_type": "code",
   "execution_count": 0,
   "metadata": {
    "application/vnd.databricks.v1+cell": {
     "cellMetadata": {
      "byteLimit": 2048000,
      "rowLimit": 10000
     },
     "inputWidgets": {},
     "nuid": "df347eee-494c-4573-9e83-2372dec03f3e",
     "showTitle": false,
     "title": ""
    }
   },
   "outputs": [
    {
     "output_type": "stream",
     "name": "stdout",
     "output_type": "stream",
     "text": [
      "+-------------+----------+--------+\n|         name|phone_type|  number|\n+-------------+----------+--------+\n|     John Doe|    office|555-5678|\n|     John Doe|      home|555-1234|\n|   Jane Smith|    office|555-3456|\n|   Jane Smith|      home|555-9012|\n|  Bob Johnson|    office|555-2109|\n|  Bob Johnson|      home|555-7890|\n|David Brenson|    office|    NULL|\n|David Brenson|      home|    NULL|\n| George Sacks|      home|    NULL|\n+-------------+----------+--------+\n\n"
     ]
    }
   ],
   "source": [
    "df.select(\"name\", explode(\"telephone\")).withColumnsRenamed(\n",
    "    {\"key\": \"phone_type\", \"value\": \"number\"}\n",
    ").show()"
   ]
  }
 ],
 "metadata": {
  "application/vnd.databricks.v1+notebook": {
   "dashboards": [],
   "environmentMetadata": null,
   "language": "python",
   "notebookMetadata": {
    "pythonIndentUnit": 4
   },
   "notebookName": "06_map_explode",
   "widgets": {}
  }
 },
 "nbformat": 4,
 "nbformat_minor": 0
}

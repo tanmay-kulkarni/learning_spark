{
 "cells": [
  {
   "cell_type": "code",
   "execution_count": 0,
   "metadata": {
    "application/vnd.databricks.v1+cell": {
     "cellMetadata": {
      "byteLimit": 2048000,
      "rowLimit": 10000
     },
     "inputWidgets": {},
     "nuid": "e4a02bed-4316-4b0d-8fa1-00b0f75b67a5",
     "showTitle": false,
     "title": ""
    }
   },
   "outputs": [],
   "source": [
    "%run \"./07_create_a_df\""
   ]
  },
  {
   "cell_type": "code",
   "execution_count": 0,
   "metadata": {
    "application/vnd.databricks.v1+cell": {
     "cellMetadata": {
      "byteLimit": 2048000,
      "rowLimit": 10000
     },
     "inputWidgets": {},
     "nuid": "96f9a53b-209c-460c-bd95-230700cf1f74",
     "showTitle": false,
     "title": ""
    }
   },
   "outputs": [
    {
     "output_type": "stream",
     "name": "stdout",
     "output_type": "stream",
     "text": [
      "root\n |-- id: long (nullable = true)\n |-- first_name: string (nullable = true)\n |-- last_name: string (nullable = true)\n |-- email: string (nullable = true)\n |-- phone_numbers: struct (nullable = true)\n |    |-- mobile: long (nullable = true)\n |    |-- home: long (nullable = true)\n |-- courses: array (nullable = true)\n |    |-- element: string (containsNull = true)\n |-- is_customer: boolean (nullable = true)\n |-- amount_paid: double (nullable = true)\n |-- customer_from: date (nullable = true)\n |-- last_updated_ts: timestamp (nullable = true)\n\n"
     ]
    }
   ],
   "source": [
    "df.printSchema()"
   ]
  },
  {
   "cell_type": "markdown",
   "metadata": {
    "application/vnd.databricks.v1+cell": {
     "cellMetadata": {},
     "inputWidgets": {},
     "nuid": "c84526b5-a58a-4fe7-ac02-fe9522fa8f92",
     "showTitle": false,
     "title": ""
    }
   },
   "source": [
    "### all of the following expressions are valid for comparing true/false"
   ]
  },
  {
   "cell_type": "code",
   "execution_count": 0,
   "metadata": {
    "application/vnd.databricks.v1+cell": {
     "cellMetadata": {
      "byteLimit": 2048000,
      "rowLimit": 10000
     },
     "inputWidgets": {},
     "nuid": "176c7098-8457-4dbe-a36d-3e45528a9849",
     "showTitle": false,
     "title": ""
    }
   },
   "outputs": [
    {
     "output_type": "stream",
     "name": "stdout",
     "output_type": "stream",
     "text": [
      "+---+----------+---------+--------------------+--------------------+--------------------+-----------+-----------+-------------+-------------------+\n| id|first_name|last_name|               email|       phone_numbers|             courses|is_customer|amount_paid|customer_from|    last_updated_ts|\n+---+----------+---------+--------------------+--------------------+--------------------+-----------+-----------+-------------+-------------------+\n|  1|      John|      Doe|john.doe@example.com|{1234567890, 9876...|[Math, Science, H...|       true|      100.5|   2022-05-15|2024-05-18 11:28:25|\n|  3|     Alice|  Johnson|alice.johnson@exa...|{5555555555, 4444...|[Physics, Chemist...|       true|       75.2|   2021-08-20|2024-05-18 11:28:25|\n|  4|    Robert|    Brown|robert.brown@exam...|{7777777777, 8888...|[Computer Science...|       true|       50.0|   2023-01-05|2024-05-18 11:28:25|\n|  5|     Emily|      Lee|emily.lee@example...|{9999999999, 1111...|[Literature, Writ...|       true|      30.75|   2023-04-12|2024-05-18 11:28:25|\n|  6|   Michael|  Johnson|michael.johnson@e...|{5555555555, 4444...|[Physics, Chemist...|       true|       75.2|   2021-08-20|2024-05-18 11:28:25|\n|  7|     Sarah|    Davis|sarah.davis@examp...|{7777777777, 8888...|[Computer Science...|       true|       50.0|   2023-01-05|2024-05-18 11:28:25|\n|  8|   Jessica|   Wilson|jessica.wilson@ex...|{9999999999, 1111...|[Literature, Writ...|       true|      30.75|   2023-04-12|2024-05-18 11:28:25|\n|  9|     David| Anderson|david.anderson@ex...|{5555555555, 4444...|[Physics, Chemist...|       true|       75.2|   2021-08-20|2024-05-18 11:28:25|\n| 10|  Jennifer|   Taylor|jennifer.taylor@e...|{7777777777, 8888...|[Computer Science...|       true|       50.0|   2023-01-05|2024-05-18 11:28:25|\n+---+----------+---------+--------------------+--------------------+--------------------+-----------+-----------+-------------+-------------------+\n\n"
     ]
    }
   ],
   "source": [
    "df.where(\"is_customer = true\").show()"
   ]
  },
  {
   "cell_type": "code",
   "execution_count": 0,
   "metadata": {
    "application/vnd.databricks.v1+cell": {
     "cellMetadata": {
      "byteLimit": 2048000,
      "rowLimit": 10000
     },
     "inputWidgets": {},
     "nuid": "65e61a40-f249-4fa8-afdf-f71674aacdea",
     "showTitle": false,
     "title": ""
    }
   },
   "outputs": [
    {
     "output_type": "stream",
     "name": "stdout",
     "output_type": "stream",
     "text": [
      "+---+----------+---------+--------------------+--------------------+--------------------+-----------+-----------+-------------+-------------------+\n| id|first_name|last_name|               email|       phone_numbers|             courses|is_customer|amount_paid|customer_from|    last_updated_ts|\n+---+----------+---------+--------------------+--------------------+--------------------+-----------+-----------+-------------+-------------------+\n|  1|      John|      Doe|john.doe@example.com|{1234567890, 9876...|[Math, Science, H...|       true|      100.5|   2022-05-15|2024-05-18 11:28:25|\n|  3|     Alice|  Johnson|alice.johnson@exa...|{5555555555, 4444...|[Physics, Chemist...|       true|       75.2|   2021-08-20|2024-05-18 11:28:25|\n|  4|    Robert|    Brown|robert.brown@exam...|{7777777777, 8888...|[Computer Science...|       true|       50.0|   2023-01-05|2024-05-18 11:28:25|\n|  5|     Emily|      Lee|emily.lee@example...|{9999999999, 1111...|[Literature, Writ...|       true|      30.75|   2023-04-12|2024-05-18 11:28:25|\n|  6|   Michael|  Johnson|michael.johnson@e...|{5555555555, 4444...|[Physics, Chemist...|       true|       75.2|   2021-08-20|2024-05-18 11:28:25|\n|  7|     Sarah|    Davis|sarah.davis@examp...|{7777777777, 8888...|[Computer Science...|       true|       50.0|   2023-01-05|2024-05-18 11:28:25|\n|  8|   Jessica|   Wilson|jessica.wilson@ex...|{9999999999, 1111...|[Literature, Writ...|       true|      30.75|   2023-04-12|2024-05-18 11:28:25|\n|  9|     David| Anderson|david.anderson@ex...|{5555555555, 4444...|[Physics, Chemist...|       true|       75.2|   2021-08-20|2024-05-18 11:28:25|\n| 10|  Jennifer|   Taylor|jennifer.taylor@e...|{7777777777, 8888...|[Computer Science...|       true|       50.0|   2023-01-05|2024-05-18 11:28:25|\n+---+----------+---------+--------------------+--------------------+--------------------+-----------+-----------+-------------+-------------------+\n\n"
     ]
    }
   ],
   "source": [
    "df.where(\"is_customer = True\").show()"
   ]
  },
  {
   "cell_type": "code",
   "execution_count": 0,
   "metadata": {
    "application/vnd.databricks.v1+cell": {
     "cellMetadata": {
      "byteLimit": 2048000,
      "rowLimit": 10000
     },
     "inputWidgets": {},
     "nuid": "200c004c-5d44-47ca-98b0-4e44f500f244",
     "showTitle": false,
     "title": ""
    }
   },
   "outputs": [
    {
     "output_type": "stream",
     "name": "stdout",
     "output_type": "stream",
     "text": [
      "+---+----------+---------+--------------------+--------------------+--------------------+-----------+-----------+-------------+-------------------+\n| id|first_name|last_name|               email|       phone_numbers|             courses|is_customer|amount_paid|customer_from|    last_updated_ts|\n+---+----------+---------+--------------------+--------------------+--------------------+-----------+-----------+-------------+-------------------+\n|  1|      John|      Doe|john.doe@example.com|{1234567890, 9876...|[Math, Science, H...|       true|      100.5|   2022-05-15|2024-05-18 11:28:25|\n|  3|     Alice|  Johnson|alice.johnson@exa...|{5555555555, 4444...|[Physics, Chemist...|       true|       75.2|   2021-08-20|2024-05-18 11:28:25|\n|  4|    Robert|    Brown|robert.brown@exam...|{7777777777, 8888...|[Computer Science...|       true|       50.0|   2023-01-05|2024-05-18 11:28:25|\n|  5|     Emily|      Lee|emily.lee@example...|{9999999999, 1111...|[Literature, Writ...|       true|      30.75|   2023-04-12|2024-05-18 11:28:25|\n|  6|   Michael|  Johnson|michael.johnson@e...|{5555555555, 4444...|[Physics, Chemist...|       true|       75.2|   2021-08-20|2024-05-18 11:28:25|\n|  7|     Sarah|    Davis|sarah.davis@examp...|{7777777777, 8888...|[Computer Science...|       true|       50.0|   2023-01-05|2024-05-18 11:28:25|\n|  8|   Jessica|   Wilson|jessica.wilson@ex...|{9999999999, 1111...|[Literature, Writ...|       true|      30.75|   2023-04-12|2024-05-18 11:28:25|\n|  9|     David| Anderson|david.anderson@ex...|{5555555555, 4444...|[Physics, Chemist...|       true|       75.2|   2021-08-20|2024-05-18 11:28:25|\n| 10|  Jennifer|   Taylor|jennifer.taylor@e...|{7777777777, 8888...|[Computer Science...|       true|       50.0|   2023-01-05|2024-05-18 11:28:25|\n+---+----------+---------+--------------------+--------------------+--------------------+-----------+-----------+-------------+-------------------+\n\n"
     ]
    }
   ],
   "source": [
    "df.filter(\"is_customer = 'true'\").show()"
   ]
  },
  {
   "cell_type": "code",
   "execution_count": 0,
   "metadata": {
    "application/vnd.databricks.v1+cell": {
     "cellMetadata": {
      "byteLimit": 2048000,
      "rowLimit": 10000
     },
     "inputWidgets": {},
     "nuid": "8f706d70-c81f-42de-b5f5-9faec936b74e",
     "showTitle": false,
     "title": ""
    }
   },
   "outputs": [
    {
     "output_type": "stream",
     "name": "stdout",
     "output_type": "stream",
     "text": [
      "+---+----------+---------+--------------------+--------------------+--------------------+-----------+-----------+-------------+-------------------+\n| id|first_name|last_name|               email|       phone_numbers|             courses|is_customer|amount_paid|customer_from|    last_updated_ts|\n+---+----------+---------+--------------------+--------------------+--------------------+-----------+-----------+-------------+-------------------+\n|  1|      John|      Doe|john.doe@example.com|{1234567890, 9876...|[Math, Science, H...|       true|      100.5|   2022-05-15|2024-05-18 11:28:25|\n|  3|     Alice|  Johnson|alice.johnson@exa...|{5555555555, 4444...|[Physics, Chemist...|       true|       75.2|   2021-08-20|2024-05-18 11:28:25|\n|  4|    Robert|    Brown|robert.brown@exam...|{7777777777, 8888...|[Computer Science...|       true|       50.0|   2023-01-05|2024-05-18 11:28:25|\n|  5|     Emily|      Lee|emily.lee@example...|{9999999999, 1111...|[Literature, Writ...|       true|      30.75|   2023-04-12|2024-05-18 11:28:25|\n|  6|   Michael|  Johnson|michael.johnson@e...|{5555555555, 4444...|[Physics, Chemist...|       true|       75.2|   2021-08-20|2024-05-18 11:28:25|\n|  7|     Sarah|    Davis|sarah.davis@examp...|{7777777777, 8888...|[Computer Science...|       true|       50.0|   2023-01-05|2024-05-18 11:28:25|\n|  8|   Jessica|   Wilson|jessica.wilson@ex...|{9999999999, 1111...|[Literature, Writ...|       true|      30.75|   2023-04-12|2024-05-18 11:28:25|\n|  9|     David| Anderson|david.anderson@ex...|{5555555555, 4444...|[Physics, Chemist...|       true|       75.2|   2021-08-20|2024-05-18 11:28:25|\n| 10|  Jennifer|   Taylor|jennifer.taylor@e...|{7777777777, 8888...|[Computer Science...|       true|       50.0|   2023-01-05|2024-05-18 11:28:25|\n+---+----------+---------+--------------------+--------------------+--------------------+-----------+-----------+-------------+-------------------+\n\n"
     ]
    }
   ],
   "source": [
    "df.filter(\"is_customer = 'True'\").show()"
   ]
  },
  {
   "cell_type": "code",
   "execution_count": 0,
   "metadata": {
    "application/vnd.databricks.v1+cell": {
     "cellMetadata": {
      "byteLimit": 2048000,
      "rowLimit": 10000
     },
     "inputWidgets": {},
     "nuid": "324a157f-6346-4326-a375-3993dce5a221",
     "showTitle": false,
     "title": ""
    }
   },
   "outputs": [
    {
     "output_type": "stream",
     "name": "stdout",
     "output_type": "stream",
     "text": [
      "+---+----------+---------+--------------------+--------------------+--------------------+-----------+-----------+-------------+-------------------+\n| id|first_name|last_name|               email|       phone_numbers|             courses|is_customer|amount_paid|customer_from|    last_updated_ts|\n+---+----------+---------+--------------------+--------------------+--------------------+-----------+-----------+-------------+-------------------+\n|  1|      John|      Doe|john.doe@example.com|{1234567890, 9876...|[Math, Science, H...|       true|      100.5|   2022-05-15|2024-05-18 11:28:25|\n|  3|     Alice|  Johnson|alice.johnson@exa...|{5555555555, 4444...|[Physics, Chemist...|       true|       75.2|   2021-08-20|2024-05-18 11:28:25|\n|  4|    Robert|    Brown|robert.brown@exam...|{7777777777, 8888...|[Computer Science...|       true|       50.0|   2023-01-05|2024-05-18 11:28:25|\n|  5|     Emily|      Lee|emily.lee@example...|{9999999999, 1111...|[Literature, Writ...|       true|      30.75|   2023-04-12|2024-05-18 11:28:25|\n|  6|   Michael|  Johnson|michael.johnson@e...|{5555555555, 4444...|[Physics, Chemist...|       true|       75.2|   2021-08-20|2024-05-18 11:28:25|\n|  7|     Sarah|    Davis|sarah.davis@examp...|{7777777777, 8888...|[Computer Science...|       true|       50.0|   2023-01-05|2024-05-18 11:28:25|\n|  8|   Jessica|   Wilson|jessica.wilson@ex...|{9999999999, 1111...|[Literature, Writ...|       true|      30.75|   2023-04-12|2024-05-18 11:28:25|\n|  9|     David| Anderson|david.anderson@ex...|{5555555555, 4444...|[Physics, Chemist...|       true|       75.2|   2021-08-20|2024-05-18 11:28:25|\n| 10|  Jennifer|   Taylor|jennifer.taylor@e...|{7777777777, 8888...|[Computer Science...|       true|       50.0|   2023-01-05|2024-05-18 11:28:25|\n+---+----------+---------+--------------------+--------------------+--------------------+-----------+-----------+-------------+-------------------+\n\n"
     ]
    }
   ],
   "source": [
    "df.filter(\"is_customer == 'True'\").show()"
   ]
  },
  {
   "cell_type": "code",
   "execution_count": 0,
   "metadata": {
    "application/vnd.databricks.v1+cell": {
     "cellMetadata": {
      "byteLimit": 2048000,
      "rowLimit": 10000
     },
     "inputWidgets": {},
     "nuid": "391c4684-d45b-4534-bf03-c94c8a43b09f",
     "showTitle": false,
     "title": ""
    }
   },
   "outputs": [
    {
     "output_type": "stream",
     "name": "stdout",
     "output_type": "stream",
     "text": [
      "+---+----------+---------+--------------------+--------------------+--------------------+-----------+-----------+-------------+-------------------+\n| id|first_name|last_name|               email|       phone_numbers|             courses|is_customer|amount_paid|customer_from|    last_updated_ts|\n+---+----------+---------+--------------------+--------------------+--------------------+-----------+-----------+-------------+-------------------+\n|  1|      John|      Doe|john.doe@example.com|{1234567890, 9876...|[Math, Science, H...|       true|      100.5|   2022-05-15|2024-05-18 11:28:25|\n|  3|     Alice|  Johnson|alice.johnson@exa...|{5555555555, 4444...|[Physics, Chemist...|       true|       75.2|   2021-08-20|2024-05-18 11:28:25|\n|  4|    Robert|    Brown|robert.brown@exam...|{7777777777, 8888...|[Computer Science...|       true|       50.0|   2023-01-05|2024-05-18 11:28:25|\n|  5|     Emily|      Lee|emily.lee@example...|{9999999999, 1111...|[Literature, Writ...|       true|      30.75|   2023-04-12|2024-05-18 11:28:25|\n|  6|   Michael|  Johnson|michael.johnson@e...|{5555555555, 4444...|[Physics, Chemist...|       true|       75.2|   2021-08-20|2024-05-18 11:28:25|\n|  7|     Sarah|    Davis|sarah.davis@examp...|{7777777777, 8888...|[Computer Science...|       true|       50.0|   2023-01-05|2024-05-18 11:28:25|\n|  8|   Jessica|   Wilson|jessica.wilson@ex...|{9999999999, 1111...|[Literature, Writ...|       true|      30.75|   2023-04-12|2024-05-18 11:28:25|\n|  9|     David| Anderson|david.anderson@ex...|{5555555555, 4444...|[Physics, Chemist...|       true|       75.2|   2021-08-20|2024-05-18 11:28:25|\n| 10|  Jennifer|   Taylor|jennifer.taylor@e...|{7777777777, 8888...|[Computer Science...|       true|       50.0|   2023-01-05|2024-05-18 11:28:25|\n+---+----------+---------+--------------------+--------------------+--------------------+-----------+-----------+-------------+-------------------+\n\n"
     ]
    }
   ],
   "source": [
    "from pyspark.sql.functions import col\n",
    "df.filter(col('is_customer') == True).show()"
   ]
  },
  {
   "cell_type": "code",
   "execution_count": 0,
   "metadata": {
    "application/vnd.databricks.v1+cell": {
     "cellMetadata": {
      "byteLimit": 2048000,
      "rowLimit": 10000
     },
     "inputWidgets": {},
     "nuid": "d9cc0616-378c-4455-a2f0-33218aa5efa7",
     "showTitle": false,
     "title": ""
    }
   },
   "outputs": [
    {
     "output_type": "stream",
     "name": "stdout",
     "output_type": "stream",
     "text": [
      "+---+----------+---------+--------------------+--------------------+--------------------+-----------+-----------+-------------+-------------------+\n| id|first_name|last_name|               email|       phone_numbers|             courses|is_customer|amount_paid|customer_from|    last_updated_ts|\n+---+----------+---------+--------------------+--------------------+--------------------+-----------+-----------+-------------+-------------------+\n|  2|      Jane|    Smith|jane.smith@exampl...|{9876543210, 1234...|[English, Art, Mu...|      false|        0.0|   2023-02-10|2024-05-18 11:28:25|\n+---+----------+---------+--------------------+--------------------+--------------------+-----------+-----------+-------------+-------------------+\n\n"
     ]
    }
   ],
   "source": [
    "df.filter(\"is_customer == 'false'\").show()"
   ]
  }
 ],
 "metadata": {
  "application/vnd.databricks.v1+notebook": {
   "dashboards": [],
   "environmentMetadata": null,
   "language": "python",
   "notebookMetadata": {
    "pythonIndentUnit": 4
   },
   "notebookName": "23_filtering_on_booleans",
   "widgets": {}
  }
 },
 "nbformat": 4,
 "nbformat_minor": 0
}

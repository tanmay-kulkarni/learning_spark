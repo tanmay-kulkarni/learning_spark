{
 "cells": [
  {
   "cell_type": "code",
   "execution_count": 0,
   "metadata": {
    "application/vnd.databricks.v1+cell": {
     "cellMetadata": {
      "byteLimit": 2048000,
      "rowLimit": 10000
     },
     "inputWidgets": {},
     "nuid": "1d03b289-a750-4708-85f5-ed224a181f43",
     "showTitle": false,
     "title": ""
    }
   },
   "outputs": [],
   "source": [
    "%run \"./07_create_a_df\""
   ]
  },
  {
   "cell_type": "code",
   "execution_count": 0,
   "metadata": {
    "application/vnd.databricks.v1+cell": {
     "cellMetadata": {
      "byteLimit": 2048000,
      "rowLimit": 10000
     },
     "inputWidgets": {},
     "nuid": "b8ad8ce7-5cc8-4907-93e4-08483ecefd7e",
     "showTitle": false,
     "title": ""
    }
   },
   "outputs": [
    {
     "output_type": "stream",
     "name": "stdout",
     "output_type": "stream",
     "text": [
      "root\n |-- id: long (nullable = true)\n |-- first_name: string (nullable = true)\n |-- last_name: string (nullable = true)\n |-- email: string (nullable = true)\n |-- phone_numbers: struct (nullable = true)\n |    |-- mobile: long (nullable = true)\n |    |-- home: long (nullable = true)\n |-- courses: array (nullable = true)\n |    |-- element: string (containsNull = true)\n |-- is_customer: boolean (nullable = true)\n |-- amount_paid: double (nullable = true)\n |-- customer_from: date (nullable = true)\n |-- last_updated_ts: timestamp (nullable = true)\n\n"
     ]
    }
   ],
   "source": [
    "df.printSchema()"
   ]
  },
  {
   "cell_type": "code",
   "execution_count": 0,
   "metadata": {
    "application/vnd.databricks.v1+cell": {
     "cellMetadata": {
      "byteLimit": 2048000,
      "rowLimit": 10000
     },
     "inputWidgets": {},
     "nuid": "7f5264d6-9abc-4abf-bc0d-6bd1c47b2c6d",
     "showTitle": false,
     "title": ""
    }
   },
   "outputs": [],
   "source": [
    "from pyspark.sql.functions import upper, lower, initcap"
   ]
  },
  {
   "cell_type": "code",
   "execution_count": 0,
   "metadata": {
    "application/vnd.databricks.v1+cell": {
     "cellMetadata": {
      "byteLimit": 2048000,
      "rowLimit": 10000
     },
     "inputWidgets": {},
     "nuid": "08e9769e-90d6-4a6d-b18c-5088b94c8e53",
     "showTitle": false,
     "title": ""
    }
   },
   "outputs": [
    {
     "output_type": "stream",
     "name": "stdout",
     "output_type": "stream",
     "text": [
      "+----------+-----------------+-----------------+--------------------------+\n|first_name|upper(first_name)|lower(first_name)|initcap(lower(first_name))|\n+----------+-----------------+-----------------+--------------------------+\n|      John|             JOHN|             john|                      John|\n|      Jane|             JANE|             jane|                      Jane|\n|     Alice|            ALICE|            alice|                     Alice|\n|    Robert|           ROBERT|           robert|                    Robert|\n|     Emily|            EMILY|            emily|                     Emily|\n|   Michael|          MICHAEL|          michael|                   Michael|\n|     Sarah|            SARAH|            sarah|                     Sarah|\n|   Jessica|          JESSICA|          jessica|                   Jessica|\n|     David|            DAVID|            david|                     David|\n|  Jennifer|         JENNIFER|         jennifer|                  Jennifer|\n+----------+-----------------+-----------------+--------------------------+\n\n"
     ]
    }
   ],
   "source": [
    "df.select(\n",
    "    \"first_name\",\n",
    "    upper(\"first_name\"),\n",
    "    lower(\"first_name\"),\n",
    "    initcap(lower(\"first_name\"))\n",
    ").show()"
   ]
  }
 ],
 "metadata": {
  "application/vnd.databricks.v1+notebook": {
   "dashboards": [],
   "environmentMetadata": null,
   "language": "python",
   "notebookMetadata": {
    "pythonIndentUnit": 4
   },
   "notebookName": "15_upper_lower_initcap",
   "widgets": {}
  }
 },
 "nbformat": 4,
 "nbformat_minor": 0
}

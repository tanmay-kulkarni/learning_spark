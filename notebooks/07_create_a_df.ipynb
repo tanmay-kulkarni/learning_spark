{
 "cells": [
  {
   "cell_type": "code",
   "execution_count": 0,
   "metadata": {
    "application/vnd.databricks.v1+cell": {
     "cellMetadata": {
      "byteLimit": 2048000,
      "rowLimit": 10000
     },
     "inputWidgets": {},
     "nuid": "712936d1-0b54-4f0d-b1c3-fa488643072e",
     "showTitle": false,
     "title": ""
    }
   },
   "outputs": [],
   "source": [
    "from pyspark.sql import Row\n",
    "import datetime"
   ]
  },
  {
   "cell_type": "code",
   "execution_count": 0,
   "metadata": {
    "application/vnd.databricks.v1+cell": {
     "cellMetadata": {
      "byteLimit": 2048000,
      "rowLimit": 10000
     },
     "inputWidgets": {},
     "nuid": "f0c7c072-28b4-43eb-bcf5-c5e17b9a4b58",
     "showTitle": false,
     "title": ""
    }
   },
   "outputs": [],
   "source": [
    "from pyspark.sql import Row\n",
    "import datetime\n",
    "\n",
    "users = [\n",
    "    {\n",
    "        \"id\": 1,\n",
    "        \"first_name\": \"John\",\n",
    "        \"last_name\": \"Doe\",\n",
    "        \"email\": \"john.doe@example.com\",\n",
    "        \"phone_numbers\": Row(mobile=1234567890, home=9876543210),\n",
    "        \"courses\": [\"Math\", \"Science\", \"History\"],\n",
    "        \"is_customer\": True,\n",
    "        \"amount_paid\": 100.50,\n",
    "        \"customer_from\": datetime.date(2022, 5, 15),\n",
    "        \"last_updated_ts\": datetime.datetime(2024, 5, 18, 11, 28, 25),\n",
    "    },\n",
    "    {\n",
    "        \"id\": 2,\n",
    "        \"first_name\": \"Jane\",\n",
    "        \"last_name\": \"Smith\",\n",
    "        \"email\": \"jane.smith@example.com\",\n",
    "        \"phone_numbers\": Row(mobile=9876543210, home=1234567890),\n",
    "        \"courses\": [\"English\", \"Art\", \"Music\"],\n",
    "        \"is_customer\": False,\n",
    "        \"amount_paid\": 0.0,\n",
    "        \"customer_from\": datetime.date(2023, 2, 10),\n",
    "        \"last_updated_ts\": datetime.datetime(2024, 5, 18, 11, 28, 25),\n",
    "    },\n",
    "    {\n",
    "        \"id\": 3,\n",
    "        \"first_name\": \"Alice\",\n",
    "        \"last_name\": \"Johnson\",\n",
    "        \"email\": \"alice.johnson@example.com\",\n",
    "        \"phone_numbers\": Row(mobile=5555555555, home=4444444444),\n",
    "        \"courses\": [\"Physics\", \"Chemistry\", \"Biology\"],\n",
    "        \"is_customer\": True,\n",
    "        \"amount_paid\": 75.20,\n",
    "        \"customer_from\": datetime.date(2021, 8, 20),\n",
    "        \"last_updated_ts\": datetime.datetime(2024, 5, 18, 11, 28, 25),\n",
    "    },\n",
    "    {\n",
    "        \"id\": 4,\n",
    "        \"first_name\": \"Robert\",\n",
    "        \"last_name\": \"Brown\",\n",
    "        \"email\": \"robert.brown@example.com\",\n",
    "        \"phone_numbers\": Row(mobile=7777777777, home=8888888888),\n",
    "        \"courses\": [\"Computer Science\", \"Programming\", \"Data Structures\"],\n",
    "        \"is_customer\": True,\n",
    "        \"amount_paid\": 50.0,\n",
    "        \"customer_from\": datetime.date(2023, 1, 5),\n",
    "        \"last_updated_ts\": datetime.datetime(2024, 5, 18, 11, 28, 25),\n",
    "    },\n",
    "    {\n",
    "        \"id\": 5,\n",
    "        \"first_name\": \"Emily\",\n",
    "        \"last_name\": \"Lee\",\n",
    "        \"email\": \"emily.lee@example.com\",\n",
    "        \"phone_numbers\": Row(mobile=9999999999, home=1111111111),\n",
    "        \"courses\": [\"Literature\", \"Writing\", \"Poetry\"],\n",
    "        \"is_customer\": True,\n",
    "        \"amount_paid\": 30.75,\n",
    "        \"customer_from\": datetime.date(2023, 4, 12),\n",
    "        \"last_updated_ts\": datetime.datetime(2024, 5, 18, 11, 28, 25),\n",
    "    },\n",
    "    {\n",
    "        \"id\": 6,\n",
    "        \"first_name\": \"Michael\",\n",
    "        \"last_name\": \"Johnson\",\n",
    "        \"email\": \"michael.johnson@example.com\",\n",
    "        \"phone_numbers\": Row(mobile=5555555555, home=4444444444),\n",
    "        \"courses\": [\"Physics\", \"Chemistry\", \"Biology\"],\n",
    "        \"is_customer\": True,\n",
    "        \"amount_paid\": 75.20,\n",
    "        \"customer_from\": datetime.date(2021, 8, 20),\n",
    "        \"last_updated_ts\": datetime.datetime(2024, 5, 18, 11, 28, 25),\n",
    "    },\n",
    "    {\n",
    "        \"id\": 7,\n",
    "        \"first_name\": \"Sarah\",\n",
    "        \"last_name\": \"Davis\",\n",
    "        \"email\": \"sarah.davis@example.com\",\n",
    "        \"phone_numbers\": Row(mobile=7777777777, home=8888888888),\n",
    "        \"courses\": [\"Computer Science\", \"Programming\", \"Data Structures\"],\n",
    "        \"is_customer\": True,\n",
    "        \"amount_paid\": 50.0,\n",
    "        \"customer_from\": datetime.date(2023, 1, 5),\n",
    "        \"last_updated_ts\": datetime.datetime(2024, 5, 18, 11, 28, 25),\n",
    "    },\n",
    "    {\n",
    "        \"id\": 8,\n",
    "        \"first_name\": \"Jessica\",\n",
    "        \"last_name\": \"Wilson\",\n",
    "        \"email\": \"jessica.wilson@example.com\",\n",
    "        \"phone_numbers\": Row(mobile=9999999999, home=1111111111),\n",
    "        \"courses\": [\"Literature\", \"Writing\", \"Poetry\"],\n",
    "        \"is_customer\": True,\n",
    "        \"amount_paid\": 30.75,\n",
    "        \"customer_from\": datetime.date(2023, 4, 12),\n",
    "        \"last_updated_ts\": datetime.datetime(2024, 5, 18, 11, 28, 25),\n",
    "    },\n",
    "    {\n",
    "        \"id\": 9,\n",
    "        \"first_name\": \"David\",\n",
    "        \"last_name\": \"Anderson\",\n",
    "        \"email\": \"david.anderson@example.com\",\n",
    "        \"phone_numbers\": Row(mobile=5555555555, home=4444444444),\n",
    "        \"courses\": [\"Physics\", \"Chemistry\", \"Biology\"],\n",
    "        \"is_customer\": True,\n",
    "        \"amount_paid\": 75.20,\n",
    "        \"customer_from\": datetime.date(2021, 8, 20),\n",
    "        \"last_updated_ts\": datetime.datetime(2024, 5, 18, 11, 28, 25),\n",
    "    },\n",
    "    {\n",
    "        \"id\": 10,\n",
    "        \"first_name\": \"Jennifer\",\n",
    "        \"last_name\": \"Taylor\",\n",
    "        \"email\": \"jennifer.taylor@example.com\",\n",
    "        \"phone_numbers\": Row(mobile=7777777777, home=8888888888),\n",
    "        \"courses\": [\"Computer Science\", \"Programming\", \"Data Structures\"],\n",
    "        \"is_customer\": True,\n",
    "        \"amount_paid\": 50.0,\n",
    "        \"customer_from\": datetime.date(2023, 1, 5),\n",
    "        \"last_updated_ts\": datetime.datetime(2024, 5, 18, 11, 28, 25),\n",
    "    },\n",
    "]"
   ]
  },
  {
   "cell_type": "code",
   "execution_count": 0,
   "metadata": {
    "application/vnd.databricks.v1+cell": {
     "cellMetadata": {
      "byteLimit": 2048000,
      "rowLimit": 10000
     },
     "inputWidgets": {},
     "nuid": "c1ce587b-0974-4cae-9cb2-f7a4e017a2ec",
     "showTitle": false,
     "title": ""
    }
   },
   "outputs": [
    {
     "output_type": "execute_result",
     "data": {
      "text/plain": [
       "[('id', 'bigint'),\n",
       " ('first_name', 'string'),\n",
       " ('last_name', 'string'),\n",
       " ('email', 'string'),\n",
       " ('phone_numbers', 'struct<mobile:bigint,home:bigint>'),\n",
       " ('courses', 'array<string>'),\n",
       " ('is_customer', 'boolean'),\n",
       " ('amount_paid', 'double'),\n",
       " ('customer_from', 'date'),\n",
       " ('last_updated_ts', 'timestamp')]"
      ]
     },
     "execution_count": 14,
     "metadata": {},
     "output_type": "execute_result"
    }
   ],
   "source": [
    "df = spark.createDataFrame([Row(**user) for user in users])\n",
    "df.dtypes"
   ]
  },
  {
   "cell_type": "code",
   "execution_count": 0,
   "metadata": {
    "application/vnd.databricks.v1+cell": {
     "cellMetadata": {
      "byteLimit": 2048000,
      "rowLimit": 10000
     },
     "inputWidgets": {},
     "nuid": "5ab0ad26-55a9-4f92-98c4-9645fd17536a",
     "showTitle": false,
     "title": ""
    }
   },
   "outputs": [
    {
     "output_type": "stream",
     "name": "stdout",
     "output_type": "stream",
     "text": [
      "+---+----------+---------+---------------------------+------------------------+------------------------------------------------+-----------+-----------+-------------+-------------------+\n|id |first_name|last_name|email                      |phone_numbers           |courses                                         |is_customer|amount_paid|customer_from|last_updated_ts    |\n+---+----------+---------+---------------------------+------------------------+------------------------------------------------+-----------+-----------+-------------+-------------------+\n|1  |John      |Doe      |john.doe@example.com       |{1234567890, 9876543210}|[Math, Science, History]                        |true       |100.5      |2022-05-15   |2024-05-18 11:28:25|\n|2  |Jane      |Smith    |jane.smith@example.com     |{9876543210, 1234567890}|[English, Art, Music]                           |false      |0.0        |2023-02-10   |2024-05-18 11:28:25|\n|3  |Alice     |Johnson  |alice.johnson@example.com  |{5555555555, 4444444444}|[Physics, Chemistry, Biology]                   |true       |75.2       |2021-08-20   |2024-05-18 11:28:25|\n|4  |Robert    |Brown    |robert.brown@example.com   |{7777777777, 8888888888}|[Computer Science, Programming, Data Structures]|true       |50.0       |2023-01-05   |2024-05-18 11:28:25|\n|5  |Emily     |Lee      |emily.lee@example.com      |{9999999999, 1111111111}|[Literature, Writing, Poetry]                   |true       |30.75      |2023-04-12   |2024-05-18 11:28:25|\n|6  |Michael   |Johnson  |michael.johnson@example.com|{5555555555, 4444444444}|[Physics, Chemistry, Biology]                   |true       |75.2       |2021-08-20   |2024-05-18 11:28:25|\n|7  |Sarah     |Davis    |sarah.davis@example.com    |{7777777777, 8888888888}|[Computer Science, Programming, Data Structures]|true       |50.0       |2023-01-05   |2024-05-18 11:28:25|\n|8  |Jessica   |Wilson   |jessica.wilson@example.com |{9999999999, 1111111111}|[Literature, Writing, Poetry]                   |true       |30.75      |2023-04-12   |2024-05-18 11:28:25|\n|9  |David     |Anderson |david.anderson@example.com |{5555555555, 4444444444}|[Physics, Chemistry, Biology]                   |true       |75.2       |2021-08-20   |2024-05-18 11:28:25|\n|10 |Jennifer  |Taylor   |jennifer.taylor@example.com|{7777777777, 8888888888}|[Computer Science, Programming, Data Structures]|true       |50.0       |2023-01-05   |2024-05-18 11:28:25|\n+---+----------+---------+---------------------------+------------------------+------------------------------------------------+-----------+-----------+-------------+-------------------+\n\n"
     ]
    }
   ],
   "source": [
    "df.show(truncate=False)"
   ]
  }
 ],
 "metadata": {
  "application/vnd.databricks.v1+notebook": {
   "dashboards": [],
   "environmentMetadata": null,
   "language": "python",
   "notebookMetadata": {
    "pythonIndentUnit": 4
   },
   "notebookName": "07_create_a_df",
   "widgets": {}
  }
 },
 "nbformat": 4,
 "nbformat_minor": 0
}

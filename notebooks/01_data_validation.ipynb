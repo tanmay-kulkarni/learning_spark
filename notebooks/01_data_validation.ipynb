{
 "cells": [
  {
   "cell_type": "markdown",
   "metadata": {
    "application/vnd.databricks.v1+cell": {
     "cellMetadata": {},
     "inputWidgets": {},
     "nuid": "4ab0b04b-f2da-436e-926d-7740d0eec0ce",
     "showTitle": false,
     "title": ""
    }
   },
   "source": [
    "## Validating the uploaded datasets"
   ]
  },
  {
   "cell_type": "code",
   "execution_count": 0,
   "metadata": {
    "application/vnd.databricks.v1+cell": {
     "cellMetadata": {
      "byteLimit": 2048000,
      "rowLimit": 10000
     },
     "inputWidgets": {},
     "nuid": "4631a16a-612f-42c6-827d-9b7238023d86",
     "showTitle": false,
     "title": ""
    }
   },
   "outputs": [
    {
     "output_type": "display_data",
     "data": {
      "text/html": [
       "<style scoped>\n",
       "  .table-result-container {\n",
       "    max-height: 300px;\n",
       "    overflow: auto;\n",
       "  }\n",
       "  table, th, td {\n",
       "    border: 1px solid black;\n",
       "    border-collapse: collapse;\n",
       "  }\n",
       "  th, td {\n",
       "    padding: 5px;\n",
       "  }\n",
       "  th {\n",
       "    text-align: left;\n",
       "  }\n",
       "</style><div class='table-result-container'><table class='table-result'><thead style='background-color: white'><tr><th>path</th><th>name</th><th>size</th><th>modificationTime</th></tr></thead><tbody><tr><td>dbfs:/Volume/</td><td>Volume/</td><td>0</td><td>0</td></tr><tr><td>dbfs:/Volumes/</td><td>Volumes/</td><td>0</td><td>0</td></tr><tr><td>dbfs:/databricks-datasets/</td><td>databricks-datasets/</td><td>0</td><td>0</td></tr><tr><td>dbfs:/databricks-results/</td><td>databricks-results/</td><td>0</td><td>0</td></tr><tr><td>dbfs:/exam_prep/</td><td>exam_prep/</td><td>0</td><td>1715488240000</td></tr><tr><td>dbfs:/volume/</td><td>volume/</td><td>0</td><td>0</td></tr><tr><td>dbfs:/volumes/</td><td>volumes/</td><td>0</td><td>0</td></tr></tbody></table></div>"
      ]
     },
     "metadata": {
      "application/vnd.databricks.v1+output": {
       "addedWidgets": {},
       "aggData": [],
       "aggError": "",
       "aggOverflow": false,
       "aggSchema": [],
       "aggSeriesLimitReached": false,
       "aggType": "",
       "arguments": {},
       "columnCustomDisplayInfos": {},
       "data": [
        [
         "dbfs:/Volume/",
         "Volume/",
         0,
         0
        ],
        [
         "dbfs:/Volumes/",
         "Volumes/",
         0,
         0
        ],
        [
         "dbfs:/databricks-datasets/",
         "databricks-datasets/",
         0,
         0
        ],
        [
         "dbfs:/databricks-results/",
         "databricks-results/",
         0,
         0
        ],
        [
         "dbfs:/exam_prep/",
         "exam_prep/",
         0,
         1715488240000
        ],
        [
         "dbfs:/volume/",
         "volume/",
         0,
         0
        ],
        [
         "dbfs:/volumes/",
         "volumes/",
         0,
         0
        ]
       ],
       "datasetInfos": [],
       "dbfsResultPath": null,
       "isJsonSchema": true,
       "metadata": {
        "isDbfsCommandResult": false
       },
       "overflow": false,
       "plotOptions": {
        "customPlotOptions": {},
        "displayType": "table",
        "pivotAggregation": null,
        "pivotColumns": null,
        "xColumns": null,
        "yColumns": null
       },
       "removedWidgets": [],
       "schema": [
        {
         "metadata": "{}",
         "name": "path",
         "type": "\"string\""
        },
        {
         "metadata": "{}",
         "name": "name",
         "type": "\"string\""
        },
        {
         "metadata": "{}",
         "name": "size",
         "type": "\"long\""
        },
        {
         "metadata": "{}",
         "name": "modificationTime",
         "type": "\"long\""
        }
       ],
       "type": "table"
      }
     },
     "output_type": "display_data"
    }
   ],
   "source": [
    "%fs ls"
   ]
  },
  {
   "cell_type": "code",
   "execution_count": 0,
   "metadata": {
    "application/vnd.databricks.v1+cell": {
     "cellMetadata": {
      "byteLimit": 2048000,
      "rowLimit": 10000
     },
     "inputWidgets": {},
     "nuid": "dafaee6a-a4ca-4b03-b7c0-af0e1a012041",
     "showTitle": false,
     "title": ""
    }
   },
   "outputs": [
    {
     "output_type": "display_data",
     "data": {
      "text/html": [
       "<style scoped>\n",
       "  .table-result-container {\n",
       "    max-height: 300px;\n",
       "    overflow: auto;\n",
       "  }\n",
       "  table, th, td {\n",
       "    border: 1px solid black;\n",
       "    border-collapse: collapse;\n",
       "  }\n",
       "  th, td {\n",
       "    padding: 5px;\n",
       "  }\n",
       "  th {\n",
       "    text-align: left;\n",
       "  }\n",
       "</style><div class='table-result-container'><table class='table-result'><thead style='background-color: white'><tr><th>path</th><th>name</th><th>size</th><th>modificationTime</th></tr></thead><tbody><tr><td>dbfs:/exam_prep/retail_db/</td><td>retail_db/</td><td>0</td><td>1715488578000</td></tr><tr><td>dbfs:/exam_prep/retail_db_json/</td><td>retail_db_json/</td><td>0</td><td>1715489736000</td></tr></tbody></table></div>"
      ]
     },
     "metadata": {
      "application/vnd.databricks.v1+output": {
       "addedWidgets": {},
       "aggData": [],
       "aggError": "",
       "aggOverflow": false,
       "aggSchema": [],
       "aggSeriesLimitReached": false,
       "aggType": "",
       "arguments": {},
       "columnCustomDisplayInfos": {},
       "data": [
        [
         "dbfs:/exam_prep/retail_db/",
         "retail_db/",
         0,
         1715488578000
        ],
        [
         "dbfs:/exam_prep/retail_db_json/",
         "retail_db_json/",
         0,
         1715489736000
        ]
       ],
       "datasetInfos": [],
       "dbfsResultPath": null,
       "isJsonSchema": true,
       "metadata": {
        "isDbfsCommandResult": false
       },
       "overflow": false,
       "plotOptions": {
        "customPlotOptions": {},
        "displayType": "table",
        "pivotAggregation": null,
        "pivotColumns": null,
        "xColumns": null,
        "yColumns": null
       },
       "removedWidgets": [],
       "schema": [
        {
         "metadata": "{}",
         "name": "path",
         "type": "\"string\""
        },
        {
         "metadata": "{}",
         "name": "name",
         "type": "\"string\""
        },
        {
         "metadata": "{}",
         "name": "size",
         "type": "\"long\""
        },
        {
         "metadata": "{}",
         "name": "modificationTime",
         "type": "\"long\""
        }
       ],
       "type": "table"
      }
     },
     "output_type": "display_data"
    }
   ],
   "source": [
    "%fs ls dbfs:/exam_prep"
   ]
  },
  {
   "cell_type": "code",
   "execution_count": 0,
   "metadata": {
    "application/vnd.databricks.v1+cell": {
     "cellMetadata": {
      "byteLimit": 2048000,
      "rowLimit": 10000
     },
     "inputWidgets": {},
     "nuid": "ec7e720b-9e3d-4809-8e13-6fb7195118ac",
     "showTitle": false,
     "title": ""
    }
   },
   "outputs": [
    {
     "output_type": "display_data",
     "data": {
      "text/html": [
       "<style scoped>\n",
       "  .table-result-container {\n",
       "    max-height: 300px;\n",
       "    overflow: auto;\n",
       "  }\n",
       "  table, th, td {\n",
       "    border: 1px solid black;\n",
       "    border-collapse: collapse;\n",
       "  }\n",
       "  th, td {\n",
       "    padding: 5px;\n",
       "  }\n",
       "  th {\n",
       "    text-align: left;\n",
       "  }\n",
       "</style><div class='table-result-container'><table class='table-result'><thead style='background-color: white'><tr><th>path</th><th>name</th><th>size</th><th>modificationTime</th></tr></thead><tbody><tr><td>dbfs:/exam_prep/retail_db_json/categories/</td><td>categories/</td><td>0</td><td>1715489746000</td></tr><tr><td>dbfs:/exam_prep/retail_db_json/create_db_tables_pg.sql</td><td>create_db_tables_pg.sql</td><td>1748</td><td>1715489738000</td></tr><tr><td>dbfs:/exam_prep/retail_db_json/customers/</td><td>customers/</td><td>0</td><td>1715489736000</td></tr><tr><td>dbfs:/exam_prep/retail_db_json/departments/</td><td>departments/</td><td>0</td><td>1715489738000</td></tr><tr><td>dbfs:/exam_prep/retail_db_json/order_items/</td><td>order_items/</td><td>0</td><td>1715489738000</td></tr><tr><td>dbfs:/exam_prep/retail_db_json/orders/</td><td>orders/</td><td>0</td><td>1715489745000</td></tr><tr><td>dbfs:/exam_prep/retail_db_json/products/</td><td>products/</td><td>0</td><td>1715489737000</td></tr></tbody></table></div>"
      ]
     },
     "metadata": {
      "application/vnd.databricks.v1+output": {
       "addedWidgets": {},
       "aggData": [],
       "aggError": "",
       "aggOverflow": false,
       "aggSchema": [],
       "aggSeriesLimitReached": false,
       "aggType": "",
       "arguments": {},
       "columnCustomDisplayInfos": {},
       "data": [
        [
         "dbfs:/exam_prep/retail_db_json/categories/",
         "categories/",
         0,
         1715489746000
        ],
        [
         "dbfs:/exam_prep/retail_db_json/create_db_tables_pg.sql",
         "create_db_tables_pg.sql",
         1748,
         1715489738000
        ],
        [
         "dbfs:/exam_prep/retail_db_json/customers/",
         "customers/",
         0,
         1715489736000
        ],
        [
         "dbfs:/exam_prep/retail_db_json/departments/",
         "departments/",
         0,
         1715489738000
        ],
        [
         "dbfs:/exam_prep/retail_db_json/order_items/",
         "order_items/",
         0,
         1715489738000
        ],
        [
         "dbfs:/exam_prep/retail_db_json/orders/",
         "orders/",
         0,
         1715489745000
        ],
        [
         "dbfs:/exam_prep/retail_db_json/products/",
         "products/",
         0,
         1715489737000
        ]
       ],
       "datasetInfos": [],
       "dbfsResultPath": null,
       "isJsonSchema": true,
       "metadata": {
        "isDbfsCommandResult": false
       },
       "overflow": false,
       "plotOptions": {
        "customPlotOptions": {},
        "displayType": "table",
        "pivotAggregation": null,
        "pivotColumns": null,
        "xColumns": null,
        "yColumns": null
       },
       "removedWidgets": [],
       "schema": [
        {
         "metadata": "{}",
         "name": "path",
         "type": "\"string\""
        },
        {
         "metadata": "{}",
         "name": "name",
         "type": "\"string\""
        },
        {
         "metadata": "{}",
         "name": "size",
         "type": "\"long\""
        },
        {
         "metadata": "{}",
         "name": "modificationTime",
         "type": "\"long\""
        }
       ],
       "type": "table"
      }
     },
     "output_type": "display_data"
    }
   ],
   "source": [
    "%fs ls dbfs:/exam_prep/retail_db_json"
   ]
  },
  {
   "cell_type": "code",
   "execution_count": 0,
   "metadata": {
    "application/vnd.databricks.v1+cell": {
     "cellMetadata": {
      "byteLimit": 2048000,
      "rowLimit": 10000
     },
     "inputWidgets": {},
     "nuid": "cdcbdb6b-f84d-4d9e-a1b0-47c854907c98",
     "showTitle": false,
     "title": ""
    }
   },
   "outputs": [
    {
     "output_type": "execute_result",
     "data": {
      "text/plain": [
       "[FileInfo(path='dbfs:/exam_prep/retail_db_json/categories/', name='categories/', size=0, modificationTime=1715489746000),\n",
       " FileInfo(path='dbfs:/exam_prep/retail_db_json/create_db_tables_pg.sql', name='create_db_tables_pg.sql', size=1748, modificationTime=1715489738000),\n",
       " FileInfo(path='dbfs:/exam_prep/retail_db_json/customers/', name='customers/', size=0, modificationTime=1715489736000),\n",
       " FileInfo(path='dbfs:/exam_prep/retail_db_json/departments/', name='departments/', size=0, modificationTime=1715489738000),\n",
       " FileInfo(path='dbfs:/exam_prep/retail_db_json/order_items/', name='order_items/', size=0, modificationTime=1715489738000),\n",
       " FileInfo(path='dbfs:/exam_prep/retail_db_json/orders/', name='orders/', size=0, modificationTime=1715489745000),\n",
       " FileInfo(path='dbfs:/exam_prep/retail_db_json/products/', name='products/', size=0, modificationTime=1715489737000)]"
      ]
     },
     "execution_count": 2,
     "metadata": {},
     "output_type": "execute_result"
    }
   ],
   "source": [
    "dbutils.fs.ls('/exam_prep/retail_db_json/')"
   ]
  },
  {
   "cell_type": "code",
   "execution_count": 0,
   "metadata": {
    "application/vnd.databricks.v1+cell": {
     "cellMetadata": {
      "byteLimit": 2048000,
      "rowLimit": 10000
     },
     "inputWidgets": {},
     "nuid": "8d8f07bf-118e-4e6e-ae75-ffbedc94b1ca",
     "showTitle": false,
     "title": ""
    }
   },
   "outputs": [
    {
     "output_type": "stream",
     "name": "stdout",
     "output_type": "stream",
     "text": [
      "FileInfo(path='dbfs:/exam_prep/retail_db_json/categories/', name='categories/', size=0, modificationTime=1715489746000)\nFileInfo(path='dbfs:/exam_prep/retail_db_json/create_db_tables_pg.sql', name='create_db_tables_pg.sql', size=1748, modificationTime=1715489738000)\nFileInfo(path='dbfs:/exam_prep/retail_db_json/customers/', name='customers/', size=0, modificationTime=1715489736000)\nFileInfo(path='dbfs:/exam_prep/retail_db_json/departments/', name='departments/', size=0, modificationTime=1715489738000)\nFileInfo(path='dbfs:/exam_prep/retail_db_json/order_items/', name='order_items/', size=0, modificationTime=1715489738000)\nFileInfo(path='dbfs:/exam_prep/retail_db_json/orders/', name='orders/', size=0, modificationTime=1715489745000)\nFileInfo(path='dbfs:/exam_prep/retail_db_json/products/', name='products/', size=0, modificationTime=1715489737000)\n"
     ]
    }
   ],
   "source": [
    "for file in dbutils.fs.ls('/exam_prep/retail_db_json'):\n",
    "    print(file)"
   ]
  },
  {
   "cell_type": "code",
   "execution_count": 0,
   "metadata": {
    "application/vnd.databricks.v1+cell": {
     "cellMetadata": {
      "byteLimit": 2048000,
      "rowLimit": 10000
     },
     "inputWidgets": {},
     "nuid": "82f975eb-76c8-4110-ab4c-9d5d59d23c57",
     "showTitle": false,
     "title": ""
    }
   },
   "outputs": [
    {
     "output_type": "execute_result",
     "data": {
      "text/html": [
       "\n",
       "            <div>\n",
       "                <p><b>SparkSession - hive</b></p>\n",
       "                \n",
       "        <div>\n",
       "            <p><b>SparkContext</b></p>\n",
       "\n",
       "            <p><a href=\"/?o=4316680650429340#setting/sparkui/0512-053750-a8hxjdh8/driver-1947966515807382290\">Spark UI</a></p>\n",
       "\n",
       "            <dl>\n",
       "              <dt>Version</dt>\n",
       "                <dd><code>v3.5.0</code></dd>\n",
       "              <dt>Master</dt>\n",
       "                <dd><code>local[*, 4]</code></dd>\n",
       "              <dt>AppName</dt>\n",
       "                <dd><code>Databricks Shell</code></dd>\n",
       "            </dl>\n",
       "        </div>\n",
       "        \n",
       "            </div>\n",
       "        "
      ],
      "text/plain": [
       "<pyspark.sql.session.SparkSession at 0x7f67b0402b60>"
      ]
     },
     "execution_count": 2,
     "metadata": {},
     "output_type": "execute_result"
    }
   ],
   "source": [
    "spark"
   ]
  }
 ],
 "metadata": {
  "application/vnd.databricks.v1+notebook": {
   "dashboards": [],
   "environmentMetadata": null,
   "language": "python",
   "notebookMetadata": {
    "mostRecentlyExecutedCommandWithImplicitDF": {
     "commandId": 2338215010550701,
     "dataframes": [
      "_sqldf"
     ]
    },
    "pythonIndentUnit": 4
   },
   "notebookName": "01_data_validation",
   "widgets": {}
  }
 },
 "nbformat": 4,
 "nbformat_minor": 0
}

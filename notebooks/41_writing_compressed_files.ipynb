{
 "cells": [
  {
   "cell_type": "code",
   "execution_count": 0,
   "metadata": {
    "application/vnd.databricks.v1+cell": {
     "cellMetadata": {
      "byteLimit": 2048000,
      "rowLimit": 10000
     },
     "inputWidgets": {},
     "nuid": "e4db562e-0a77-46f2-9e58-043dbee7f57f",
     "showTitle": false,
     "title": ""
    }
   },
   "outputs": [
    {
     "output_type": "execute_result",
     "data": {
      "text/plain": [
       "True"
      ]
     },
     "execution_count": 6,
     "metadata": {},
     "output_type": "execute_result"
    }
   ],
   "source": [
    "dbutils.fs.rm('/exam_prep/courses_db', recurse=True)"
   ]
  },
  {
   "cell_type": "code",
   "execution_count": 0,
   "metadata": {
    "application/vnd.databricks.v1+cell": {
     "cellMetadata": {
      "byteLimit": 2048000,
      "rowLimit": 10000
     },
     "inputWidgets": {},
     "nuid": "2fdd6758-62e0-4490-8e42-a891d4a08383",
     "showTitle": false,
     "title": ""
    }
   },
   "outputs": [],
   "source": [
    "from pyspark.sql import Row\n",
    "\n",
    "import datetime\n",
    "\n",
    "\n",
    "courses = [\n",
    "    {\n",
    "        'course_id': 1,\n",
    "        'course_title': 'Mastering Python',\n",
    "        'course_published_dt': datetime.date(2021, 1, 14),\n",
    "        'is_active': True,\n",
    "        'last_updated_ts': datetime.datetime(2021, 2, 18, 16, 57, 25)\n",
    "    },\n",
    "    {\n",
    "        'course_id': 2,\n",
    "        'course_title': 'Data Engineering Essentials',\n",
    "        'course_published_dt': datetime.date(2021, 2, 10),\n",
    "        'is_active': True,\n",
    "        'last_updated_ts': datetime.datetime(2021, 3, 5, 12, 7, 33)\n",
    "    },\n",
    "    {\n",
    "        'course_id': 3,\n",
    "        'course_title': 'Mastering Pyspark',\n",
    "        'course_published_dt': datetime.date(2021, 1, 7),\n",
    "        'is_active': True,\n",
    "        'last_updated_ts': datetime.datetime(2021, 4, 6, 10, 5, 42)\n",
    "    },\n",
    "    {\n",
    "        'course_id': 4,\n",
    "        'course_title': 'AWS Essentials',\n",
    "        'course_published_dt': datetime.date(2021, 3, 19),\n",
    "        'is_active': False,\n",
    "        'last_updated_ts': datetime.datetime(2021, 4, 10, 2, 25, 36)\n",
    "    },\n",
    "    {\n",
    "        'course_id': 5,\n",
    "        'course_title': 'Docker 101',\n",
    "        'course_published_dt': datetime.date(2021, 2, 28),\n",
    "        'is_active': True,\n",
    "        'last_updated_ts': datetime.datetime(2021, 3, 21, 7, 18, 52)\n",
    "    }\n",
    "]\n",
    "\n",
    "courses_df = spark.createDataFrame([Row(**course) for course in courses])"
   ]
  },
  {
   "cell_type": "code",
   "execution_count": 0,
   "metadata": {
    "application/vnd.databricks.v1+cell": {
     "cellMetadata": {
      "byteLimit": 2048000,
      "rowLimit": 10000
     },
     "inputWidgets": {},
     "nuid": "a53e8731-4997-40f8-a3e4-35856b45d017",
     "showTitle": false,
     "title": ""
    }
   },
   "outputs": [
    {
     "output_type": "stream",
     "name": "stdout",
     "output_type": "stream",
     "text": [
      "+---------+--------------------+-------------------+---------+-------------------+\n|course_id|        course_title|course_published_dt|is_active|    last_updated_ts|\n+---------+--------------------+-------------------+---------+-------------------+\n|        1|    Mastering Python|         2021-01-14|     true|2021-02-18 16:57:25|\n|        2|Data Engineering ...|         2021-02-10|     true|2021-03-05 12:07:33|\n|        3|   Mastering Pyspark|         2021-01-07|     true|2021-04-06 10:05:42|\n|        4|      AWS Essentials|         2021-03-19|    false|2021-04-10 02:25:36|\n|        5|          Docker 101|         2021-02-28|     true|2021-03-21 07:18:52|\n+---------+--------------------+-------------------+---------+-------------------+\n\n"
     ]
    }
   ],
   "source": [
    "courses_df.show(5)"
   ]
  },
  {
   "cell_type": "markdown",
   "metadata": {
    "application/vnd.databricks.v1+cell": {
     "cellMetadata": {},
     "inputWidgets": {},
     "nuid": "9a91c198-62cf-4cc1-b7b8-97dd1bdcc476",
     "showTitle": false,
     "title": ""
    }
   },
   "source": [
    "### write file and specify compression type"
   ]
  },
  {
   "cell_type": "code",
   "execution_count": 0,
   "metadata": {
    "application/vnd.databricks.v1+cell": {
     "cellMetadata": {
      "byteLimit": 2048000,
      "rowLimit": 10000
     },
     "inputWidgets": {},
     "nuid": "9799cd76-5879-4b13-b01f-b77004392248",
     "showTitle": false,
     "title": ""
    }
   },
   "outputs": [],
   "source": [
    "courses_df.write.format(\"csv\").save(\n",
    "    \"/exam_prep/courses_db\", mode=\"overwrite\", header=True, compression=\"gzip\"\n",
    ")"
   ]
  },
  {
   "cell_type": "markdown",
   "metadata": {
    "application/vnd.databricks.v1+cell": {
     "cellMetadata": {},
     "inputWidgets": {},
     "nuid": "4a723b22-53e8-4198-b961-b838e4301f1d",
     "showTitle": false,
     "title": ""
    }
   },
   "source": [
    "### creates >1 compressed csv files"
   ]
  },
  {
   "cell_type": "code",
   "execution_count": 0,
   "metadata": {
    "application/vnd.databricks.v1+cell": {
     "cellMetadata": {
      "byteLimit": 2048000,
      "rowLimit": 10000
     },
     "inputWidgets": {},
     "nuid": "9ce2a270-eec3-415f-a252-9d8e4f3a8cd3",
     "showTitle": false,
     "title": ""
    }
   },
   "outputs": [
    {
     "output_type": "display_data",
     "data": {
      "text/html": [
       "<style scoped>\n",
       "  .table-result-container {\n",
       "    max-height: 300px;\n",
       "    overflow: auto;\n",
       "  }\n",
       "  table, th, td {\n",
       "    border: 1px solid black;\n",
       "    border-collapse: collapse;\n",
       "  }\n",
       "  th, td {\n",
       "    padding: 5px;\n",
       "  }\n",
       "  th {\n",
       "    text-align: left;\n",
       "  }\n",
       "</style><div class='table-result-container'><table class='table-result'><thead style='background-color: white'><tr><th>path</th><th>name</th><th>size</th><th>modificationTime</th></tr></thead><tbody><tr><td>dbfs:/exam_prep/courses_db/_SUCCESS</td><td>_SUCCESS</td><td>0</td><td>1720504977000</td></tr><tr><td>dbfs:/exam_prep/courses_db/_committed_5620968563558300741</td><td>_committed_5620968563558300741</td><td>390</td><td>1720504977000</td></tr><tr><td>dbfs:/exam_prep/courses_db/_started_5620968563558300741</td><td>_started_5620968563558300741</td><td>0</td><td>1720504977000</td></tr><tr><td>dbfs:/exam_prep/courses_db/part-00000-tid-5620968563558300741-30569954-ecc3-49ea-917c-aeef21916a53-98-1-c000.csv.gz</td><td>part-00000-tid-5620968563558300741-30569954-ecc3-49ea-917c-aeef21916a53-98-1-c000.csv.gz</td><td>127</td><td>1720504977000</td></tr><tr><td>dbfs:/exam_prep/courses_db/part-00001-tid-5620968563558300741-30569954-ecc3-49ea-917c-aeef21916a53-99-1-c000.csv.gz</td><td>part-00001-tid-5620968563558300741-30569954-ecc3-49ea-917c-aeef21916a53-99-1-c000.csv.gz</td><td>132</td><td>1720504977000</td></tr><tr><td>dbfs:/exam_prep/courses_db/part-00002-tid-5620968563558300741-30569954-ecc3-49ea-917c-aeef21916a53-100-1-c000.csv.gz</td><td>part-00002-tid-5620968563558300741-30569954-ecc3-49ea-917c-aeef21916a53-100-1-c000.csv.gz</td><td>130</td><td>1720504977000</td></tr><tr><td>dbfs:/exam_prep/courses_db/part-00003-tid-5620968563558300741-30569954-ecc3-49ea-917c-aeef21916a53-101-1-c000.csv.gz</td><td>part-00003-tid-5620968563558300741-30569954-ecc3-49ea-917c-aeef21916a53-101-1-c000.csv.gz</td><td>156</td><td>1720504977000</td></tr></tbody></table></div>"
      ]
     },
     "metadata": {
      "application/vnd.databricks.v1+output": {
       "addedWidgets": {},
       "aggData": [],
       "aggError": "",
       "aggOverflow": false,
       "aggSchema": [],
       "aggSeriesLimitReached": false,
       "aggType": "",
       "arguments": {},
       "columnCustomDisplayInfos": {},
       "data": [
        [
         "dbfs:/exam_prep/courses_db/_SUCCESS",
         "_SUCCESS",
         0,
         1720504977000
        ],
        [
         "dbfs:/exam_prep/courses_db/_committed_5620968563558300741",
         "_committed_5620968563558300741",
         390,
         1720504977000
        ],
        [
         "dbfs:/exam_prep/courses_db/_started_5620968563558300741",
         "_started_5620968563558300741",
         0,
         1720504977000
        ],
        [
         "dbfs:/exam_prep/courses_db/part-00000-tid-5620968563558300741-30569954-ecc3-49ea-917c-aeef21916a53-98-1-c000.csv.gz",
         "part-00000-tid-5620968563558300741-30569954-ecc3-49ea-917c-aeef21916a53-98-1-c000.csv.gz",
         127,
         1720504977000
        ],
        [
         "dbfs:/exam_prep/courses_db/part-00001-tid-5620968563558300741-30569954-ecc3-49ea-917c-aeef21916a53-99-1-c000.csv.gz",
         "part-00001-tid-5620968563558300741-30569954-ecc3-49ea-917c-aeef21916a53-99-1-c000.csv.gz",
         132,
         1720504977000
        ],
        [
         "dbfs:/exam_prep/courses_db/part-00002-tid-5620968563558300741-30569954-ecc3-49ea-917c-aeef21916a53-100-1-c000.csv.gz",
         "part-00002-tid-5620968563558300741-30569954-ecc3-49ea-917c-aeef21916a53-100-1-c000.csv.gz",
         130,
         1720504977000
        ],
        [
         "dbfs:/exam_prep/courses_db/part-00003-tid-5620968563558300741-30569954-ecc3-49ea-917c-aeef21916a53-101-1-c000.csv.gz",
         "part-00003-tid-5620968563558300741-30569954-ecc3-49ea-917c-aeef21916a53-101-1-c000.csv.gz",
         156,
         1720504977000
        ]
       ],
       "datasetInfos": [],
       "dbfsResultPath": null,
       "isJsonSchema": true,
       "metadata": {
        "isDbfsCommandResult": false
       },
       "overflow": false,
       "plotOptions": {
        "customPlotOptions": {},
        "displayType": "table",
        "pivotAggregation": null,
        "pivotColumns": null,
        "xColumns": null,
        "yColumns": null
       },
       "removedWidgets": [],
       "schema": [
        {
         "metadata": "{}",
         "name": "path",
         "type": "\"string\""
        },
        {
         "metadata": "{}",
         "name": "name",
         "type": "\"string\""
        },
        {
         "metadata": "{}",
         "name": "size",
         "type": "\"long\""
        },
        {
         "metadata": "{}",
         "name": "modificationTime",
         "type": "\"long\""
        }
       ],
       "type": "table"
      }
     },
     "output_type": "display_data"
    }
   ],
   "source": [
    "%fs ls '/exam_prep/courses_db'"
   ]
  },
  {
   "cell_type": "markdown",
   "metadata": {
    "application/vnd.databricks.v1+cell": {
     "cellMetadata": {},
     "inputWidgets": {},
     "nuid": "fad8fd5e-fd3f-400c-89af-c071fe5d6b56",
     "showTitle": false,
     "title": ""
    }
   },
   "source": [
    "### while reading spark automatically loads the compressed data\n",
    "\n",
    "(you don't need to uncompress it)"
   ]
  },
  {
   "cell_type": "code",
   "execution_count": 0,
   "metadata": {
    "application/vnd.databricks.v1+cell": {
     "cellMetadata": {
      "byteLimit": 2048000,
      "rowLimit": 10000
     },
     "inputWidgets": {},
     "nuid": "7c06ce51-01cd-4839-8a97-d84eefcc13d7",
     "showTitle": false,
     "title": ""
    }
   },
   "outputs": [
    {
     "output_type": "stream",
     "name": "stdout",
     "output_type": "stream",
     "text": [
      "+---------+--------------------+-------------------+---------+--------------------+\n|course_id|        course_title|course_published_dt|is_active|     last_updated_ts|\n+---------+--------------------+-------------------+---------+--------------------+\n|        4|      AWS Essentials|         2021-03-19|    false|2021-04-10T02:25:...|\n|        5|          Docker 101|         2021-02-28|     true|2021-03-21T07:18:...|\n|        2|Data Engineering ...|         2021-02-10|     true|2021-03-05T12:07:...|\n|        3|   Mastering Pyspark|         2021-01-07|     true|2021-04-06T10:05:...|\n|        1|    Mastering Python|         2021-01-14|     true|2021-02-18T16:57:...|\n+---------+--------------------+-------------------+---------+--------------------+\n\n"
     ]
    }
   ],
   "source": [
    "spark.read.csv('/exam_prep/courses_db', header=True).show()"
   ]
  }
 ],
 "metadata": {
  "application/vnd.databricks.v1+notebook": {
   "dashboards": [],
   "environmentMetadata": null,
   "language": "python",
   "notebookMetadata": {
    "mostRecentlyExecutedCommandWithImplicitDF": {
     "commandId": 181200511960885,
     "dataframes": [
      "_sqldf"
     ]
    },
    "pythonIndentUnit": 4
   },
   "notebookName": "41_writing_compressed_files",
   "widgets": {}
  }
 },
 "nbformat": 4,
 "nbformat_minor": 0
}

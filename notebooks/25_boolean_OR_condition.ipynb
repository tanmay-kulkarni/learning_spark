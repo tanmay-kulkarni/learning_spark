{
 "cells": [
  {
   "cell_type": "code",
   "execution_count": 0,
   "metadata": {
    "application/vnd.databricks.v1+cell": {
     "cellMetadata": {
      "byteLimit": 2048000,
      "rowLimit": 10000
     },
     "inputWidgets": {},
     "nuid": "6a3025e3-b10e-4305-ac51-e6dbc2e32e95",
     "showTitle": false,
     "title": ""
    }
   },
   "outputs": [
    {
     "output_type": "stream",
     "name": "stdout",
     "output_type": "stream",
     "text": [
      "+-----------+----------+---------+--------------------+------------+----------+-------+------+----------+-------------+\n|employee_id|first_name|last_name|               email|phone_number| hire_date| job_id|salary|manager_id|department_id|\n+-----------+----------+---------+--------------------+------------+----------+-------+------+----------+-------------+\n|          1|      John|      Doe|john.doe@example.com|123-456-7890|2020-01-01|IT_PROG|  5000|         1|            1|\n|          2|      Jane|    Smith|jane.smith@exampl...|987-654-3210|2020-02-01| SA_REP|  6000|         1|            2|\n|          3|      Mike|  Johnson|mike.johnson@exam...|555-555-5555|2020-03-01|IT_PROG|  5500|         2|            1|\n+-----------+----------+---------+--------------------+------------+----------+-------+------+----------+-------------+\n\n"
     ]
    }
   ],
   "source": [
    "from pyspark.sql import SparkSession\n",
    "from pyspark.sql.types import StructType, StructField, StringType, IntegerType\n",
    "\n",
    "# Define the schema for the employee data\n",
    "schema = StructType([\n",
    "    StructField(\"employee_id\", IntegerType(), True),\n",
    "    StructField(\"first_name\", StringType(), True),\n",
    "    StructField(\"last_name\", StringType(), True),\n",
    "    StructField(\"email\", StringType(), True),\n",
    "    StructField(\"phone_number\", StringType(), True),\n",
    "    StructField(\"hire_date\", StringType(), True),\n",
    "    StructField(\"job_id\", StringType(), True),\n",
    "    StructField(\"salary\", IntegerType(), True),\n",
    "    StructField(\"manager_id\", IntegerType(), True),\n",
    "    StructField(\"department_id\", IntegerType(), True)\n",
    "])\n",
    "\n",
    "# Create the employee data dataframe\n",
    "data = [\n",
    "    (1, \"John\", \"Doe\", \"john.doe@example.com\", \"123-456-7890\", \"2020-01-01\", \"IT_PROG\", 5000, 1, 1),\n",
    "    (2, \"Jane\", \"Smith\", \"jane.smith@example.com\", \"987-654-3210\", \"2020-02-01\", \"SA_REP\", 6000, 1, 2),\n",
    "    (3, \"Mike\", \"Johnson\", \"mike.johnson@example.com\", \"555-555-5555\", \"2020-03-01\", \"IT_PROG\", 5500, 2, 1)\n",
    "]\n",
    "\n",
    "spark = SparkSession.builder.getOrCreate()\n",
    "df = spark.createDataFrame(data, schema)\n",
    "\n",
    "df.show()"
   ]
  },
  {
   "cell_type": "markdown",
   "metadata": {
    "application/vnd.databricks.v1+cell": {
     "cellMetadata": {},
     "inputWidgets": {},
     "nuid": "1e150ac6-564c-4bc5-92d2-38c5f43b0a1b",
     "showTitle": false,
     "title": ""
    }
   },
   "source": [
    "### using the or ( | ) condition"
   ]
  },
  {
   "cell_type": "code",
   "execution_count": 0,
   "metadata": {
    "application/vnd.databricks.v1+cell": {
     "cellMetadata": {
      "byteLimit": 2048000,
      "rowLimit": 10000
     },
     "inputWidgets": {},
     "nuid": "272dabbd-953b-4c9d-9be3-7d426fb3b05b",
     "showTitle": false,
     "title": ""
    }
   },
   "outputs": [
    {
     "output_type": "stream",
     "name": "stdout",
     "output_type": "stream",
     "text": [
      "+-----------+----------+---------+--------------------+------------+----------+-------+------+----------+-------------+\n|employee_id|first_name|last_name|               email|phone_number| hire_date| job_id|salary|manager_id|department_id|\n+-----------+----------+---------+--------------------+------------+----------+-------+------+----------+-------------+\n|          2|      Jane|    Smith|jane.smith@exampl...|987-654-3210|2020-02-01| SA_REP|  6000|         1|            2|\n|          3|      Mike|  Johnson|mike.johnson@exam...|555-555-5555|2020-03-01|IT_PROG|  5500|         2|            1|\n+-----------+----------+---------+--------------------+------------+----------+-------+------+----------+-------------+\n\n"
     ]
    }
   ],
   "source": [
    "from pyspark.sql.functions import col\n",
    "df.filter((col('job_id').startswith('SA') == True) | (col('salary') > 5400)).show()"
   ]
  },
  {
   "cell_type": "markdown",
   "metadata": {
    "application/vnd.databricks.v1+cell": {
     "cellMetadata": {},
     "inputWidgets": {},
     "nuid": "74375bb1-8144-4b51-ab0d-f66dfe7decc7",
     "showTitle": false,
     "title": ""
    }
   },
   "source": [
    "### using SQL style syntax"
   ]
  },
  {
   "cell_type": "code",
   "execution_count": 0,
   "metadata": {
    "application/vnd.databricks.v1+cell": {
     "cellMetadata": {
      "byteLimit": 2048000,
      "rowLimit": 10000
     },
     "inputWidgets": {},
     "nuid": "721a98b3-be1b-4f75-ba75-2847ee068c55",
     "showTitle": false,
     "title": ""
    }
   },
   "outputs": [
    {
     "output_type": "stream",
     "name": "stdout",
     "output_type": "stream",
     "text": [
      "+-----------+----------+---------+--------------------+------------+----------+-------+------+----------+-------------+\n|employee_id|first_name|last_name|               email|phone_number| hire_date| job_id|salary|manager_id|department_id|\n+-----------+----------+---------+--------------------+------------+----------+-------+------+----------+-------------+\n|          2|      Jane|    Smith|jane.smith@exampl...|987-654-3210|2020-02-01| SA_REP|  6000|         1|            2|\n|          3|      Mike|  Johnson|mike.johnson@exam...|555-555-5555|2020-03-01|IT_PROG|  5500|         2|            1|\n+-----------+----------+---------+--------------------+------------+----------+-------+------+----------+-------------+\n\n"
     ]
    }
   ],
   "source": [
    "df.filter(\"job_id like 'SA%' or salary > 5400\").show()"
   ]
  }
 ],
 "metadata": {
  "application/vnd.databricks.v1+notebook": {
   "dashboards": [],
   "environmentMetadata": null,
   "language": "python",
   "notebookMetadata": {
    "pythonIndentUnit": 4
   },
   "notebookName": "25_boolean_OR_condition",
   "widgets": {}
  }
 },
 "nbformat": 4,
 "nbformat_minor": 0
}

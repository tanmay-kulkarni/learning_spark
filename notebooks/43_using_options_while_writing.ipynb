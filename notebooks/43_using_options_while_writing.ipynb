{
 "cells": [
  {
   "cell_type": "code",
   "execution_count": 0,
   "metadata": {
    "application/vnd.databricks.v1+cell": {
     "cellMetadata": {
      "byteLimit": 2048000,
      "rowLimit": 10000
     },
     "inputWidgets": {},
     "nuid": "bc9abc77-c33f-4b5d-aecc-e4af12e552a1",
     "showTitle": false,
     "title": ""
    }
   },
   "outputs": [],
   "source": [
    "from pyspark.sql import Row\n",
    "\n",
    "import datetime\n",
    "\n",
    "\n",
    "courses = [\n",
    "    {\n",
    "        'course_id': 1,\n",
    "        'course_title': 'Mastering Python',\n",
    "        'course_published_dt': datetime.date(2021, 1, 14),\n",
    "        'is_active': True,\n",
    "        'last_updated_ts': datetime.datetime(2021, 2, 18, 16, 57, 25)\n",
    "    },\n",
    "    {\n",
    "        'course_id': 2,\n",
    "        'course_title': 'Data Engineering Essentials',\n",
    "        'course_published_dt': datetime.date(2021, 2, 10),\n",
    "        'is_active': True,\n",
    "        'last_updated_ts': datetime.datetime(2021, 3, 5, 12, 7, 33)\n",
    "    },\n",
    "    {\n",
    "        'course_id': 3,\n",
    "        'course_title': 'Mastering Pyspark',\n",
    "        'course_published_dt': datetime.date(2021, 1, 7),\n",
    "        'is_active': True,\n",
    "        'last_updated_ts': datetime.datetime(2021, 4, 6, 10, 5, 42)\n",
    "    },\n",
    "    {\n",
    "        'course_id': 4,\n",
    "        'course_title': 'AWS Essentials',\n",
    "        'course_published_dt': datetime.date(2021, 3, 19),\n",
    "        'is_active': False,\n",
    "        'last_updated_ts': datetime.datetime(2021, 4, 10, 2, 25, 36)\n",
    "    },\n",
    "    {\n",
    "        'course_id': 5,\n",
    "        'course_title': 'Docker 101',\n",
    "        'course_published_dt': datetime.date(2021, 2, 28),\n",
    "        'is_active': True,\n",
    "        'last_updated_ts': datetime.datetime(2021, 3, 21, 7, 18, 52)\n",
    "    }\n",
    "]\n",
    "\n",
    "courses_df = spark.createDataFrame([Row(**course) for course in courses])"
   ]
  },
  {
   "cell_type": "code",
   "execution_count": 0,
   "metadata": {
    "application/vnd.databricks.v1+cell": {
     "cellMetadata": {
      "byteLimit": 2048000,
      "rowLimit": 10000
     },
     "inputWidgets": {},
     "nuid": "86242794-5f91-4f44-a55e-5cea01f008d0",
     "showTitle": false,
     "title": ""
    }
   },
   "outputs": [
    {
     "output_type": "display_data",
     "data": {
      "text/html": [
       "<style scoped>\n",
       "  .table-result-container {\n",
       "    max-height: 300px;\n",
       "    overflow: auto;\n",
       "  }\n",
       "  table, th, td {\n",
       "    border: 1px solid black;\n",
       "    border-collapse: collapse;\n",
       "  }\n",
       "  th, td {\n",
       "    padding: 5px;\n",
       "  }\n",
       "  th {\n",
       "    text-align: left;\n",
       "  }\n",
       "</style><div class='table-result-container'><table class='table-result'><thead style='background-color: white'><tr><th>path</th><th>name</th><th>size</th><th>modificationTime</th></tr></thead><tbody><tr><td>dbfs:/exam_prep/courses_db/_SUCCESS</td><td>_SUCCESS</td><td>0</td><td>1720506291000</td></tr><tr><td>dbfs:/exam_prep/courses_db/_committed_3767401897592464076</td><td>_committed_3767401897592464076</td><td>756</td><td>1720506284000</td></tr><tr><td>dbfs:/exam_prep/courses_db/_committed_5620968563558300741</td><td>_committed_5620968563558300741</td><td>390</td><td>1720504977000</td></tr><tr><td>dbfs:/exam_prep/courses_db/_committed_7490865060007883683</td><td>_committed_7490865060007883683</td><td>735</td><td>1720506291000</td></tr><tr><td>dbfs:/exam_prep/courses_db/_started_3767401897592464076</td><td>_started_3767401897592464076</td><td>0</td><td>1720506284000</td></tr><tr><td>dbfs:/exam_prep/courses_db/_started_5620968563558300741</td><td>_started_5620968563558300741</td><td>0</td><td>1720504977000</td></tr><tr><td>dbfs:/exam_prep/courses_db/_started_7490865060007883683</td><td>_started_7490865060007883683</td><td>0</td><td>1720506291000</td></tr><tr><td>dbfs:/exam_prep/courses_db/part-00000-tid-7490865060007883683-95ea3204-1623-4868-a979-8c9ae93f5565-114-1-c000.csv</td><td>part-00000-tid-7490865060007883683-95ea3204-1623-4868-a979-8c9ae93f5565-114-1-c000.csv</td><td>129</td><td>1720506291000</td></tr><tr><td>dbfs:/exam_prep/courses_db/part-00001-tid-7490865060007883683-95ea3204-1623-4868-a979-8c9ae93f5565-115-1-c000.csv</td><td>part-00001-tid-7490865060007883683-95ea3204-1623-4868-a979-8c9ae93f5565-115-1-c000.csv</td><td>140</td><td>1720506291000</td></tr><tr><td>dbfs:/exam_prep/courses_db/part-00002-tid-7490865060007883683-95ea3204-1623-4868-a979-8c9ae93f5565-116-1-c000.csv</td><td>part-00002-tid-7490865060007883683-95ea3204-1623-4868-a979-8c9ae93f5565-116-1-c000.csv</td><td>130</td><td>1720506291000</td></tr><tr><td>dbfs:/exam_prep/courses_db/part-00003-tid-7490865060007883683-95ea3204-1623-4868-a979-8c9ae93f5565-117-1-c000.csv</td><td>part-00003-tid-7490865060007883683-95ea3204-1623-4868-a979-8c9ae93f5565-117-1-c000.csv</td><td>182</td><td>1720506291000</td></tr></tbody></table></div>"
      ]
     },
     "metadata": {
      "application/vnd.databricks.v1+output": {
       "addedWidgets": {},
       "aggData": [],
       "aggError": "",
       "aggOverflow": false,
       "aggSchema": [],
       "aggSeriesLimitReached": false,
       "aggType": "",
       "arguments": {},
       "columnCustomDisplayInfos": {},
       "data": [
        [
         "dbfs:/exam_prep/courses_db/_SUCCESS",
         "_SUCCESS",
         0,
         1720506291000
        ],
        [
         "dbfs:/exam_prep/courses_db/_committed_3767401897592464076",
         "_committed_3767401897592464076",
         756,
         1720506284000
        ],
        [
         "dbfs:/exam_prep/courses_db/_committed_5620968563558300741",
         "_committed_5620968563558300741",
         390,
         1720504977000
        ],
        [
         "dbfs:/exam_prep/courses_db/_committed_7490865060007883683",
         "_committed_7490865060007883683",
         735,
         1720506291000
        ],
        [
         "dbfs:/exam_prep/courses_db/_started_3767401897592464076",
         "_started_3767401897592464076",
         0,
         1720506284000
        ],
        [
         "dbfs:/exam_prep/courses_db/_started_5620968563558300741",
         "_started_5620968563558300741",
         0,
         1720504977000
        ],
        [
         "dbfs:/exam_prep/courses_db/_started_7490865060007883683",
         "_started_7490865060007883683",
         0,
         1720506291000
        ],
        [
         "dbfs:/exam_prep/courses_db/part-00000-tid-7490865060007883683-95ea3204-1623-4868-a979-8c9ae93f5565-114-1-c000.csv",
         "part-00000-tid-7490865060007883683-95ea3204-1623-4868-a979-8c9ae93f5565-114-1-c000.csv",
         129,
         1720506291000
        ],
        [
         "dbfs:/exam_prep/courses_db/part-00001-tid-7490865060007883683-95ea3204-1623-4868-a979-8c9ae93f5565-115-1-c000.csv",
         "part-00001-tid-7490865060007883683-95ea3204-1623-4868-a979-8c9ae93f5565-115-1-c000.csv",
         140,
         1720506291000
        ],
        [
         "dbfs:/exam_prep/courses_db/part-00002-tid-7490865060007883683-95ea3204-1623-4868-a979-8c9ae93f5565-116-1-c000.csv",
         "part-00002-tid-7490865060007883683-95ea3204-1623-4868-a979-8c9ae93f5565-116-1-c000.csv",
         130,
         1720506291000
        ],
        [
         "dbfs:/exam_prep/courses_db/part-00003-tid-7490865060007883683-95ea3204-1623-4868-a979-8c9ae93f5565-117-1-c000.csv",
         "part-00003-tid-7490865060007883683-95ea3204-1623-4868-a979-8c9ae93f5565-117-1-c000.csv",
         182,
         1720506291000
        ]
       ],
       "datasetInfos": [],
       "dbfsResultPath": null,
       "isJsonSchema": true,
       "metadata": {
        "isDbfsCommandResult": false
       },
       "overflow": false,
       "plotOptions": {
        "customPlotOptions": {},
        "displayType": "table",
        "pivotAggregation": null,
        "pivotColumns": null,
        "xColumns": null,
        "yColumns": null
       },
       "removedWidgets": [],
       "schema": [
        {
         "metadata": "{}",
         "name": "path",
         "type": "\"string\""
        },
        {
         "metadata": "{}",
         "name": "name",
         "type": "\"string\""
        },
        {
         "metadata": "{}",
         "name": "size",
         "type": "\"long\""
        },
        {
         "metadata": "{}",
         "name": "modificationTime",
         "type": "\"long\""
        }
       ],
       "type": "table"
      }
     },
     "output_type": "display_data"
    }
   ],
   "source": [
    "%fs ls /exam_prep/courses_db"
   ]
  },
  {
   "cell_type": "code",
   "execution_count": 0,
   "metadata": {
    "application/vnd.databricks.v1+cell": {
     "cellMetadata": {
      "byteLimit": 2048000,
      "rowLimit": 10000
     },
     "inputWidgets": {},
     "nuid": "af8a9842-e83f-4867-a91f-e6df6379896d",
     "showTitle": false,
     "title": ""
    }
   },
   "outputs": [],
   "source": [
    "courses_df.write.format(\"csv\").option(\"header\", \"true\").option(\n",
    "    \"inferSchema\", \"true\"\n",
    ").option(\"compression\", \"gzip\").option(\"sep\", \"|\").mode(\"overwrite\").save(\n",
    "    \"/exam_prep/courses_db\"\n",
    ")"
   ]
  },
  {
   "cell_type": "code",
   "execution_count": 0,
   "metadata": {
    "application/vnd.databricks.v1+cell": {
     "cellMetadata": {
      "byteLimit": 2048000,
      "rowLimit": 10000
     },
     "inputWidgets": {},
     "nuid": "d436e734-f729-49d9-a301-d9fc4883f093",
     "showTitle": false,
     "title": ""
    }
   },
   "outputs": [
    {
     "output_type": "display_data",
     "data": {
      "text/html": [
       "<style scoped>\n",
       "  .table-result-container {\n",
       "    max-height: 300px;\n",
       "    overflow: auto;\n",
       "  }\n",
       "  table, th, td {\n",
       "    border: 1px solid black;\n",
       "    border-collapse: collapse;\n",
       "  }\n",
       "  th, td {\n",
       "    padding: 5px;\n",
       "  }\n",
       "  th {\n",
       "    text-align: left;\n",
       "  }\n",
       "</style><div class='table-result-container'><table class='table-result'><thead style='background-color: white'><tr><th>path</th><th>name</th><th>size</th><th>modificationTime</th></tr></thead><tbody><tr><td>dbfs:/exam_prep/courses_db/_SUCCESS</td><td>_SUCCESS</td><td>0</td><td>1720507319000</td></tr><tr><td>dbfs:/exam_prep/courses_db/_committed_2268264955117639517</td><td>_committed_2268264955117639517</td><td>747</td><td>1720507319000</td></tr><tr><td>dbfs:/exam_prep/courses_db/_committed_3767401897592464076</td><td>_committed_3767401897592464076</td><td>756</td><td>1720506284000</td></tr><tr><td>dbfs:/exam_prep/courses_db/_committed_5620968563558300741</td><td>_committed_5620968563558300741</td><td>390</td><td>1720504977000</td></tr><tr><td>dbfs:/exam_prep/courses_db/_committed_7490865060007883683</td><td>_committed_7490865060007883683</td><td>735</td><td>1720506291000</td></tr><tr><td>dbfs:/exam_prep/courses_db/_committed_vacuum1258650030457032616</td><td>_committed_vacuum1258650030457032616</td><td>96</td><td>1720507320000</td></tr><tr><td>dbfs:/exam_prep/courses_db/_started_2268264955117639517</td><td>_started_2268264955117639517</td><td>0</td><td>1720507319000</td></tr><tr><td>dbfs:/exam_prep/courses_db/_started_3767401897592464076</td><td>_started_3767401897592464076</td><td>0</td><td>1720506284000</td></tr><tr><td>dbfs:/exam_prep/courses_db/_started_7490865060007883683</td><td>_started_7490865060007883683</td><td>0</td><td>1720506291000</td></tr><tr><td>dbfs:/exam_prep/courses_db/part-00000-tid-2268264955117639517-dc8fa650-0394-4477-a077-6f71ed0efe3b-161-1-c000.csv.gz</td><td>part-00000-tid-2268264955117639517-dc8fa650-0394-4477-a077-6f71ed0efe3b-161-1-c000.csv.gz</td><td>128</td><td>1720507319000</td></tr><tr><td>dbfs:/exam_prep/courses_db/part-00001-tid-2268264955117639517-dc8fa650-0394-4477-a077-6f71ed0efe3b-162-1-c000.csv.gz</td><td>part-00001-tid-2268264955117639517-dc8fa650-0394-4477-a077-6f71ed0efe3b-162-1-c000.csv.gz</td><td>133</td><td>1720507319000</td></tr><tr><td>dbfs:/exam_prep/courses_db/part-00002-tid-2268264955117639517-dc8fa650-0394-4477-a077-6f71ed0efe3b-163-1-c000.csv.gz</td><td>part-00002-tid-2268264955117639517-dc8fa650-0394-4477-a077-6f71ed0efe3b-163-1-c000.csv.gz</td><td>130</td><td>1720507319000</td></tr><tr><td>dbfs:/exam_prep/courses_db/part-00003-tid-2268264955117639517-dc8fa650-0394-4477-a077-6f71ed0efe3b-164-1-c000.csv.gz</td><td>part-00003-tid-2268264955117639517-dc8fa650-0394-4477-a077-6f71ed0efe3b-164-1-c000.csv.gz</td><td>157</td><td>1720507319000</td></tr></tbody></table></div>"
      ]
     },
     "metadata": {
      "application/vnd.databricks.v1+output": {
       "addedWidgets": {},
       "aggData": [],
       "aggError": "",
       "aggOverflow": false,
       "aggSchema": [],
       "aggSeriesLimitReached": false,
       "aggType": "",
       "arguments": {},
       "columnCustomDisplayInfos": {},
       "data": [
        [
         "dbfs:/exam_prep/courses_db/_SUCCESS",
         "_SUCCESS",
         0,
         1720507319000
        ],
        [
         "dbfs:/exam_prep/courses_db/_committed_2268264955117639517",
         "_committed_2268264955117639517",
         747,
         1720507319000
        ],
        [
         "dbfs:/exam_prep/courses_db/_committed_3767401897592464076",
         "_committed_3767401897592464076",
         756,
         1720506284000
        ],
        [
         "dbfs:/exam_prep/courses_db/_committed_5620968563558300741",
         "_committed_5620968563558300741",
         390,
         1720504977000
        ],
        [
         "dbfs:/exam_prep/courses_db/_committed_7490865060007883683",
         "_committed_7490865060007883683",
         735,
         1720506291000
        ],
        [
         "dbfs:/exam_prep/courses_db/_committed_vacuum1258650030457032616",
         "_committed_vacuum1258650030457032616",
         96,
         1720507320000
        ],
        [
         "dbfs:/exam_prep/courses_db/_started_2268264955117639517",
         "_started_2268264955117639517",
         0,
         1720507319000
        ],
        [
         "dbfs:/exam_prep/courses_db/_started_3767401897592464076",
         "_started_3767401897592464076",
         0,
         1720506284000
        ],
        [
         "dbfs:/exam_prep/courses_db/_started_7490865060007883683",
         "_started_7490865060007883683",
         0,
         1720506291000
        ],
        [
         "dbfs:/exam_prep/courses_db/part-00000-tid-2268264955117639517-dc8fa650-0394-4477-a077-6f71ed0efe3b-161-1-c000.csv.gz",
         "part-00000-tid-2268264955117639517-dc8fa650-0394-4477-a077-6f71ed0efe3b-161-1-c000.csv.gz",
         128,
         1720507319000
        ],
        [
         "dbfs:/exam_prep/courses_db/part-00001-tid-2268264955117639517-dc8fa650-0394-4477-a077-6f71ed0efe3b-162-1-c000.csv.gz",
         "part-00001-tid-2268264955117639517-dc8fa650-0394-4477-a077-6f71ed0efe3b-162-1-c000.csv.gz",
         133,
         1720507319000
        ],
        [
         "dbfs:/exam_prep/courses_db/part-00002-tid-2268264955117639517-dc8fa650-0394-4477-a077-6f71ed0efe3b-163-1-c000.csv.gz",
         "part-00002-tid-2268264955117639517-dc8fa650-0394-4477-a077-6f71ed0efe3b-163-1-c000.csv.gz",
         130,
         1720507319000
        ],
        [
         "dbfs:/exam_prep/courses_db/part-00003-tid-2268264955117639517-dc8fa650-0394-4477-a077-6f71ed0efe3b-164-1-c000.csv.gz",
         "part-00003-tid-2268264955117639517-dc8fa650-0394-4477-a077-6f71ed0efe3b-164-1-c000.csv.gz",
         157,
         1720507319000
        ]
       ],
       "datasetInfos": [],
       "dbfsResultPath": null,
       "isJsonSchema": true,
       "metadata": {
        "isDbfsCommandResult": false
       },
       "overflow": false,
       "plotOptions": {
        "customPlotOptions": {},
        "displayType": "table",
        "pivotAggregation": null,
        "pivotColumns": null,
        "xColumns": null,
        "yColumns": null
       },
       "removedWidgets": [],
       "schema": [
        {
         "metadata": "{}",
         "name": "path",
         "type": "\"string\""
        },
        {
         "metadata": "{}",
         "name": "name",
         "type": "\"string\""
        },
        {
         "metadata": "{}",
         "name": "size",
         "type": "\"long\""
        },
        {
         "metadata": "{}",
         "name": "modificationTime",
         "type": "\"long\""
        }
       ],
       "type": "table"
      }
     },
     "output_type": "display_data"
    }
   ],
   "source": [
    "%fs ls /exam_prep/courses_db"
   ]
  },
  {
   "cell_type": "markdown",
   "metadata": {
    "application/vnd.databricks.v1+cell": {
     "cellMetadata": {
      "byteLimit": 2048000,
      "rowLimit": 10000
     },
     "inputWidgets": {},
     "nuid": "31e25454-62ee-4f4d-a5d5-34147c090612",
     "showTitle": false,
     "title": ""
    }
   },
   "source": [
    "### more ways of doing the same thing"
   ]
  },
  {
   "cell_type": "code",
   "execution_count": 0,
   "metadata": {
    "application/vnd.databricks.v1+cell": {
     "cellMetadata": {
      "byteLimit": 2048000,
      "rowLimit": 10000
     },
     "inputWidgets": {},
     "nuid": "e52cdf67-721f-4d2b-a931-1c8b762b8833",
     "showTitle": false,
     "title": ""
    }
   },
   "outputs": [],
   "source": [
    "courses_df.write.csv(\"/exam_prep/courses_db\",\n",
    "                    header=\"true\", \n",
    "                    mode=\"overwrite\", \n",
    "                    sep=\"|\", \n",
    "                    compression=\"gzip\")"
   ]
  },
  {
   "cell_type": "code",
   "execution_count": 0,
   "metadata": {
    "application/vnd.databricks.v1+cell": {
     "cellMetadata": {
      "byteLimit": 2048000,
      "rowLimit": 10000
     },
     "inputWidgets": {},
     "nuid": "050045cd-c80a-4109-a3fe-439821670ef9",
     "showTitle": false,
     "title": ""
    }
   },
   "outputs": [],
   "source": [
    "courses_df.write.\\\n",
    "                option(\"header\", \"true\").\\\n",
    "                option(\"sep\", \"|\").\\\n",
    "                option(\"compression\", \"gzip\").csv(\"/exam_prep/courses_db\", mode='overwrite')"
   ]
  },
  {
   "cell_type": "markdown",
   "metadata": {
    "application/vnd.databricks.v1+cell": {
     "cellMetadata": {},
     "inputWidgets": {},
     "nuid": "d95884e7-d959-4ca5-8290-f09e5d4d1a6c",
     "showTitle": false,
     "title": ""
    }
   },
   "source": [
    "### can also specify multiple options using 'options'"
   ]
  },
  {
   "cell_type": "code",
   "execution_count": 0,
   "metadata": {
    "application/vnd.databricks.v1+cell": {
     "cellMetadata": {
      "byteLimit": 2048000,
      "rowLimit": 10000
     },
     "inputWidgets": {},
     "nuid": "0d86bbeb-8a42-4c9c-b0ea-5482d666438e",
     "showTitle": false,
     "title": ""
    }
   },
   "outputs": [],
   "source": [
    "courses_df.write.options(header=\"true\", sep=\"|\", compression=\"gzip\").format(\"csv\").save(\n",
    "    \"/exam_prep/courses_db\", mode=\"overwrite\"\n",
    ")"
   ]
  },
  {
   "cell_type": "code",
   "execution_count": 0,
   "metadata": {
    "application/vnd.databricks.v1+cell": {
     "cellMetadata": {
      "byteLimit": 2048000,
      "rowLimit": 10000
     },
     "inputWidgets": {},
     "nuid": "da210a49-4d4f-4502-aed6-130b2dea20b0",
     "showTitle": false,
     "title": ""
    }
   },
   "outputs": [],
   "source": [
    "# via a dictionary\n",
    "\n",
    "options = {\"header\": \"true\", \"sep\": \"|\", \"compression\": \"gzip\"}\n",
    "\n",
    "courses_df.write.options(**options).format(\"csv\").save(\n",
    "    \"/exam_prep/courses_db\", mode=\"overwrite\"\n",
    ")"
   ]
  }
 ],
 "metadata": {
  "application/vnd.databricks.v1+notebook": {
   "dashboards": [],
   "environmentMetadata": null,
   "language": "python",
   "notebookMetadata": {
    "mostRecentlyExecutedCommandWithImplicitDF": {
     "commandId": 3620305815169984,
     "dataframes": [
      "_sqldf"
     ]
    },
    "pythonIndentUnit": 4
   },
   "notebookName": "43_using_options_while_writing",
   "widgets": {}
  }
 },
 "nbformat": 4,
 "nbformat_minor": 0
}

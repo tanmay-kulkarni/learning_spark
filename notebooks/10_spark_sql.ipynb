{
 "cells": [
  {
   "cell_type": "code",
   "execution_count": 0,
   "metadata": {
    "application/vnd.databricks.v1+cell": {
     "cellMetadata": {
      "byteLimit": 2048000,
      "rowLimit": 10000
     },
     "inputWidgets": {},
     "nuid": "1a94b1cd-a87f-43df-8398-328ec3516f8b",
     "showTitle": false,
     "title": ""
    }
   },
   "outputs": [],
   "source": [
    "%run \"./07_create_a_df\""
   ]
  },
  {
   "cell_type": "code",
   "execution_count": 0,
   "metadata": {
    "application/vnd.databricks.v1+cell": {
     "cellMetadata": {
      "byteLimit": 2048000,
      "rowLimit": 10000
     },
     "inputWidgets": {},
     "nuid": "05f7bb8f-8d33-4e5a-bfce-1ad635a773a0",
     "showTitle": false,
     "title": ""
    }
   },
   "outputs": [],
   "source": [
    "df.createOrReplaceTempView('TempUsers')"
   ]
  },
  {
   "cell_type": "code",
   "execution_count": 0,
   "metadata": {
    "application/vnd.databricks.v1+cell": {
     "cellMetadata": {
      "byteLimit": 2048000,
      "rowLimit": 10000
     },
     "inputWidgets": {},
     "nuid": "59640614-d244-4bfb-b6a4-a1f13e89ea34",
     "showTitle": false,
     "title": ""
    }
   },
   "outputs": [
    {
     "output_type": "stream",
     "name": "stdout",
     "output_type": "stream",
     "text": [
      "+---+----------+---------+---------------+\n| id|first_name|last_name|      full_name|\n+---+----------+---------+---------------+\n|  1|      John|      Doe|       Doe,John|\n|  2|      Jane|    Smith|     Smith,Jane|\n|  3|     Alice|  Johnson|  Johnson,Alice|\n|  4|    Robert|    Brown|   Brown,Robert|\n|  5|     Emily|      Lee|      Lee,Emily|\n|  6|   Michael|  Johnson|Johnson,Michael|\n|  7|     Sarah|    Davis|    Davis,Sarah|\n|  8|   Jessica|   Wilson| Wilson,Jessica|\n|  9|     David| Anderson| Anderson,David|\n| 10|  Jennifer|   Taylor|Taylor,Jennifer|\n+---+----------+---------+---------------+\n\n"
     ]
    }
   ],
   "source": [
    "spark.sql(\n",
    "    \"\"\"\n",
    "            select \n",
    "                    id,\n",
    "                    first_name,\n",
    "                    last_name,\n",
    "                    concat(last_name, ',', first_name) as full_name\n",
    "            from TempUsers\n",
    "    \"\"\"\n",
    ").show()"
   ]
  }
 ],
 "metadata": {
  "application/vnd.databricks.v1+notebook": {
   "dashboards": [],
   "environmentMetadata": null,
   "language": "python",
   "notebookMetadata": {
    "pythonIndentUnit": 4
   },
   "notebookName": "10_spark_sql",
   "widgets": {}
  }
 },
 "nbformat": 4,
 "nbformat_minor": 0
}

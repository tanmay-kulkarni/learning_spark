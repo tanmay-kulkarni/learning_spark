{
 "cells": [
  {
   "cell_type": "code",
   "execution_count": 0,
   "metadata": {
    "application/vnd.databricks.v1+cell": {
     "cellMetadata": {
      "byteLimit": 2048000,
      "rowLimit": 10000
     },
     "inputWidgets": {},
     "nuid": "01ff5408-4363-42ad-bf65-4318fcdae034",
     "showTitle": false,
     "title": ""
    }
   },
   "outputs": [],
   "source": [
    "from pyspark.sql.functions import col"
   ]
  },
  {
   "cell_type": "code",
   "execution_count": 0,
   "metadata": {
    "application/vnd.databricks.v1+cell": {
     "cellMetadata": {
      "byteLimit": 2048000,
      "rowLimit": 10000
     },
     "inputWidgets": {},
     "nuid": "ed7a068a-a804-4da6-953d-a64d49216ef7",
     "showTitle": false,
     "title": ""
    }
   },
   "outputs": [],
   "source": [
    "%run \"./07_create_a_df\""
   ]
  },
  {
   "cell_type": "code",
   "execution_count": 0,
   "metadata": {
    "application/vnd.databricks.v1+cell": {
     "cellMetadata": {
      "byteLimit": 2048000,
      "rowLimit": 10000
     },
     "inputWidgets": {},
     "nuid": "e0cd617e-489f-4762-8376-f2152fdb989a",
     "showTitle": false,
     "title": ""
    }
   },
   "outputs": [
    {
     "output_type": "stream",
     "name": "stdout",
     "output_type": "stream",
     "text": [
      "+---+----------+---------+--------------------+--------------------+--------------------+-----------+-----------+-------------+-------------------+\n| id|first_name|last_name|               email|       phone_numbers|             courses|is_customer|amount_paid|customer_from|    last_updated_ts|\n+---+----------+---------+--------------------+--------------------+--------------------+-----------+-----------+-------------+-------------------+\n|  1|      John|      Doe|john.doe@example.com|{1234567890, 9876...|[Math, Science, H...|       true|      100.5|   2022-05-15|2024-05-18 11:28:25|\n|  2|      Jane|    Smith|jane.smith@exampl...|{9876543210, 1234...|[English, Art, Mu...|      false|        0.0|   2023-02-10|2024-05-18 11:28:25|\n|  3|     Alice|  Johnson|alice.johnson@exa...|{5555555555, 4444...|[Physics, Chemist...|       true|       75.2|   2021-08-20|2024-05-18 11:28:25|\n|  4|    Robert|    Brown|robert.brown@exam...|{7777777777, 8888...|[Computer Science...|       true|       50.0|   2023-01-05|2024-05-18 11:28:25|\n|  5|     Emily|      Lee|emily.lee@example...|{9999999999, 1111...|[Literature, Writ...|       true|      30.75|   2023-04-12|2024-05-18 11:28:25|\n|  6|   Michael|  Johnson|michael.johnson@e...|{5555555555, 4444...|[Physics, Chemist...|       true|       75.2|   2021-08-20|2024-05-18 11:28:25|\n|  7|     Sarah|    Davis|sarah.davis@examp...|{7777777777, 8888...|[Computer Science...|       true|       50.0|   2023-01-05|2024-05-18 11:28:25|\n|  8|   Jessica|   Wilson|jessica.wilson@ex...|{9999999999, 1111...|[Literature, Writ...|       true|      30.75|   2023-04-12|2024-05-18 11:28:25|\n|  9|     David| Anderson|david.anderson@ex...|{5555555555, 4444...|[Physics, Chemist...|       true|       75.2|   2021-08-20|2024-05-18 11:28:25|\n| 10|  Jennifer|   Taylor|jennifer.taylor@e...|{7777777777, 8888...|[Computer Science...|       true|       50.0|   2023-01-05|2024-05-18 11:28:25|\n+---+----------+---------+--------------------+--------------------+--------------------+-----------+-----------+-------------+-------------------+\n\n"
     ]
    }
   ],
   "source": [
    "df.show()"
   ]
  },
  {
   "cell_type": "code",
   "execution_count": 0,
   "metadata": {
    "application/vnd.databricks.v1+cell": {
     "cellMetadata": {
      "byteLimit": 2048000,
      "rowLimit": 10000
     },
     "inputWidgets": {},
     "nuid": "e5e11835-b291-445e-a65d-4acfcade0869",
     "showTitle": false,
     "title": ""
    }
   },
   "outputs": [
    {
     "output_type": "stream",
     "name": "stdout",
     "output_type": "stream",
     "text": [
      "+---+----------+---------+--------------------+--------------------+-----------+-----------+-------------+-------------------+\n| id|first_name|last_name|               email|       phone_numbers|is_customer|amount_paid|customer_from|    last_updated_ts|\n+---+----------+---------+--------------------+--------------------+-----------+-----------+-------------+-------------------+\n|  1|      John|      Doe|john.doe@example.com|{1234567890, 9876...|       true|      100.5|   2022-05-15|2024-05-18 11:28:25|\n|  2|      Jane|    Smith|jane.smith@exampl...|{9876543210, 1234...|      false|        0.0|   2023-02-10|2024-05-18 11:28:25|\n|  3|     Alice|  Johnson|alice.johnson@exa...|{5555555555, 4444...|       true|       75.2|   2021-08-20|2024-05-18 11:28:25|\n|  4|    Robert|    Brown|robert.brown@exam...|{7777777777, 8888...|       true|       50.0|   2023-01-05|2024-05-18 11:28:25|\n|  5|     Emily|      Lee|emily.lee@example...|{9999999999, 1111...|       true|      30.75|   2023-04-12|2024-05-18 11:28:25|\n|  6|   Michael|  Johnson|michael.johnson@e...|{5555555555, 4444...|       true|       75.2|   2021-08-20|2024-05-18 11:28:25|\n|  7|     Sarah|    Davis|sarah.davis@examp...|{7777777777, 8888...|       true|       50.0|   2023-01-05|2024-05-18 11:28:25|\n|  8|   Jessica|   Wilson|jessica.wilson@ex...|{9999999999, 1111...|       true|      30.75|   2023-04-12|2024-05-18 11:28:25|\n|  9|     David| Anderson|david.anderson@ex...|{5555555555, 4444...|       true|       75.2|   2021-08-20|2024-05-18 11:28:25|\n| 10|  Jennifer|   Taylor|jennifer.taylor@e...|{7777777777, 8888...|       true|       50.0|   2023-01-05|2024-05-18 11:28:25|\n+---+----------+---------+--------------------+--------------------+-----------+-----------+-------------+-------------------+\n\n"
     ]
    }
   ],
   "source": [
    "df.drop('courses').show()"
   ]
  },
  {
   "cell_type": "code",
   "execution_count": 0,
   "metadata": {
    "application/vnd.databricks.v1+cell": {
     "cellMetadata": {
      "byteLimit": 2048000,
      "rowLimit": 10000
     },
     "inputWidgets": {},
     "nuid": "84b74065-4c10-46a5-9531-57d0c6fc41ef",
     "showTitle": false,
     "title": ""
    }
   },
   "outputs": [
    {
     "output_type": "stream",
     "name": "stdout",
     "output_type": "stream",
     "text": [
      "+---+----------+---------+--------------------+--------------------+--------------------+-----------+-------------+-------------------+\n| id|first_name|last_name|               email|       phone_numbers|             courses|is_customer|customer_from|    last_updated_ts|\n+---+----------+---------+--------------------+--------------------+--------------------+-----------+-------------+-------------------+\n|  1|      John|      Doe|john.doe@example.com|{1234567890, 9876...|[Math, Science, H...|       true|   2022-05-15|2024-05-18 11:28:25|\n|  2|      Jane|    Smith|jane.smith@exampl...|{9876543210, 1234...|[English, Art, Mu...|      false|   2023-02-10|2024-05-18 11:28:25|\n|  3|     Alice|  Johnson|alice.johnson@exa...|{5555555555, 4444...|[Physics, Chemist...|       true|   2021-08-20|2024-05-18 11:28:25|\n|  4|    Robert|    Brown|robert.brown@exam...|{7777777777, 8888...|[Computer Science...|       true|   2023-01-05|2024-05-18 11:28:25|\n|  5|     Emily|      Lee|emily.lee@example...|{9999999999, 1111...|[Literature, Writ...|       true|   2023-04-12|2024-05-18 11:28:25|\n|  6|   Michael|  Johnson|michael.johnson@e...|{5555555555, 4444...|[Physics, Chemist...|       true|   2021-08-20|2024-05-18 11:28:25|\n|  7|     Sarah|    Davis|sarah.davis@examp...|{7777777777, 8888...|[Computer Science...|       true|   2023-01-05|2024-05-18 11:28:25|\n|  8|   Jessica|   Wilson|jessica.wilson@ex...|{9999999999, 1111...|[Literature, Writ...|       true|   2023-04-12|2024-05-18 11:28:25|\n|  9|     David| Anderson|david.anderson@ex...|{5555555555, 4444...|[Physics, Chemist...|       true|   2021-08-20|2024-05-18 11:28:25|\n| 10|  Jennifer|   Taylor|jennifer.taylor@e...|{7777777777, 8888...|[Computer Science...|       true|   2023-01-05|2024-05-18 11:28:25|\n+---+----------+---------+--------------------+--------------------+--------------------+-----------+-------------+-------------------+\n\n"
     ]
    }
   ],
   "source": [
    "df.drop(col('amount_paid')).show()"
   ]
  },
  {
   "cell_type": "markdown",
   "metadata": {
    "application/vnd.databricks.v1+cell": {
     "cellMetadata": {},
     "inputWidgets": {},
     "nuid": "cfade843-f87b-4c09-b50f-bffab000fe4e",
     "showTitle": false,
     "title": ""
    }
   },
   "source": [
    "### if you drop a non-existing column, it WON'T throw an error"
   ]
  },
  {
   "cell_type": "code",
   "execution_count": 0,
   "metadata": {
    "application/vnd.databricks.v1+cell": {
     "cellMetadata": {
      "byteLimit": 2048000,
      "rowLimit": 10000
     },
     "inputWidgets": {},
     "nuid": "cec8117e-cb28-4838-ad94-1aa7d69db732",
     "showTitle": false,
     "title": ""
    }
   },
   "outputs": [
    {
     "output_type": "stream",
     "name": "stdout",
     "output_type": "stream",
     "text": [
      "+---+----------+---------+--------------------+--------------------+--------------------+-----------+-----------+-------------+-------------------+\n| id|first_name|last_name|               email|       phone_numbers|             courses|is_customer|amount_paid|customer_from|    last_updated_ts|\n+---+----------+---------+--------------------+--------------------+--------------------+-----------+-----------+-------------+-------------------+\n|  1|      John|      Doe|john.doe@example.com|{1234567890, 9876...|[Math, Science, H...|       true|      100.5|   2022-05-15|2024-05-18 11:28:25|\n|  2|      Jane|    Smith|jane.smith@exampl...|{9876543210, 1234...|[English, Art, Mu...|      false|        0.0|   2023-02-10|2024-05-18 11:28:25|\n|  3|     Alice|  Johnson|alice.johnson@exa...|{5555555555, 4444...|[Physics, Chemist...|       true|       75.2|   2021-08-20|2024-05-18 11:28:25|\n|  4|    Robert|    Brown|robert.brown@exam...|{7777777777, 8888...|[Computer Science...|       true|       50.0|   2023-01-05|2024-05-18 11:28:25|\n|  5|     Emily|      Lee|emily.lee@example...|{9999999999, 1111...|[Literature, Writ...|       true|      30.75|   2023-04-12|2024-05-18 11:28:25|\n|  6|   Michael|  Johnson|michael.johnson@e...|{5555555555, 4444...|[Physics, Chemist...|       true|       75.2|   2021-08-20|2024-05-18 11:28:25|\n|  7|     Sarah|    Davis|sarah.davis@examp...|{7777777777, 8888...|[Computer Science...|       true|       50.0|   2023-01-05|2024-05-18 11:28:25|\n|  8|   Jessica|   Wilson|jessica.wilson@ex...|{9999999999, 1111...|[Literature, Writ...|       true|      30.75|   2023-04-12|2024-05-18 11:28:25|\n|  9|     David| Anderson|david.anderson@ex...|{5555555555, 4444...|[Physics, Chemist...|       true|       75.2|   2021-08-20|2024-05-18 11:28:25|\n| 10|  Jennifer|   Taylor|jennifer.taylor@e...|{7777777777, 8888...|[Computer Science...|       true|       50.0|   2023-01-05|2024-05-18 11:28:25|\n+---+----------+---------+--------------------+--------------------+--------------------+-----------+-----------+-------------+-------------------+\n\n"
     ]
    }
   ],
   "source": [
    "df.drop('some_column_not_in_this_df').show()"
   ]
  },
  {
   "cell_type": "markdown",
   "metadata": {
    "application/vnd.databricks.v1+cell": {
     "cellMetadata": {},
     "inputWidgets": {},
     "nuid": "5f3ca444-66da-4ccd-b72f-614a0bd7177a",
     "showTitle": false,
     "title": ""
    }
   },
   "source": [
    "### dropping more than 1 columns in a single command\n",
    "\n",
    "you have to pass the columns as strings one-after-another, or using col() one-after-another.\n",
    "\n",
    "* passing column names as list won't work"
   ]
  },
  {
   "cell_type": "code",
   "execution_count": 0,
   "metadata": {
    "application/vnd.databricks.v1+cell": {
     "cellMetadata": {
      "byteLimit": 2048000,
      "rowLimit": 10000
     },
     "inputWidgets": {},
     "nuid": "7010ed00-6308-4a73-a900-860c99d9cfa5",
     "showTitle": false,
     "title": ""
    }
   },
   "outputs": [
    {
     "output_type": "stream",
     "name": "stdout",
     "output_type": "stream",
     "text": [
      "+----------+---------+--------------------+-----------+-----------+-------------+-------------------+\n|first_name|last_name|       phone_numbers|is_customer|amount_paid|customer_from|    last_updated_ts|\n+----------+---------+--------------------+-----------+-----------+-------------+-------------------+\n|      John|      Doe|{1234567890, 9876...|       true|      100.5|   2022-05-15|2024-05-18 11:28:25|\n|      Jane|    Smith|{9876543210, 1234...|      false|        0.0|   2023-02-10|2024-05-18 11:28:25|\n|     Alice|  Johnson|{5555555555, 4444...|       true|       75.2|   2021-08-20|2024-05-18 11:28:25|\n|    Robert|    Brown|{7777777777, 8888...|       true|       50.0|   2023-01-05|2024-05-18 11:28:25|\n|     Emily|      Lee|{9999999999, 1111...|       true|      30.75|   2023-04-12|2024-05-18 11:28:25|\n|   Michael|  Johnson|{5555555555, 4444...|       true|       75.2|   2021-08-20|2024-05-18 11:28:25|\n|     Sarah|    Davis|{7777777777, 8888...|       true|       50.0|   2023-01-05|2024-05-18 11:28:25|\n|   Jessica|   Wilson|{9999999999, 1111...|       true|      30.75|   2023-04-12|2024-05-18 11:28:25|\n|     David| Anderson|{5555555555, 4444...|       true|       75.2|   2021-08-20|2024-05-18 11:28:25|\n|  Jennifer|   Taylor|{7777777777, 8888...|       true|       50.0|   2023-01-05|2024-05-18 11:28:25|\n+----------+---------+--------------------+-----------+-----------+-------------+-------------------+\n\n"
     ]
    }
   ],
   "source": [
    "df.drop('id', 'email', 'courses').show()"
   ]
  },
  {
   "cell_type": "code",
   "execution_count": 0,
   "metadata": {
    "application/vnd.databricks.v1+cell": {
     "cellMetadata": {
      "byteLimit": 2048000,
      "rowLimit": 10000
     },
     "inputWidgets": {},
     "nuid": "05d10cec-7451-4874-933c-79523e00c31c",
     "showTitle": false,
     "title": ""
    }
   },
   "outputs": [
    {
     "output_type": "stream",
     "name": "stdout",
     "output_type": "stream",
     "text": [
      "+----------+---------+--------------------+--------------------+-----------+-------------+-------------------+\n|first_name|last_name|       phone_numbers|             courses|is_customer|customer_from|    last_updated_ts|\n+----------+---------+--------------------+--------------------+-----------+-------------+-------------------+\n|      John|      Doe|{1234567890, 9876...|[Math, Science, H...|       true|   2022-05-15|2024-05-18 11:28:25|\n|      Jane|    Smith|{9876543210, 1234...|[English, Art, Mu...|      false|   2023-02-10|2024-05-18 11:28:25|\n|     Alice|  Johnson|{5555555555, 4444...|[Physics, Chemist...|       true|   2021-08-20|2024-05-18 11:28:25|\n|    Robert|    Brown|{7777777777, 8888...|[Computer Science...|       true|   2023-01-05|2024-05-18 11:28:25|\n|     Emily|      Lee|{9999999999, 1111...|[Literature, Writ...|       true|   2023-04-12|2024-05-18 11:28:25|\n|   Michael|  Johnson|{5555555555, 4444...|[Physics, Chemist...|       true|   2021-08-20|2024-05-18 11:28:25|\n|     Sarah|    Davis|{7777777777, 8888...|[Computer Science...|       true|   2023-01-05|2024-05-18 11:28:25|\n|   Jessica|   Wilson|{9999999999, 1111...|[Literature, Writ...|       true|   2023-04-12|2024-05-18 11:28:25|\n|     David| Anderson|{5555555555, 4444...|[Physics, Chemist...|       true|   2021-08-20|2024-05-18 11:28:25|\n|  Jennifer|   Taylor|{7777777777, 8888...|[Computer Science...|       true|   2023-01-05|2024-05-18 11:28:25|\n+----------+---------+--------------------+--------------------+-----------+-------------+-------------------+\n\n"
     ]
    }
   ],
   "source": [
    "df.drop(col('id'), col('email'), col('amount_paid')).show()"
   ]
  },
  {
   "cell_type": "markdown",
   "metadata": {
    "application/vnd.databricks.v1+cell": {
     "cellMetadata": {},
     "inputWidgets": {},
     "nuid": "1c497ec6-1aae-4c6f-a111-3609a948c9e0",
     "showTitle": false,
     "title": ""
    }
   },
   "source": [
    "### to drop columns using a list"
   ]
  },
  {
   "cell_type": "code",
   "execution_count": 0,
   "metadata": {
    "application/vnd.databricks.v1+cell": {
     "cellMetadata": {
      "byteLimit": 2048000,
      "rowLimit": 10000
     },
     "inputWidgets": {},
     "nuid": "4ed58ae5-c50a-4404-b907-227994b5e99f",
     "showTitle": false,
     "title": ""
    }
   },
   "outputs": [
    {
     "output_type": "stream",
     "name": "stdout",
     "output_type": "stream",
     "text": [
      "+----------+---------+--------------------+-----------+-------------+-------------------+\n|first_name|last_name|       phone_numbers|is_customer|customer_from|    last_updated_ts|\n+----------+---------+--------------------+-----------+-------------+-------------------+\n|      John|      Doe|{1234567890, 9876...|       true|   2022-05-15|2024-05-18 11:28:25|\n|      Jane|    Smith|{9876543210, 1234...|      false|   2023-02-10|2024-05-18 11:28:25|\n|     Alice|  Johnson|{5555555555, 4444...|       true|   2021-08-20|2024-05-18 11:28:25|\n|    Robert|    Brown|{7777777777, 8888...|       true|   2023-01-05|2024-05-18 11:28:25|\n|     Emily|      Lee|{9999999999, 1111...|       true|   2023-04-12|2024-05-18 11:28:25|\n|   Michael|  Johnson|{5555555555, 4444...|       true|   2021-08-20|2024-05-18 11:28:25|\n|     Sarah|    Davis|{7777777777, 8888...|       true|   2023-01-05|2024-05-18 11:28:25|\n|   Jessica|   Wilson|{9999999999, 1111...|       true|   2023-04-12|2024-05-18 11:28:25|\n|     David| Anderson|{5555555555, 4444...|       true|   2021-08-20|2024-05-18 11:28:25|\n|  Jennifer|   Taylor|{7777777777, 8888...|       true|   2023-01-05|2024-05-18 11:28:25|\n+----------+---------+--------------------+-----------+-------------+-------------------+\n\n"
     ]
    }
   ],
   "source": [
    "columns_to_drop = ['id', 'email', 'courses', 'amount_paid']\n",
    "\n",
    "df.drop(*columns_to_drop).show()"
   ]
  }
 ],
 "metadata": {
  "application/vnd.databricks.v1+notebook": {
   "dashboards": [],
   "environmentMetadata": null,
   "language": "python",
   "notebookMetadata": {
    "pythonIndentUnit": 4
   },
   "notebookName": "28_dropping_columns",
   "widgets": {}
  }
 },
 "nbformat": 4,
 "nbformat_minor": 0
}

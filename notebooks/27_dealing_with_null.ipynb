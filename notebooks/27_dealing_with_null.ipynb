{
 "cells": [
  {
   "cell_type": "code",
   "execution_count": 0,
   "metadata": {
    "application/vnd.databricks.v1+cell": {
     "cellMetadata": {
      "byteLimit": 2048000,
      "rowLimit": 10000
     },
     "inputWidgets": {},
     "nuid": "42fe94be-79c8-4a6d-87e9-d932e8a5fad9",
     "showTitle": false,
     "title": ""
    }
   },
   "outputs": [
    {
     "output_type": "stream",
     "name": "stdout",
     "output_type": "stream",
     "text": [
      "+---+------------+----+------+\n| id|        name| age|salary|\n+---+------------+----+------+\n|  1|    John Doe|  30| 50000|\n|  2|  Jane Smith|NULL| 60000|\n|  3|        NULL|  35| 55000|\n|  4|Mike Johnson|  40|  NULL|\n+---+------------+----+------+\n\n"
     ]
    }
   ],
   "source": [
    "from pyspark.sql import SparkSession\n",
    "from pyspark.sql.types import StructType, StructField, StringType, IntegerType\n",
    "\n",
    "# Define the schema for the employee dataframe\n",
    "schema = StructType([\n",
    "    StructField(\"id\", IntegerType(), nullable=True),\n",
    "    StructField(\"name\", StringType(), nullable=True),\n",
    "    StructField(\"age\", IntegerType(), nullable=True),\n",
    "    StructField(\"salary\", IntegerType(), nullable=True)\n",
    "])\n",
    "\n",
    "# Create the employee dataframe with some null values\n",
    "employee_data = [\n",
    "    (1, \"John Doe\", 30, 50000),\n",
    "    (2, \"Jane Smith\", None, 60000),\n",
    "    (3, None, 35, 55000),\n",
    "    (4, \"Mike Johnson\", 40, None)\n",
    "]\n",
    "\n",
    "employee_df = spark.createDataFrame(employee_data, schema)\n",
    "\n",
    "employee_df.show()"
   ]
  },
  {
   "cell_type": "markdown",
   "metadata": {
    "application/vnd.databricks.v1+cell": {
     "cellMetadata": {},
     "inputWidgets": {},
     "nuid": "efea7466-e582-4efe-945d-f500d18bd481",
     "showTitle": false,
     "title": ""
    }
   },
   "source": [
    "### filter 'not null' values"
   ]
  },
  {
   "cell_type": "code",
   "execution_count": 0,
   "metadata": {
    "application/vnd.databricks.v1+cell": {
     "cellMetadata": {
      "byteLimit": 2048000,
      "rowLimit": 10000
     },
     "inputWidgets": {},
     "nuid": "8890c585-be5a-445c-a4ea-04ce7ae4fae7",
     "showTitle": false,
     "title": ""
    }
   },
   "outputs": [
    {
     "output_type": "stream",
     "name": "stdout",
     "output_type": "stream",
     "text": [
      "+---+------------+---+------+\n| id|        name|age|salary|\n+---+------------+---+------+\n|  1|    John Doe| 30| 50000|\n|  3|        NULL| 35| 55000|\n|  4|Mike Johnson| 40|  NULL|\n+---+------------+---+------+\n\n"
     ]
    }
   ],
   "source": [
    "from pyspark.sql.functions import col\n",
    "employee_df.filter(col('age').isNotNull()).show()"
   ]
  },
  {
   "cell_type": "markdown",
   "metadata": {
    "application/vnd.databricks.v1+cell": {
     "cellMetadata": {},
     "inputWidgets": {},
     "nuid": "12a6bf76-c47f-4a94-8d4f-12aa7d1cabab",
     "showTitle": false,
     "title": ""
    }
   },
   "source": [
    "### filter 'null' values"
   ]
  },
  {
   "cell_type": "code",
   "execution_count": 0,
   "metadata": {
    "application/vnd.databricks.v1+cell": {
     "cellMetadata": {
      "byteLimit": 2048000,
      "rowLimit": 10000
     },
     "inputWidgets": {},
     "nuid": "38b991eb-478f-4c34-8d55-4077b0f97949",
     "showTitle": false,
     "title": ""
    }
   },
   "outputs": [
    {
     "output_type": "stream",
     "name": "stdout",
     "output_type": "stream",
     "text": [
      "+---+----------+----+------+\n| id|      name| age|salary|\n+---+----------+----+------+\n|  2|Jane Smith|NULL| 60000|\n+---+----------+----+------+\n\n"
     ]
    }
   ],
   "source": [
    "employee_df.filter(col('age').isNull()).show()"
   ]
  },
  {
   "cell_type": "markdown",
   "metadata": {
    "application/vnd.databricks.v1+cell": {
     "cellMetadata": {},
     "inputWidgets": {},
     "nuid": "3b7bb8cf-bfb5-4be4-98de-8e481eef087f",
     "showTitle": false,
     "title": ""
    }
   },
   "source": [
    "### using SQL style syntax"
   ]
  },
  {
   "cell_type": "code",
   "execution_count": 0,
   "metadata": {
    "application/vnd.databricks.v1+cell": {
     "cellMetadata": {
      "byteLimit": 2048000,
      "rowLimit": 10000
     },
     "inputWidgets": {},
     "nuid": "8c97bfaa-ccdf-49e3-ae04-2a2e9e36f9cf",
     "showTitle": false,
     "title": ""
    }
   },
   "outputs": [
    {
     "output_type": "stream",
     "name": "stdout",
     "output_type": "stream",
     "text": [
      "+---+------------+---+------+\n| id|        name|age|salary|\n+---+------------+---+------+\n|  1|    John Doe| 30| 50000|\n|  3|        NULL| 35| 55000|\n|  4|Mike Johnson| 40|  NULL|\n+---+------------+---+------+\n\n"
     ]
    }
   ],
   "source": [
    "employee_df.filter(\"age IS NOT NULL\").show()"
   ]
  },
  {
   "cell_type": "markdown",
   "metadata": {
    "application/vnd.databricks.v1+cell": {
     "cellMetadata": {},
     "inputWidgets": {},
     "nuid": "90cc2213-44e9-4bae-aea0-86094647d718",
     "showTitle": false,
     "title": ""
    }
   },
   "source": [
    "### can combine conditions with boolean oprators"
   ]
  },
  {
   "cell_type": "code",
   "execution_count": 0,
   "metadata": {
    "application/vnd.databricks.v1+cell": {
     "cellMetadata": {
      "byteLimit": 2048000,
      "rowLimit": 10000
     },
     "inputWidgets": {},
     "nuid": "0b01921c-4d3a-4a24-8bdd-26f69b200a80",
     "showTitle": false,
     "title": ""
    }
   },
   "outputs": [
    {
     "output_type": "stream",
     "name": "stdout",
     "output_type": "stream",
     "text": [
      "+---+------------+----+------+\n| id|        name| age|salary|\n+---+------------+----+------+\n|  2|  Jane Smith|NULL| 60000|\n|  4|Mike Johnson|  40|  NULL|\n+---+------------+----+------+\n\n"
     ]
    }
   ],
   "source": [
    "employee_df.filter((col('age').isNull()) | (col('salary').isNull())).show()"
   ]
  }
 ],
 "metadata": {
  "application/vnd.databricks.v1+notebook": {
   "dashboards": [],
   "environmentMetadata": null,
   "language": "python",
   "notebookMetadata": {
    "pythonIndentUnit": 4
   },
   "notebookName": "27_dealing_with_null",
   "widgets": {}
  }
 },
 "nbformat": 4,
 "nbformat_minor": 0
}

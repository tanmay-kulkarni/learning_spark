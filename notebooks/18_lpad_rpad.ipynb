{
 "cells": [
  {
   "cell_type": "code",
   "execution_count": 0,
   "metadata": {
    "application/vnd.databricks.v1+cell": {
     "cellMetadata": {
      "byteLimit": 2048000,
      "rowLimit": 10000
     },
     "inputWidgets": {},
     "nuid": "817a86de-7ccf-4707-9be5-28090ba29ab0",
     "showTitle": false,
     "title": ""
    }
   },
   "outputs": [],
   "source": [
    "%run \"./07_create_a_df\""
   ]
  },
  {
   "cell_type": "code",
   "execution_count": 0,
   "metadata": {
    "application/vnd.databricks.v1+cell": {
     "cellMetadata": {
      "byteLimit": 2048000,
      "rowLimit": 10000
     },
     "inputWidgets": {},
     "nuid": "9ef38197-1173-4dc2-9fba-2e82fb7b264d",
     "showTitle": false,
     "title": ""
    }
   },
   "outputs": [
    {
     "output_type": "stream",
     "name": "stdout",
     "output_type": "stream",
     "text": [
      "+---------------------------+------------------------------+------------------------------+\n|email                      |left_padded                   |right_padded                  |\n+---------------------------+------------------------------+------------------------------+\n|john.doe@example.com       |----------john.doe@example.com|john.doe@example.com----------|\n|jane.smith@example.com     |--------jane.smith@example.com|jane.smith@example.com--------|\n|alice.johnson@example.com  |-----alice.johnson@example.com|alice.johnson@example.com-----|\n|robert.brown@example.com   |------robert.brown@example.com|robert.brown@example.com------|\n|emily.lee@example.com      |---------emily.lee@example.com|emily.lee@example.com---------|\n|michael.johnson@example.com|---michael.johnson@example.com|michael.johnson@example.com---|\n|sarah.davis@example.com    |-------sarah.davis@example.com|sarah.davis@example.com-------|\n|jessica.wilson@example.com |----jessica.wilson@example.com|jessica.wilson@example.com----|\n|david.anderson@example.com |----david.anderson@example.com|david.anderson@example.com----|\n|jennifer.taylor@example.com|---jennifer.taylor@example.com|jennifer.taylor@example.com---|\n+---------------------------+------------------------------+------------------------------+\n\n"
     ]
    }
   ],
   "source": [
    "from pyspark.sql.functions import lpad, rpad\n",
    "\n",
    "df.select(\n",
    "    \"email\",\n",
    "    lpad(\"email\", 30, \"-\").alias(\"left_padded\"),\n",
    "    rpad(\"email\", 30, \"-\").alias(\"right_padded\"),\n",
    ").show(truncate=False)"
   ]
  }
 ],
 "metadata": {
  "application/vnd.databricks.v1+notebook": {
   "dashboards": [],
   "environmentMetadata": null,
   "language": "python",
   "notebookMetadata": {
    "pythonIndentUnit": 4
   },
   "notebookName": "18_lpad_rpad",
   "widgets": {}
  }
 },
 "nbformat": 4,
 "nbformat_minor": 0
}

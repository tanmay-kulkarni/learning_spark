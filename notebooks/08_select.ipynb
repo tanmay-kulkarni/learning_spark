{
 "cells": [
  {
   "cell_type": "markdown",
   "metadata": {
    "application/vnd.databricks.v1+cell": {
     "cellMetadata": {},
     "inputWidgets": {},
     "nuid": "8119cdd0-4f62-4e78-8383-7e783eb70c38",
     "showTitle": false,
     "title": ""
    }
   },
   "source": [
    "### Create a df from notebook: 07_create_a_df"
   ]
  },
  {
   "cell_type": "code",
   "execution_count": 0,
   "metadata": {
    "application/vnd.databricks.v1+cell": {
     "cellMetadata": {
      "byteLimit": 2048000,
      "rowLimit": 10000
     },
     "inputWidgets": {},
     "nuid": "919896a6-4dd5-4fd3-90c6-d23cceb4d41a",
     "showTitle": false,
     "title": ""
    }
   },
   "outputs": [],
   "source": [
    "%run \"./07_create_a_df\""
   ]
  },
  {
   "cell_type": "code",
   "execution_count": 0,
   "metadata": {
    "application/vnd.databricks.v1+cell": {
     "cellMetadata": {
      "byteLimit": 2048000,
      "rowLimit": 10000
     },
     "inputWidgets": {},
     "nuid": "9117abc6-0f14-469d-8382-099839cead6c",
     "showTitle": false,
     "title": ""
    }
   },
   "outputs": [
    {
     "output_type": "execute_result",
     "data": {
      "text/plain": [
       "[('id', 'bigint'),\n",
       " ('first_name', 'string'),\n",
       " ('last_name', 'string'),\n",
       " ('email', 'string'),\n",
       " ('phone_numbers', 'struct<mobile:bigint,home:bigint>'),\n",
       " ('courses', 'array<string>'),\n",
       " ('is_customer', 'boolean'),\n",
       " ('amount_paid', 'double'),\n",
       " ('customer_from', 'date'),\n",
       " ('last_updated_ts', 'timestamp')]"
      ]
     },
     "execution_count": 13,
     "metadata": {},
     "output_type": "execute_result"
    },
    {
     "output_type": "execute_result",
     "data": {
      "text/plain": [
       "[('id', 'bigint'),\n",
       " ('first_name', 'string'),\n",
       " ('last_name', 'string'),\n",
       " ('email', 'string'),\n",
       " ('phone_numbers', 'struct<mobile:bigint,home:bigint>'),\n",
       " ('courses', 'array<string>'),\n",
       " ('is_customer', 'boolean'),\n",
       " ('amount_paid', 'double'),\n",
       " ('customer_from', 'date'),\n",
       " ('last_updated_ts', 'timestamp')]"
      ]
     },
     "execution_count": 9,
     "metadata": {},
     "output_type": "execute_result"
    },
    {
     "output_type": "stream",
     "name": "stdout",
     "output_type": "stream",
     "text": [
      "+---+----------+---------+---------------------------+------------------------+------------------------------------------------+-----------+-----------+-------------+-------------------+\n|id |first_name|last_name|email                      |phone_numbers           |courses                                         |is_customer|amount_paid|customer_from|last_updated_ts    |\n+---+----------+---------+---------------------------+------------------------+------------------------------------------------+-----------+-----------+-------------+-------------------+\n|1  |John      |Doe      |john.doe@example.com       |{1234567890, 9876543210}|[Math, Science, History]                        |true       |100.5      |2022-05-15   |2024-05-18 11:28:25|\n|2  |Jane      |Smith    |jane.smith@example.com     |{9876543210, 1234567890}|[English, Art, Music]                           |false      |0.0        |2023-02-10   |2024-05-18 11:28:25|\n|3  |Alice     |Johnson  |alice.johnson@example.com  |{5555555555, 4444444444}|[Physics, Chemistry, Biology]                   |true       |75.2       |2021-08-20   |2024-05-18 11:28:25|\n|4  |Robert    |Brown    |robert.brown@example.com   |{7777777777, 8888888888}|[Computer Science, Programming, Data Structures]|true       |50.0       |2023-01-05   |2024-05-18 11:28:25|\n|5  |Emily     |Lee      |emily.lee@example.com      |{9999999999, 1111111111}|[Literature, Writing, Poetry]                   |true       |30.75      |2023-04-12   |2024-05-18 11:28:25|\n|6  |Michael   |Johnson  |michael.johnson@example.com|{5555555555, 4444444444}|[Physics, Chemistry, Biology]                   |true       |75.2       |2021-08-20   |2024-05-18 11:28:25|\n|7  |Sarah     |Davis    |sarah.davis@example.com    |{7777777777, 8888888888}|[Computer Science, Programming, Data Structures]|true       |50.0       |2023-01-05   |2024-05-18 11:28:25|\n|8  |Jessica   |Wilson   |jessica.wilson@example.com |{9999999999, 1111111111}|[Literature, Writing, Poetry]                   |true       |30.75      |2023-04-12   |2024-05-18 11:28:25|\n|9  |David     |Anderson |david.anderson@example.com |{5555555555, 4444444444}|[Physics, Chemistry, Biology]                   |true       |75.2       |2021-08-20   |2024-05-18 11:28:25|\n|10 |Jennifer  |Taylor   |jennifer.taylor@example.com|{7777777777, 8888888888}|[Computer Science, Programming, Data Structures]|true       |50.0       |2023-01-05   |2024-05-18 11:28:25|\n+---+----------+---------+---------------------------+------------------------+------------------------------------------------+-----------+-----------+-------------+-------------------+\n\n"
     ]
    }
   ],
   "source": [
    "df.dtypes"
   ]
  },
  {
   "cell_type": "code",
   "execution_count": 0,
   "metadata": {
    "application/vnd.databricks.v1+cell": {
     "cellMetadata": {
      "byteLimit": 2048000,
      "rowLimit": 10000
     },
     "inputWidgets": {},
     "nuid": "223b6a72-dc7d-44aa-9aed-48e40aeba260",
     "showTitle": false,
     "title": ""
    }
   },
   "outputs": [
    {
     "output_type": "stream",
     "name": "stdout",
     "output_type": "stream",
     "text": [
      "+---+----------+---------+---------------------------+------------------------+------------------------------------------------+-----------+-----------+-------------+-------------------+\n|id |first_name|last_name|email                      |phone_numbers           |courses                                         |is_customer|amount_paid|customer_from|last_updated_ts    |\n+---+----------+---------+---------------------------+------------------------+------------------------------------------------+-----------+-----------+-------------+-------------------+\n|1  |John      |Doe      |john.doe@example.com       |{1234567890, 9876543210}|[Math, Science, History]                        |true       |100.5      |2022-05-15   |2024-05-18 11:28:25|\n|2  |Jane      |Smith    |jane.smith@example.com     |{9876543210, 1234567890}|[English, Art, Music]                           |false      |0.0        |2023-02-10   |2024-05-18 11:28:25|\n|3  |Alice     |Johnson  |alice.johnson@example.com  |{5555555555, 4444444444}|[Physics, Chemistry, Biology]                   |true       |75.2       |2021-08-20   |2024-05-18 11:28:25|\n|4  |Robert    |Brown    |robert.brown@example.com   |{7777777777, 8888888888}|[Computer Science, Programming, Data Structures]|true       |50.0       |2023-01-05   |2024-05-18 11:28:25|\n|5  |Emily     |Lee      |emily.lee@example.com      |{9999999999, 1111111111}|[Literature, Writing, Poetry]                   |true       |30.75      |2023-04-12   |2024-05-18 11:28:25|\n|6  |Michael   |Johnson  |michael.johnson@example.com|{5555555555, 4444444444}|[Physics, Chemistry, Biology]                   |true       |75.2       |2021-08-20   |2024-05-18 11:28:25|\n|7  |Sarah     |Davis    |sarah.davis@example.com    |{7777777777, 8888888888}|[Computer Science, Programming, Data Structures]|true       |50.0       |2023-01-05   |2024-05-18 11:28:25|\n|8  |Jessica   |Wilson   |jessica.wilson@example.com |{9999999999, 1111111111}|[Literature, Writing, Poetry]                   |true       |30.75      |2023-04-12   |2024-05-18 11:28:25|\n|9  |David     |Anderson |david.anderson@example.com |{5555555555, 4444444444}|[Physics, Chemistry, Biology]                   |true       |75.2       |2021-08-20   |2024-05-18 11:28:25|\n|10 |Jennifer  |Taylor   |jennifer.taylor@example.com|{7777777777, 8888888888}|[Computer Science, Programming, Data Structures]|true       |50.0       |2023-01-05   |2024-05-18 11:28:25|\n+---+----------+---------+---------------------------+------------------------+------------------------------------------------+-----------+-----------+-------------+-------------------+\n\n"
     ]
    }
   ],
   "source": [
    "df.select('*').show(truncate=False)"
   ]
  },
  {
   "cell_type": "code",
   "execution_count": 0,
   "metadata": {
    "application/vnd.databricks.v1+cell": {
     "cellMetadata": {
      "byteLimit": 2048000,
      "rowLimit": 10000
     },
     "inputWidgets": {},
     "nuid": "70c1e0be-981d-4e49-812e-aae3a90863fd",
     "showTitle": false,
     "title": ""
    }
   },
   "outputs": [
    {
     "output_type": "execute_result",
     "data": {
      "text/plain": [
       "['id',\n",
       " 'first_name',\n",
       " 'last_name',\n",
       " 'email',\n",
       " 'phone_numbers',\n",
       " 'courses',\n",
       " 'is_customer',\n",
       " 'amount_paid',\n",
       " 'customer_from',\n",
       " 'last_updated_ts']"
      ]
     },
     "execution_count": 14,
     "metadata": {},
     "output_type": "execute_result"
    }
   ],
   "source": [
    "df.columns"
   ]
  },
  {
   "cell_type": "code",
   "execution_count": 0,
   "metadata": {
    "application/vnd.databricks.v1+cell": {
     "cellMetadata": {
      "byteLimit": 2048000,
      "rowLimit": 10000
     },
     "inputWidgets": {},
     "nuid": "602e8e30-71f8-4c4e-b5be-a6c9b7c1c830",
     "showTitle": false,
     "title": ""
    }
   },
   "outputs": [
    {
     "output_type": "stream",
     "name": "stdout",
     "output_type": "stream",
     "text": [
      "+---+--------------------+-----------+\n| id|               email|is_customer|\n+---+--------------------+-----------+\n|  1|john.doe@example.com|       true|\n|  2|jane.smith@exampl...|      false|\n|  3|alice.johnson@exa...|       true|\n|  4|robert.brown@exam...|       true|\n|  5|emily.lee@example...|       true|\n|  6|michael.johnson@e...|       true|\n|  7|sarah.davis@examp...|       true|\n|  8|jessica.wilson@ex...|       true|\n|  9|david.anderson@ex...|       true|\n| 10|jennifer.taylor@e...|       true|\n+---+--------------------+-----------+\n\n"
     ]
    }
   ],
   "source": [
    "df.select('id', 'email', 'is_customer').show()"
   ]
  },
  {
   "cell_type": "code",
   "execution_count": 0,
   "metadata": {
    "application/vnd.databricks.v1+cell": {
     "cellMetadata": {
      "byteLimit": 2048000,
      "rowLimit": 10000
     },
     "inputWidgets": {},
     "nuid": "7250dab6-08a9-4b83-84d3-0e7e22323226",
     "showTitle": false,
     "title": ""
    }
   },
   "outputs": [
    {
     "output_type": "stream",
     "name": "stdout",
     "output_type": "stream",
     "text": [
      "+---+--------------------+-----------+\n| id|               email|is_customer|\n+---+--------------------+-----------+\n|  1|john.doe@example.com|       true|\n|  2|jane.smith@exampl...|      false|\n|  3|alice.johnson@exa...|       true|\n|  4|robert.brown@exam...|       true|\n|  5|emily.lee@example...|       true|\n|  6|michael.johnson@e...|       true|\n|  7|sarah.davis@examp...|       true|\n|  8|jessica.wilson@ex...|       true|\n|  9|david.anderson@ex...|       true|\n| 10|jennifer.taylor@e...|       true|\n+---+--------------------+-----------+\n\n"
     ]
    }
   ],
   "source": [
    "cols_to_select = ['id', 'email', 'is_customer']\n",
    "df.select(cols_to_select).show()"
   ]
  },
  {
   "cell_type": "markdown",
   "metadata": {
    "application/vnd.databricks.v1+cell": {
     "cellMetadata": {},
     "inputWidgets": {},
     "nuid": "bf69b58a-bacb-44fc-b728-3a75d6afe78d",
     "showTitle": false,
     "title": ""
    }
   },
   "source": [
    "### alias a dataframe"
   ]
  },
  {
   "cell_type": "code",
   "execution_count": 0,
   "metadata": {
    "application/vnd.databricks.v1+cell": {
     "cellMetadata": {
      "byteLimit": 2048000,
      "rowLimit": 10000
     },
     "inputWidgets": {},
     "nuid": "b94bd3f2-9ed1-4b61-a435-2a2a240fa68a",
     "showTitle": false,
     "title": ""
    }
   },
   "outputs": [
    {
     "output_type": "stream",
     "name": "stdout",
     "output_type": "stream",
     "text": [
      "+----------+---------+\n|first_name|last_name|\n+----------+---------+\n|      John|      Doe|\n|      Jane|    Smith|\n|     Alice|  Johnson|\n|    Robert|    Brown|\n|     Emily|      Lee|\n|   Michael|  Johnson|\n|     Sarah|    Davis|\n|   Jessica|   Wilson|\n|     David| Anderson|\n|  Jennifer|   Taylor|\n+----------+---------+\n\n"
     ]
    }
   ],
   "source": [
    "df.alias('u').select('u.first_name', 'u.last_name').show()"
   ]
  },
  {
   "cell_type": "markdown",
   "metadata": {
    "application/vnd.databricks.v1+cell": {
     "cellMetadata": {},
     "inputWidgets": {},
     "nuid": "58da8a0e-8285-4766-af61-7a8eafbb4a3a",
     "showTitle": false,
     "title": ""
    }
   },
   "source": [
    "\n",
    "### you can use a combination of col and just names in the select operation"
   ]
  },
  {
   "cell_type": "code",
   "execution_count": 0,
   "metadata": {
    "application/vnd.databricks.v1+cell": {
     "cellMetadata": {
      "byteLimit": 2048000,
      "rowLimit": 10000
     },
     "inputWidgets": {},
     "nuid": "c33e1d12-e16c-4fc0-8b64-e5affabf9788",
     "showTitle": false,
     "title": ""
    }
   },
   "outputs": [
    {
     "output_type": "stream",
     "name": "stdout",
     "output_type": "stream",
     "text": [
      "+---+----------+---------+\n| id|first_name|last_name|\n+---+----------+---------+\n|  1|      John|      Doe|\n|  2|      Jane|    Smith|\n|  3|     Alice|  Johnson|\n|  4|    Robert|    Brown|\n|  5|     Emily|      Lee|\n|  6|   Michael|  Johnson|\n|  7|     Sarah|    Davis|\n|  8|   Jessica|   Wilson|\n|  9|     David| Anderson|\n| 10|  Jennifer|   Taylor|\n+---+----------+---------+\n\n"
     ]
    }
   ],
   "source": [
    "from pyspark.sql.functions import col\n",
    "\n",
    "df.select(col('id'), 'first_name', 'last_name').show()"
   ]
  },
  {
   "cell_type": "markdown",
   "metadata": {
    "application/vnd.databricks.v1+cell": {
     "cellMetadata": {},
     "inputWidgets": {},
     "nuid": "47927ae1-2cda-4ba2-ad27-f30798aa5b8e",
     "showTitle": false,
     "title": ""
    }
   },
   "source": [
    "### using functions in 'select'"
   ]
  },
  {
   "cell_type": "code",
   "execution_count": 0,
   "metadata": {
    "application/vnd.databricks.v1+cell": {
     "cellMetadata": {
      "byteLimit": 2048000,
      "rowLimit": 10000
     },
     "inputWidgets": {},
     "nuid": "fc27c42a-617a-414d-8f01-d10ee82394e1",
     "showTitle": false,
     "title": ""
    }
   },
   "outputs": [
    {
     "output_type": "stream",
     "name": "stdout",
     "output_type": "stream",
     "text": [
      "+---+-----------+----------------+\n| id|is_customer|       full_name|\n+---+-----------+----------------+\n|  1|       true|       Doe, John|\n|  2|      false|     Smith, Jane|\n|  3|       true|  Johnson, Alice|\n|  4|       true|   Brown, Robert|\n|  5|       true|      Lee, Emily|\n|  6|       true|Johnson, Michael|\n|  7|       true|    Davis, Sarah|\n|  8|       true| Wilson, Jessica|\n|  9|       true| Anderson, David|\n| 10|       true|Taylor, Jennifer|\n+---+-----------+----------------+\n\n"
     ]
    }
   ],
   "source": [
    "from pyspark.sql.functions import col, lit, concat\n",
    "\n",
    "df.select('id', col('is_customer'), concat('last_name', lit(', '), col('first_name')).alias('full_name')).show()"
   ]
  }
 ],
 "metadata": {
  "application/vnd.databricks.v1+notebook": {
   "dashboards": [],
   "environmentMetadata": null,
   "language": "python",
   "notebookMetadata": {
    "pythonIndentUnit": 4
   },
   "notebookName": "08_select",
   "widgets": {}
  }
 },
 "nbformat": 4,
 "nbformat_minor": 0
}

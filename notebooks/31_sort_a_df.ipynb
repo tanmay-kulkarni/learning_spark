{
 "cells": [
  {
   "cell_type": "code",
   "execution_count": 0,
   "metadata": {
    "application/vnd.databricks.v1+cell": {
     "cellMetadata": {
      "byteLimit": 2048000,
      "rowLimit": 10000
     },
     "inputWidgets": {},
     "nuid": "6bdd9229-ab49-4e78-b213-8e98bf221764",
     "showTitle": false,
     "title": ""
    }
   },
   "outputs": [],
   "source": [
    "# This is a common way of asigning an alias so you can use whichever function you need\n",
    "import pyspark.sql.functions as F"
   ]
  },
  {
   "cell_type": "code",
   "execution_count": 0,
   "metadata": {
    "application/vnd.databricks.v1+cell": {
     "cellMetadata": {
      "byteLimit": 2048000,
      "rowLimit": 10000
     },
     "inputWidgets": {},
     "nuid": "f5050ea4-67f0-4640-9b3a-1655dfa36b3e",
     "showTitle": false,
     "title": ""
    }
   },
   "outputs": [],
   "source": [
    "%run \"./07_create_a_df\""
   ]
  },
  {
   "cell_type": "code",
   "execution_count": 0,
   "metadata": {
    "application/vnd.databricks.v1+cell": {
     "cellMetadata": {
      "byteLimit": 2048000,
      "rowLimit": 10000
     },
     "inputWidgets": {},
     "nuid": "b50994e5-1762-494a-954a-e939236b38fb",
     "showTitle": false,
     "title": ""
    }
   },
   "outputs": [
    {
     "output_type": "stream",
     "name": "stdout",
     "output_type": "stream",
     "text": [
      "+---+----------+---------+--------------------+--------------------+--------------------+-----------+-----------+-------------+-------------------+\n| id|first_name|last_name|               email|       phone_numbers|             courses|is_customer|amount_paid|customer_from|    last_updated_ts|\n+---+----------+---------+--------------------+--------------------+--------------------+-----------+-----------+-------------+-------------------+\n|  1|      John|      Doe|john.doe@example.com|{1234567890, 9876...|[Math, Science, H...|       true|      100.5|   2022-05-15|2024-05-18 11:28:25|\n|  2|      Jane|    Smith|jane.smith@exampl...|{9876543210, 1234...|[English, Art, Mu...|      false|        0.0|   2023-02-10|2024-05-18 11:28:25|\n|  3|     Alice|  Johnson|alice.johnson@exa...|{5555555555, 4444...|[Physics, Chemist...|       true|       75.2|   2021-08-20|2024-05-18 11:28:25|\n|  4|    Robert|    Brown|robert.brown@exam...|{7777777777, 8888...|[Computer Science...|       true|       50.0|   2023-01-05|2024-05-18 11:28:25|\n|  5|     Emily|      Lee|emily.lee@example...|{9999999999, 1111...|[Literature, Writ...|       true|      30.75|   2023-04-12|2024-05-18 11:28:25|\n|  6|   Michael|  Johnson|michael.johnson@e...|{5555555555, 4444...|[Physics, Chemist...|       true|       75.2|   2021-08-20|2024-05-18 11:28:25|\n|  7|     Sarah|    Davis|sarah.davis@examp...|{7777777777, 8888...|[Computer Science...|       true|       50.0|   2023-01-05|2024-05-18 11:28:25|\n|  8|   Jessica|   Wilson|jessica.wilson@ex...|{9999999999, 1111...|[Literature, Writ...|       true|      30.75|   2023-04-12|2024-05-18 11:28:25|\n|  9|     David| Anderson|david.anderson@ex...|{5555555555, 4444...|[Physics, Chemist...|       true|       75.2|   2021-08-20|2024-05-18 11:28:25|\n| 10|  Jennifer|   Taylor|jennifer.taylor@e...|{7777777777, 8888...|[Computer Science...|       true|       50.0|   2023-01-05|2024-05-18 11:28:25|\n+---+----------+---------+--------------------+--------------------+--------------------+-----------+-----------+-------------+-------------------+\n\n"
     ]
    }
   ],
   "source": [
    "df.show()"
   ]
  },
  {
   "cell_type": "markdown",
   "metadata": {
    "application/vnd.databricks.v1+cell": {
     "cellMetadata": {},
     "inputWidgets": {},
     "nuid": "60d5ee22-2bb1-4eb3-a676-cd5f6997190c",
     "showTitle": false,
     "title": ""
    }
   },
   "source": [
    "### Method 1"
   ]
  },
  {
   "cell_type": "code",
   "execution_count": 0,
   "metadata": {
    "application/vnd.databricks.v1+cell": {
     "cellMetadata": {
      "byteLimit": 2048000,
      "rowLimit": 10000
     },
     "inputWidgets": {},
     "nuid": "a428513f-4d2b-4afb-aaa4-394e1d330471",
     "showTitle": false,
     "title": ""
    }
   },
   "outputs": [
    {
     "output_type": "stream",
     "name": "stdout",
     "output_type": "stream",
     "text": [
      "+---+----------+---------+--------------------+--------------------+--------------------+-----------+-----------+-------------+-------------------+\n| id|first_name|last_name|               email|       phone_numbers|             courses|is_customer|amount_paid|customer_from|    last_updated_ts|\n+---+----------+---------+--------------------+--------------------+--------------------+-----------+-----------+-------------+-------------------+\n|  3|     Alice|  Johnson|alice.johnson@exa...|{5555555555, 4444...|[Physics, Chemist...|       true|       75.2|   2021-08-20|2024-05-18 11:28:25|\n|  9|     David| Anderson|david.anderson@ex...|{5555555555, 4444...|[Physics, Chemist...|       true|       75.2|   2021-08-20|2024-05-18 11:28:25|\n|  5|     Emily|      Lee|emily.lee@example...|{9999999999, 1111...|[Literature, Writ...|       true|      30.75|   2023-04-12|2024-05-18 11:28:25|\n|  2|      Jane|    Smith|jane.smith@exampl...|{9876543210, 1234...|[English, Art, Mu...|      false|        0.0|   2023-02-10|2024-05-18 11:28:25|\n| 10|  Jennifer|   Taylor|jennifer.taylor@e...|{7777777777, 8888...|[Computer Science...|       true|       50.0|   2023-01-05|2024-05-18 11:28:25|\n|  8|   Jessica|   Wilson|jessica.wilson@ex...|{9999999999, 1111...|[Literature, Writ...|       true|      30.75|   2023-04-12|2024-05-18 11:28:25|\n|  1|      John|      Doe|john.doe@example.com|{1234567890, 9876...|[Math, Science, H...|       true|      100.5|   2022-05-15|2024-05-18 11:28:25|\n|  6|   Michael|  Johnson|michael.johnson@e...|{5555555555, 4444...|[Physics, Chemist...|       true|       75.2|   2021-08-20|2024-05-18 11:28:25|\n|  4|    Robert|    Brown|robert.brown@exam...|{7777777777, 8888...|[Computer Science...|       true|       50.0|   2023-01-05|2024-05-18 11:28:25|\n|  7|     Sarah|    Davis|sarah.davis@examp...|{7777777777, 8888...|[Computer Science...|       true|       50.0|   2023-01-05|2024-05-18 11:28:25|\n+---+----------+---------+--------------------+--------------------+--------------------+-----------+-----------+-------------+-------------------+\n\n"
     ]
    }
   ],
   "source": [
    "df.sort(F.col(\"first_name\").asc()).show()"
   ]
  },
  {
   "cell_type": "markdown",
   "metadata": {
    "application/vnd.databricks.v1+cell": {
     "cellMetadata": {},
     "inputWidgets": {},
     "nuid": "4c295a61-6290-4654-a2e7-ab087b6fb18f",
     "showTitle": false,
     "title": ""
    }
   },
   "source": [
    "### Method 2"
   ]
  },
  {
   "cell_type": "code",
   "execution_count": 0,
   "metadata": {
    "application/vnd.databricks.v1+cell": {
     "cellMetadata": {
      "byteLimit": 2048000,
      "rowLimit": 10000
     },
     "inputWidgets": {},
     "nuid": "63864fa7-0057-459e-8030-a2d1f23a339e",
     "showTitle": false,
     "title": ""
    }
   },
   "outputs": [
    {
     "output_type": "stream",
     "name": "stdout",
     "output_type": "stream",
     "text": [
      "+---+----------+---------+--------------------+--------------------+--------------------+-----------+-----------+-------------+-------------------+\n| id|first_name|last_name|               email|       phone_numbers|             courses|is_customer|amount_paid|customer_from|    last_updated_ts|\n+---+----------+---------+--------------------+--------------------+--------------------+-----------+-----------+-------------+-------------------+\n|  7|     Sarah|    Davis|sarah.davis@examp...|{7777777777, 8888...|[Computer Science...|       true|       50.0|   2023-01-05|2024-05-18 11:28:25|\n|  4|    Robert|    Brown|robert.brown@exam...|{7777777777, 8888...|[Computer Science...|       true|       50.0|   2023-01-05|2024-05-18 11:28:25|\n|  6|   Michael|  Johnson|michael.johnson@e...|{5555555555, 4444...|[Physics, Chemist...|       true|       75.2|   2021-08-20|2024-05-18 11:28:25|\n|  1|      John|      Doe|john.doe@example.com|{1234567890, 9876...|[Math, Science, H...|       true|      100.5|   2022-05-15|2024-05-18 11:28:25|\n|  8|   Jessica|   Wilson|jessica.wilson@ex...|{9999999999, 1111...|[Literature, Writ...|       true|      30.75|   2023-04-12|2024-05-18 11:28:25|\n| 10|  Jennifer|   Taylor|jennifer.taylor@e...|{7777777777, 8888...|[Computer Science...|       true|       50.0|   2023-01-05|2024-05-18 11:28:25|\n|  2|      Jane|    Smith|jane.smith@exampl...|{9876543210, 1234...|[English, Art, Mu...|      false|        0.0|   2023-02-10|2024-05-18 11:28:25|\n|  5|     Emily|      Lee|emily.lee@example...|{9999999999, 1111...|[Literature, Writ...|       true|      30.75|   2023-04-12|2024-05-18 11:28:25|\n|  9|     David| Anderson|david.anderson@ex...|{5555555555, 4444...|[Physics, Chemist...|       true|       75.2|   2021-08-20|2024-05-18 11:28:25|\n|  3|     Alice|  Johnson|alice.johnson@exa...|{5555555555, 4444...|[Physics, Chemist...|       true|       75.2|   2021-08-20|2024-05-18 11:28:25|\n+---+----------+---------+--------------------+--------------------+--------------------+-----------+-----------+-------------+-------------------+\n\n"
     ]
    }
   ],
   "source": [
    "df.sort([\"email\", \"first_name\"], ascending = [0,1]).show()"
   ]
  },
  {
   "cell_type": "markdown",
   "metadata": {
    "application/vnd.databricks.v1+cell": {
     "cellMetadata": {},
     "inputWidgets": {},
     "nuid": "cf17af83-707a-462e-b906-6868f4f82978",
     "showTitle": false,
     "title": ""
    }
   },
   "source": [
    "### Method 3"
   ]
  },
  {
   "cell_type": "code",
   "execution_count": 0,
   "metadata": {
    "application/vnd.databricks.v1+cell": {
     "cellMetadata": {
      "byteLimit": 2048000,
      "rowLimit": 10000
     },
     "inputWidgets": {},
     "nuid": "93d6833a-f467-49ed-9552-dd33feb5c9ab",
     "showTitle": false,
     "title": ""
    }
   },
   "outputs": [
    {
     "output_type": "stream",
     "name": "stdout",
     "output_type": "stream",
     "text": [
      "+---+----------+---------+--------------------+--------------------+--------------------+-----------+-----------+-------------+-------------------+\n| id|first_name|last_name|               email|       phone_numbers|             courses|is_customer|amount_paid|customer_from|    last_updated_ts|\n+---+----------+---------+--------------------+--------------------+--------------------+-----------+-----------+-------------+-------------------+\n|  1|      John|      Doe|john.doe@example.com|{1234567890, 9876...|[Math, Science, H...|       true|      100.5|   2022-05-15|2024-05-18 11:28:25|\n|  3|     Alice|  Johnson|alice.johnson@exa...|{5555555555, 4444...|[Physics, Chemist...|       true|       75.2|   2021-08-20|2024-05-18 11:28:25|\n|  9|     David| Anderson|david.anderson@ex...|{5555555555, 4444...|[Physics, Chemist...|       true|       75.2|   2021-08-20|2024-05-18 11:28:25|\n|  6|   Michael|  Johnson|michael.johnson@e...|{5555555555, 4444...|[Physics, Chemist...|       true|       75.2|   2021-08-20|2024-05-18 11:28:25|\n| 10|  Jennifer|   Taylor|jennifer.taylor@e...|{7777777777, 8888...|[Computer Science...|       true|       50.0|   2023-01-05|2024-05-18 11:28:25|\n|  4|    Robert|    Brown|robert.brown@exam...|{7777777777, 8888...|[Computer Science...|       true|       50.0|   2023-01-05|2024-05-18 11:28:25|\n|  7|     Sarah|    Davis|sarah.davis@examp...|{7777777777, 8888...|[Computer Science...|       true|       50.0|   2023-01-05|2024-05-18 11:28:25|\n|  5|     Emily|      Lee|emily.lee@example...|{9999999999, 1111...|[Literature, Writ...|       true|      30.75|   2023-04-12|2024-05-18 11:28:25|\n|  8|   Jessica|   Wilson|jessica.wilson@ex...|{9999999999, 1111...|[Literature, Writ...|       true|      30.75|   2023-04-12|2024-05-18 11:28:25|\n|  2|      Jane|    Smith|jane.smith@exampl...|{9876543210, 1234...|[English, Art, Mu...|      false|        0.0|   2023-02-10|2024-05-18 11:28:25|\n+---+----------+---------+--------------------+--------------------+--------------------+-----------+-----------+-------------+-------------------+\n\n"
     ]
    }
   ],
   "source": [
    "df.sort(F.desc(F.col('amount_paid')), F.asc(F.col('first_name'))).show()"
   ]
  },
  {
   "cell_type": "markdown",
   "metadata": {
    "application/vnd.databricks.v1+cell": {
     "cellMetadata": {},
     "inputWidgets": {},
     "nuid": "4167deb2-06bc-4d49-b031-58afdfd6a61c",
     "showTitle": false,
     "title": ""
    }
   },
   "source": [
    "### orderBy = sort"
   ]
  },
  {
   "cell_type": "code",
   "execution_count": 0,
   "metadata": {
    "application/vnd.databricks.v1+cell": {
     "cellMetadata": {
      "byteLimit": 2048000,
      "rowLimit": 10000
     },
     "inputWidgets": {},
     "nuid": "ad913c8a-fdbc-44f3-8755-f85858a8db9e",
     "showTitle": false,
     "title": ""
    }
   },
   "outputs": [
    {
     "output_type": "stream",
     "name": "stdout",
     "output_type": "stream",
     "text": [
      "+---+----------+---------+---------------------------+------------------------+------------------------------------------------+-----------+-----------+-------------+-------------------+\n|id |first_name|last_name|email                      |phone_numbers           |courses                                         |is_customer|amount_paid|customer_from|last_updated_ts    |\n+---+----------+---------+---------------------------+------------------------+------------------------------------------------+-----------+-----------+-------------+-------------------+\n|1  |John      |Doe      |john.doe@example.com       |{1234567890, 9876543210}|[Math, Science, History]                        |true       |100.5      |2022-05-15   |2024-05-18 11:28:25|\n|3  |Alice     |Johnson  |alice.johnson@example.com  |{5555555555, 4444444444}|[Physics, Chemistry, Biology]                   |true       |75.2       |2021-08-20   |2024-05-18 11:28:25|\n|9  |David     |Anderson |david.anderson@example.com |{5555555555, 4444444444}|[Physics, Chemistry, Biology]                   |true       |75.2       |2021-08-20   |2024-05-18 11:28:25|\n|6  |Michael   |Johnson  |michael.johnson@example.com|{5555555555, 4444444444}|[Physics, Chemistry, Biology]                   |true       |75.2       |2021-08-20   |2024-05-18 11:28:25|\n|10 |Jennifer  |Taylor   |jennifer.taylor@example.com|{7777777777, 8888888888}|[Computer Science, Programming, Data Structures]|true       |50.0       |2023-01-05   |2024-05-18 11:28:25|\n|4  |Robert    |Brown    |robert.brown@example.com   |{7777777777, 8888888888}|[Computer Science, Programming, Data Structures]|true       |50.0       |2023-01-05   |2024-05-18 11:28:25|\n|7  |Sarah     |Davis    |sarah.davis@example.com    |{7777777777, 8888888888}|[Computer Science, Programming, Data Structures]|true       |50.0       |2023-01-05   |2024-05-18 11:28:25|\n|5  |Emily     |Lee      |emily.lee@example.com      |{9999999999, 1111111111}|[Literature, Writing, Poetry]                   |true       |30.75      |2023-04-12   |2024-05-18 11:28:25|\n|8  |Jessica   |Wilson   |jessica.wilson@example.com |{9999999999, 1111111111}|[Literature, Writing, Poetry]                   |true       |30.75      |2023-04-12   |2024-05-18 11:28:25|\n|2  |Jane      |Smith    |jane.smith@example.com     |{9876543210, 1234567890}|[English, Art, Music]                           |false      |0.0        |2023-02-10   |2024-05-18 11:28:25|\n+---+----------+---------+---------------------------+------------------------+------------------------------------------------+-----------+-----------+-------------+-------------------+\n\n"
     ]
    }
   ],
   "source": [
    "df.orderBy(F.desc('amount_paid'), F.asc('first_name')).show(truncate=0)"
   ]
  },
  {
   "cell_type": "markdown",
   "metadata": {
    "application/vnd.databricks.v1+cell": {
     "cellMetadata": {},
     "inputWidgets": {},
     "nuid": "9b1d6e6a-1e9c-4940-b9de-4ba8f04eaacb",
     "showTitle": false,
     "title": ""
    }
   },
   "source": [
    "### Sort by value size"
   ]
  },
  {
   "cell_type": "code",
   "execution_count": 0,
   "metadata": {
    "application/vnd.databricks.v1+cell": {
     "cellMetadata": {
      "byteLimit": 2048000,
      "rowLimit": 10000
     },
     "inputWidgets": {},
     "nuid": "86e4bfd1-2ffb-4a41-b4b4-71ef106e6ad2",
     "showTitle": false,
     "title": ""
    }
   },
   "outputs": [
    {
     "output_type": "stream",
     "name": "stdout",
     "output_type": "stream",
     "text": [
      "+---+----------+---------+---------------------------+------------------------+------------------------------------------------+-----------+-----------+-------------+-------------------+\n|id |first_name|last_name|email                      |phone_numbers           |courses                                         |is_customer|amount_paid|customer_from|last_updated_ts    |\n+---+----------+---------+---------------------------+------------------------+------------------------------------------------+-----------+-----------+-------------+-------------------+\n|5  |Emily     |Lee      |emily.lee@example.com      |{9999999999, 1111111111}|[Literature, Writing, Poetry]                   |true       |30.75      |2023-04-12   |2024-05-18 11:28:25|\n|1  |John      |Doe      |john.doe@example.com       |{1234567890, 9876543210}|[Math, Science, History]                        |true       |100.5      |2022-05-15   |2024-05-18 11:28:25|\n|3  |Alice     |Johnson  |alice.johnson@example.com  |{5555555555, 4444444444}|[Physics, Chemistry, Biology]                   |true       |75.2       |2021-08-20   |2024-05-18 11:28:25|\n|2  |Jane      |Smith    |jane.smith@example.com     |{9876543210, 1234567890}|[English, Art, Music]                           |false      |0.0        |2023-02-10   |2024-05-18 11:28:25|\n|7  |Sarah     |Davis    |sarah.davis@example.com    |{7777777777, 8888888888}|[Computer Science, Programming, Data Structures]|true       |50.0       |2023-01-05   |2024-05-18 11:28:25|\n|4  |Robert    |Brown    |robert.brown@example.com   |{7777777777, 8888888888}|[Computer Science, Programming, Data Structures]|true       |50.0       |2023-01-05   |2024-05-18 11:28:25|\n|6  |Michael   |Johnson  |michael.johnson@example.com|{5555555555, 4444444444}|[Physics, Chemistry, Biology]                   |true       |75.2       |2021-08-20   |2024-05-18 11:28:25|\n|8  |Jessica   |Wilson   |jessica.wilson@example.com |{9999999999, 1111111111}|[Literature, Writing, Poetry]                   |true       |30.75      |2023-04-12   |2024-05-18 11:28:25|\n|9  |David     |Anderson |david.anderson@example.com |{5555555555, 4444444444}|[Physics, Chemistry, Biology]                   |true       |75.2       |2021-08-20   |2024-05-18 11:28:25|\n|10 |Jennifer  |Taylor   |jennifer.taylor@example.com|{7777777777, 8888888888}|[Computer Science, Programming, Data Structures]|true       |50.0       |2023-01-05   |2024-05-18 11:28:25|\n+---+----------+---------+---------------------------+------------------------+------------------------------------------------+-----------+-----------+-------------+-------------------+\n\n"
     ]
    }
   ],
   "source": [
    "df.sort(F.size(F.col('courses')).desc()).show(truncate=0)"
   ]
  },
  {
   "cell_type": "markdown",
   "metadata": {
    "application/vnd.databricks.v1+cell": {
     "cellMetadata": {},
     "inputWidgets": {},
     "nuid": "d0584200-1995-4314-8242-07086cc75a1b",
     "showTitle": false,
     "title": ""
    }
   },
   "source": [
    "### Prioritized/custom sorting"
   ]
  },
  {
   "cell_type": "code",
   "execution_count": 0,
   "metadata": {
    "application/vnd.databricks.v1+cell": {
     "cellMetadata": {
      "byteLimit": 2048000,
      "rowLimit": 10000
     },
     "inputWidgets": {},
     "nuid": "9abdac29-8fcc-4633-b226-90b419a9f625",
     "showTitle": false,
     "title": ""
    }
   },
   "outputs": [
    {
     "output_type": "stream",
     "name": "stdout",
     "output_type": "stream",
     "text": [
      "+---+----------+---------+--------------------+--------------------+--------------------+-----------+-----------+-------------+-------------------+\n| id|first_name|last_name|               email|       phone_numbers|             courses|is_customer|amount_paid|customer_from|    last_updated_ts|\n+---+----------+---------+--------------------+--------------------+--------------------+-----------+-----------+-------------+-------------------+\n|  1|      John|      Doe|john.doe@example.com|{1234567890, 9876...|[Math, Science, H...|       true|      100.5|   2022-05-15|2024-05-18 11:28:25|\n|  8|   Jessica|   Wilson|jessica.wilson@ex...|{9999999999, 1111...|[Literature, Writ...|       true|      30.75|   2023-04-12|2024-05-18 11:28:25|\n|  2|      Jane|    Smith|jane.smith@exampl...|{9876543210, 1234...|[English, Art, Mu...|      false|        0.0|   2023-02-10|2024-05-18 11:28:25|\n| 10|  Jennifer|   Taylor|jennifer.taylor@e...|{7777777777, 8888...|[Computer Science...|       true|       50.0|   2023-01-05|2024-05-18 11:28:25|\n|  3|     Alice|  Johnson|alice.johnson@exa...|{5555555555, 4444...|[Physics, Chemist...|       true|       75.2|   2021-08-20|2024-05-18 11:28:25|\n|  7|     Sarah|    Davis|sarah.davis@examp...|{7777777777, 8888...|[Computer Science...|       true|       50.0|   2023-01-05|2024-05-18 11:28:25|\n|  5|     Emily|      Lee|emily.lee@example...|{9999999999, 1111...|[Literature, Writ...|       true|      30.75|   2023-04-12|2024-05-18 11:28:25|\n|  9|     David| Anderson|david.anderson@ex...|{5555555555, 4444...|[Physics, Chemist...|       true|       75.2|   2021-08-20|2024-05-18 11:28:25|\n|  4|    Robert|    Brown|robert.brown@exam...|{7777777777, 8888...|[Computer Science...|       true|       50.0|   2023-01-05|2024-05-18 11:28:25|\n|  6|   Michael|  Johnson|michael.johnson@e...|{5555555555, 4444...|[Physics, Chemist...|       true|       75.2|   2021-08-20|2024-05-18 11:28:25|\n+---+----------+---------+--------------------+--------------------+--------------------+-----------+-----------+-------------+-------------------+\n\n"
     ]
    }
   ],
   "source": [
    "custom_sort = F.when(F.col('first_name').startswith('J'), 1).otherwise(2)\n",
    "\n",
    "df.sort(custom_sort).show()"
   ]
  }
 ],
 "metadata": {
  "application/vnd.databricks.v1+notebook": {
   "dashboards": [],
   "environmentMetadata": null,
   "language": "python",
   "notebookMetadata": {
    "pythonIndentUnit": 4
   },
   "notebookName": "31_sort_a_df",
   "widgets": {}
  }
 },
 "nbformat": 4,
 "nbformat_minor": 0
}

{
 "cells": [
  {
   "cell_type": "code",
   "execution_count": 0,
   "metadata": {
    "application/vnd.databricks.v1+cell": {
     "cellMetadata": {
      "byteLimit": 2048000,
      "rowLimit": 10000
     },
     "inputWidgets": {},
     "nuid": "87bf2e34-98cc-4cb7-a0b7-d276cb652393",
     "showTitle": false,
     "title": ""
    }
   },
   "outputs": [
    {
     "output_type": "stream",
     "name": "stdout",
     "output_type": "stream",
     "text": [
      "+---+----+------------------------------------+\n|id |name|telephone                           |\n+---+----+------------------------------------+\n|1  |John|[1234567890, 9876543210]            |\n|2  |Jane|[5555555555]                        |\n|3  |Bob |[1111111111, 2222222222, 3333333333]|\n|4  |Dany|NULL                                |\n+---+----+------------------------------------+\n\n"
     ]
    }
   ],
   "source": [
    "users = [\n",
    "    {'id': 1, 'name': 'John', 'telephone': ['1234567890', '9876543210']},\n",
    "    {'id': 2, 'name': 'Jane', 'telephone': ['5555555555']},\n",
    "    {'id': 3, 'name': 'Bob', 'telephone': ['1111111111', '2222222222', '3333333333']},\n",
    "    {'id': 4, 'name': 'Dany', 'telephone': None}\n",
    "]\n",
    "\n",
    "from pyspark.sql import Row\n",
    "\n",
    "users_as_df_rows = [Row(**user) for user in users]\n",
    "\n",
    "df = spark.createDataFrame(users_as_df_rows)\n",
    "\n",
    "df.show(truncate=False)"
   ]
  },
  {
   "cell_type": "code",
   "execution_count": 0,
   "metadata": {
    "application/vnd.databricks.v1+cell": {
     "cellMetadata": {
      "byteLimit": 2048000,
      "rowLimit": 10000
     },
     "inputWidgets": {},
     "nuid": "f0ce3cb9-4b28-4c03-9baa-2b92968c0513",
     "showTitle": false,
     "title": ""
    }
   },
   "outputs": [
    {
     "output_type": "stream",
     "name": "stdout",
     "output_type": "stream",
     "text": [
      "root\n |-- id: long (nullable = true)\n |-- name: string (nullable = true)\n |-- telephone: array (nullable = true)\n |    |-- element: string (containsNull = true)\n\n"
     ]
    }
   ],
   "source": [
    "df.printSchema()"
   ]
  },
  {
   "cell_type": "markdown",
   "metadata": {
    "application/vnd.databricks.v1+cell": {
     "cellMetadata": {},
     "inputWidgets": {},
     "nuid": "065e6670-9c40-469f-b4ee-02646993f5f2",
     "showTitle": false,
     "title": ""
    }
   },
   "source": [
    "### explode"
   ]
  },
  {
   "cell_type": "code",
   "execution_count": 0,
   "metadata": {
    "application/vnd.databricks.v1+cell": {
     "cellMetadata": {
      "byteLimit": 2048000,
      "rowLimit": 10000
     },
     "inputWidgets": {},
     "nuid": "af38e147-1be3-4326-bd07-50b918fcec28",
     "showTitle": false,
     "title": ""
    }
   },
   "outputs": [
    {
     "output_type": "stream",
     "name": "stdout",
     "output_type": "stream",
     "text": [
      "+---+----+------------------------------------+----------+\n|id |name|telephone                           |phone     |\n+---+----+------------------------------------+----------+\n|1  |John|[1234567890, 9876543210]            |1234567890|\n|1  |John|[1234567890, 9876543210]            |9876543210|\n|2  |Jane|[5555555555]                        |5555555555|\n|3  |Bob |[1111111111, 2222222222, 3333333333]|1111111111|\n|3  |Bob |[1111111111, 2222222222, 3333333333]|2222222222|\n|3  |Bob |[1111111111, 2222222222, 3333333333]|3333333333|\n+---+----+------------------------------------+----------+\n\n"
     ]
    }
   ],
   "source": [
    "from pyspark.sql.functions import explode\n",
    "\n",
    "df.withColumn('phone', explode('telephone')).show(truncate=False)"
   ]
  },
  {
   "cell_type": "markdown",
   "metadata": {
    "application/vnd.databricks.v1+cell": {
     "cellMetadata": {},
     "inputWidgets": {},
     "nuid": "c3088c0f-10c5-4665-bead-d3ce4be0a43a",
     "showTitle": false,
     "title": ""
    }
   },
   "source": [
    "### explode_outer"
   ]
  },
  {
   "cell_type": "code",
   "execution_count": 0,
   "metadata": {
    "application/vnd.databricks.v1+cell": {
     "cellMetadata": {
      "byteLimit": 2048000,
      "rowLimit": 10000
     },
     "inputWidgets": {},
     "nuid": "06381532-b3b9-44df-9d70-877075e46a03",
     "showTitle": false,
     "title": ""
    }
   },
   "outputs": [
    {
     "output_type": "stream",
     "name": "stdout",
     "output_type": "stream",
     "text": [
      "+---+----+------------------------------------+----------+\n|id |name|telephone                           |phone     |\n+---+----+------------------------------------+----------+\n|1  |John|[1234567890, 9876543210]            |1234567890|\n|1  |John|[1234567890, 9876543210]            |9876543210|\n|2  |Jane|[5555555555]                        |5555555555|\n|3  |Bob |[1111111111, 2222222222, 3333333333]|1111111111|\n|3  |Bob |[1111111111, 2222222222, 3333333333]|2222222222|\n|3  |Bob |[1111111111, 2222222222, 3333333333]|3333333333|\n|4  |Dany|NULL                                |NULL      |\n+---+----+------------------------------------+----------+\n\n"
     ]
    }
   ],
   "source": [
    "from pyspark.sql.functions import explode_outer\n",
    "\n",
    "\n",
    "df.withColumn('phone', explode_outer('telephone')).show(truncate=False)"
   ]
  }
 ],
 "metadata": {
  "application/vnd.databricks.v1+notebook": {
   "dashboards": [],
   "environmentMetadata": null,
   "language": "python",
   "notebookMetadata": {
    "pythonIndentUnit": 4
   },
   "notebookName": "05_explode_and_explode_outer",
   "widgets": {}
  }
 },
 "nbformat": 4,
 "nbformat_minor": 0
}

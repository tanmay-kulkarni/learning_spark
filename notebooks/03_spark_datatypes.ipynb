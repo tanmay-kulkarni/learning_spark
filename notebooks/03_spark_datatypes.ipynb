{
 "cells": [
  {
   "cell_type": "markdown",
   "metadata": {
    "application/vnd.databricks.v1+cell": {
     "cellMetadata": {},
     "inputWidgets": {},
     "nuid": "13eeb1e2-a009-407a-9b3b-05d62ddc2cad",
     "showTitle": false,
     "title": ""
    }
   },
   "source": [
    "### Specify types with schema as a string"
   ]
  },
  {
   "cell_type": "code",
   "execution_count": 0,
   "metadata": {
    "application/vnd.databricks.v1+cell": {
     "cellMetadata": {
      "byteLimit": 2048000,
      "rowLimit": 10000
     },
     "inputWidgets": {},
     "nuid": "840a6b20-ca85-4d2e-a9ea-dfbb120c1ce0",
     "showTitle": false,
     "title": ""
    }
   },
   "outputs": [
    {
     "output_type": "stream",
     "name": "stdout",
     "output_type": "stream",
     "text": [
      "+---+----------+---------+-----------+---------------+-------------------+\n| id|first_name|last_name|is_customer|date_of_joining|       last_updated|\n+---+----------+---------+-----------+---------------+-------------------+\n|  1|    Tanmay| Kulkarni|       true|     2024-01-30|2023-03-10 11:16:56|\n|  2|    Tyrion|Lannister|      false|           NULL|2023-03-10 11:16:56|\n+---+----------+---------+-----------+---------------+-------------------+\n\n"
     ]
    }
   ],
   "source": [
    "import datetime\n",
    "\n",
    "users = [\n",
    "    (\n",
    "        1,\n",
    "        \"Tanmay\",\n",
    "        \"Kulkarni\",\n",
    "        True,\n",
    "        datetime.date(2024, 1, 30),\n",
    "        datetime.datetime(2023, 3, 10, 11, 16, 56),\n",
    "    ),\n",
    "    (\n",
    "        2,\n",
    "        \"Tyrion\",\n",
    "        \"Lannister\",\n",
    "        False,\n",
    "        None,\n",
    "        datetime.datetime(2023, 3, 10, 11, 16, 56),\n",
    "    ),\n",
    "]\n",
    "\n",
    "schema = \"\"\"\n",
    "    id INT,\n",
    "    first_name STRING,\n",
    "    last_name STRING,\n",
    "    is_customer BOOLEAN,\n",
    "    date_of_joining DATE,\n",
    "    last_updated TIMESTAMP\n",
    "\"\"\"\n",
    "\n",
    "df = spark.createDataFrame(users, schema)\n",
    "\n",
    "df.show()"
   ]
  },
  {
   "cell_type": "code",
   "execution_count": 0,
   "metadata": {
    "application/vnd.databricks.v1+cell": {
     "cellMetadata": {
      "byteLimit": 2048000,
      "rowLimit": 10000
     },
     "inputWidgets": {},
     "nuid": "f54357d6-262f-49fe-b1c3-7ccaa69fa44d",
     "showTitle": false,
     "title": ""
    }
   },
   "outputs": [
    {
     "output_type": "stream",
     "name": "stdout",
     "output_type": "stream",
     "text": [
      "root\n |-- id: integer (nullable = true)\n |-- first_name: string (nullable = true)\n |-- last_name: string (nullable = true)\n |-- is_customer: boolean (nullable = true)\n |-- date_of_joining: date (nullable = true)\n |-- last_updated: timestamp (nullable = true)\n\n"
     ]
    }
   ],
   "source": [
    "df.printSchema()"
   ]
  },
  {
   "cell_type": "markdown",
   "metadata": {
    "application/vnd.databricks.v1+cell": {
     "cellMetadata": {},
     "inputWidgets": {},
     "nuid": "478bcbc7-96d0-4bcb-b32b-9006b267b3b7",
     "showTitle": false,
     "title": ""
    }
   },
   "source": [
    "### Specify types using Spark types"
   ]
  },
  {
   "cell_type": "code",
   "execution_count": 0,
   "metadata": {
    "application/vnd.databricks.v1+cell": {
     "cellMetadata": {
      "byteLimit": 2048000,
      "rowLimit": 10000
     },
     "inputWidgets": {},
     "nuid": "3d97126f-63bc-4fc3-9393-53e7df0c49e8",
     "showTitle": false,
     "title": ""
    }
   },
   "outputs": [
    {
     "output_type": "stream",
     "name": "stdout",
     "output_type": "stream",
     "text": [
      "+---+----------+---------+-----------+---------------+-------------------+\n| id|first_name|last_name|is_customer|date_of_joining|       last_updated|\n+---+----------+---------+-----------+---------------+-------------------+\n|  1|    Tanmay| Kulkarni|       true|     2024-01-30|2023-03-10 11:16:56|\n|  2|    Tyrion|Lannister|      false|           NULL|2023-03-10 11:16:56|\n+---+----------+---------+-----------+---------------+-------------------+\n\n"
     ]
    }
   ],
   "source": [
    "from pyspark.sql.types import (\n",
    "    StructType,\n",
    "    StructField,\n",
    "    IntegerType,\n",
    "    StringType,\n",
    "    BooleanType,\n",
    "    DateType,\n",
    "    TimestampType,\n",
    ")\n",
    "\n",
    "fields = StructType(\n",
    "    [\n",
    "        StructField(\"id\", IntegerType()),\n",
    "        StructField(\"first_name\", StringType()),\n",
    "        StructField(\"last_name\", StringType()),\n",
    "        StructField(\"is_customer\", BooleanType()),\n",
    "        StructField(\"date_of_joining\", DateType()),\n",
    "        StructField(\"last_updated\", TimestampType()),\n",
    "    ]\n",
    ")\n",
    "\n",
    "\n",
    "df = spark.createDataFrame(users, fields)\n",
    "\n",
    "df.show()"
   ]
  },
  {
   "cell_type": "markdown",
   "metadata": {
    "application/vnd.databricks.v1+cell": {
     "cellMetadata": {},
     "inputWidgets": {},
     "nuid": "4d5765ea-8ba2-4741-b0c4-730236012d6b",
     "showTitle": false,
     "title": ""
    }
   },
   "source": [
    "### Convert a spark dataframe to a pandas dataframe"
   ]
  },
  {
   "cell_type": "code",
   "execution_count": 0,
   "metadata": {
    "application/vnd.databricks.v1+cell": {
     "cellMetadata": {
      "byteLimit": 2048000,
      "rowLimit": 10000
     },
     "inputWidgets": {},
     "nuid": "85fb8e71-2534-40bb-a9fd-9bebf9d06d57",
     "showTitle": false,
     "title": ""
    }
   },
   "outputs": [
    {
     "output_type": "execute_result",
     "data": {
      "text/html": [
       "<div>\n",
       "<style scoped>\n",
       "    .dataframe tbody tr th:only-of-type {\n",
       "        vertical-align: middle;\n",
       "    }\n",
       "\n",
       "    .dataframe tbody tr th {\n",
       "        vertical-align: top;\n",
       "    }\n",
       "\n",
       "    .dataframe thead th {\n",
       "        text-align: right;\n",
       "    }\n",
       "</style>\n",
       "<table border=\"1\" class=\"dataframe\">\n",
       "  <thead>\n",
       "    <tr style=\"text-align: right;\">\n",
       "      <th></th>\n",
       "      <th>id</th>\n",
       "      <th>first_name</th>\n",
       "      <th>last_name</th>\n",
       "      <th>is_customer</th>\n",
       "      <th>date_of_joining</th>\n",
       "      <th>last_updated</th>\n",
       "    </tr>\n",
       "  </thead>\n",
       "  <tbody>\n",
       "    <tr>\n",
       "      <th>0</th>\n",
       "      <td>1</td>\n",
       "      <td>Tanmay</td>\n",
       "      <td>Kulkarni</td>\n",
       "      <td>True</td>\n",
       "      <td>2024-01-30</td>\n",
       "      <td>2023-03-10 11:16:56</td>\n",
       "    </tr>\n",
       "    <tr>\n",
       "      <th>1</th>\n",
       "      <td>2</td>\n",
       "      <td>Tyrion</td>\n",
       "      <td>Lannister</td>\n",
       "      <td>False</td>\n",
       "      <td>None</td>\n",
       "      <td>2023-03-10 11:16:56</td>\n",
       "    </tr>\n",
       "  </tbody>\n",
       "</table>\n",
       "</div>"
      ],
      "text/plain": [
       "   id first_name  last_name  is_customer date_of_joining        last_updated\n",
       "0   1     Tanmay   Kulkarni         True      2024-01-30 2023-03-10 11:16:56\n",
       "1   2     Tyrion  Lannister        False            None 2023-03-10 11:16:56"
      ]
     },
     "execution_count": 15,
     "metadata": {},
     "output_type": "execute_result"
    }
   ],
   "source": [
    "pandas_df = df.toPandas()\n",
    "pandas_df.head()"
   ]
  }
 ],
 "metadata": {
  "application/vnd.databricks.v1+notebook": {
   "dashboards": [],
   "environmentMetadata": null,
   "language": "python",
   "notebookMetadata": {
    "pythonIndentUnit": 4
   },
   "notebookName": "03_spark_datatypes",
   "widgets": {}
  }
 },
 "nbformat": 4,
 "nbformat_minor": 0
}
